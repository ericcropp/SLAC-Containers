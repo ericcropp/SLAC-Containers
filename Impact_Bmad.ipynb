{
 "cells": [
  {
   "cell_type": "markdown",
   "id": "55759541-1cef-42d5-a0a9-5bc345f38250",
   "metadata": {},
   "source": [
    "## Timing"
   ]
  },
  {
   "cell_type": "code",
   "execution_count": 1,
   "id": "ae65cbdc-b1dd-4d5e-a9ba-8d1443fc8886",
   "metadata": {},
   "outputs": [],
   "source": [
    "import time\n",
    "st=time.time()"
   ]
  },
  {
   "cell_type": "markdown",
   "id": "f5ba65fc-d9f8-46d3-b0fd-fa0a9a817c18",
   "metadata": {},
   "source": [
    "This notebook runs Lume-Impact to L0AFEND; Bmad from there."
   ]
  },
  {
   "cell_type": "markdown",
   "id": "de80a39d-6b37-437a-aaf3-113ab2c11eb0",
   "metadata": {},
   "source": [
    "## Import Statements"
   ]
  },
  {
   "cell_type": "code",
   "execution_count": 2,
   "id": "df715a24-0e70-45bd-9937-7e3e1df44bdd",
   "metadata": {},
   "outputs": [],
   "source": [
    "import numpy as np\n",
    "from distgen import Generator\n",
    "from impact import Impact, run_impact_with_distgen, evaluate_impact_with_distgen\n",
    "from impact.autophase import autophase_and_scale\n",
    "import os\n",
    "from pmd_beamphysics import single_particle, ParticleGroup\n",
    "\n",
    "from pytao import Tao\n",
    "%matplotlib inline\n",
    "import matplotlib.pyplot as plt\n",
    "import matplotlib.cm as cm\n",
    "import matplotlib.patches as mpatches\n",
    "import re\n",
    "import io\n",
    "from os import path,environ\n",
    "import pandas as pd\n",
    "import h5py\n",
    "import pmd_beamphysics\n",
    "import glob\n",
    "import concurrent.futures\n",
    "import copy\n",
    "import yaml\n",
    "import pickle\n",
    "\n",
    "\n",
    "from pmd_beamphysics.statistics import resample_particles\n",
    "\n",
    "%run -i helper_funcs.py"
   ]
  },
  {
   "cell_type": "markdown",
   "id": "7e39e26e-f8b9-4e2e-b602-43befe7eb167",
   "metadata": {},
   "source": [
    "## Set Environment Variables"
   ]
  },
  {
   "cell_type": "code",
   "execution_count": 3,
   "id": "0e2fb66a-c29c-4f40-877d-5be5943c9c42",
   "metadata": {},
   "outputs": [
    {
     "name": "stdout",
     "output_type": "stream",
     "text": [
      "/sdf/home/c/cropp/facet2-lattice/\n",
      "Make sure enviornment was set!:   /sdf/home/c/cropp/facet2-lattice/\n",
      "/sdf/scratch/users/c/cropp\n"
     ]
    }
   ],
   "source": [
    "os.environ['FACET2_LATTICE']=os.path.expanduser('~/facet2-lattice/')\n",
    "!echo $FACET2_LATTICE\n",
    "print('Make sure enviornment was set!:  ', os.environ['FACET2_LATTICE']) \n",
    "!echo $SCRATCH"
   ]
  },
  {
   "cell_type": "markdown",
   "id": "95d90e87-4cd1-4a75-8cbc-0f4abb9792c6",
   "metadata": {},
   "source": [
    "## Define Inputs\n"
   ]
  },
  {
   "cell_type": "code",
   "execution_count": 4,
   "id": "be469951-7e70-457a-a99f-171f98aaba27",
   "metadata": {},
   "outputs": [],
   "source": [
    "NAME = 'test_s2e' #folder to be created that holds all results\n",
    "FILEPATH='/sdf/data/ad/ard/u/cropp/Sol_Scan_FACET/' # Above folder created in this location\n",
    "filename='Sol_Scan1.json' #Solenoid scan output name\n",
    "\n",
    "GFILE = os.path.expandvars('distgen.yaml') # Distgen input file\n",
    "YFILE = os.path.expandvars('ImpactT.yaml') # To be created based on template and updated for final run\n",
    "YFILE_TEMPLATE = os.path.expandvars('ImpactT-template.yaml') #Initial settings\n",
    "\n",
    "L0AF_E_Gain=62924849.46502216 # Calculated L0AF energy gain from January 2024 nominal power readbacks\n",
    "L0BF_E_Gain=60473730.43463376 # Calculated L0BF energy gain from January 2024 nominal power readbacks\n",
    "sim_sol_conv=1.6 #Convert from PV value to T/m (simulation input)\n",
    "L0AF_Phase=0 #L0AF phase; 0 is max E phase\n",
    "\n",
    "Bmad_Settings={}\n",
    "# Define energy setpoints at exit of L0 L1 L2 in eV\n",
    "Bmad_Settings['L0energy'] = 0.125e9;    \n",
    "Bmad_Settings['L1energy'] = 0.338e9;\n",
    "Bmad_Settings['L2energy'] = 4.5e9;\n",
    "\n",
    "# Define L1 and L2 phases in deg\n",
    "Bmad_Settings['L1phase'] = -17;\n",
    "Bmad_Settings['L2phase'] = -41.5;\n",
    "\n",
    "#Injector quads\n",
    "Bmad_Settings['QA10361:b1_gradient'] = 2.985123\t\n",
    "Bmad_Settings['QA10371:b1_gradient'] = -2.824138\t\n",
    "Bmad_Settings['QE10425:b1_gradient'] = 5.964119\t\n",
    "Bmad_Settings['QE10441:b1_gradient'] = -6.215696\t\n",
    "Bmad_Settings['QE10511:b1_gradient'] = 2.41815\t\n",
    "Bmad_Settings['QE10525:b1_gradient'] = 3.240741\t\n",
    "Bmad_Settings['L0BF_E_Gain'] = L0BF_E_Gain\n",
    "Bmad_Settings['L0BF_Phase:theta0_deg'] = -10;\n",
    "\n",
    "#CSR for Bmad\n",
    "Bmad_CSR_Command = 'csroff' #or csron\n",
    "\n",
    "#Bmad output locations\n",
    "locations = ['L0AFEND','L0BFEND','BC11CBEG','BC11CEND',\n",
    "             'BEGBC14_1','ENDBC14_2','BEGBC20','PENT']; #Bmad output locations\n",
    "\n",
    "#Impact settings\n",
    "SETTINGS0 = {\n",
    "    'numprocs':100,\n",
    "    'header:Nx':16,\n",
    "    'header:Ny':16,  \n",
    "    'header:Nz':16, \n",
    "    'stop_1:s':4.2,\n",
    "    'distgen:n_particle':2e4,\n",
    "    'distgen:xy_dist:type': 'file2d',\n",
    "    'distgen:xy_dist:file':'VCC.jpeg',\n",
    "    'GUNF:theta0_deg':26.8-90.5,#30 degrees-adjustment for phase def.\n",
    "    'GUNF:rf_field_scale': 123/2.44885*1e6,\n",
    "    'SOL10111:solenoid_field_scale':-0.36/1.6,\n",
    "    'PR10241:sample_frequency':1,\n",
    "    'workdir':os.path.expandvars('$SCRATCH'),\n",
    "    'command': '/sdf/home/c/cropp/conda/envs/xopt/bin/ImpactTexe',    \n",
    "    'command_mpi': '/sdf/home/c/cropp/conda/envs/xopt/bin/ImpactTexe-mpi',\n",
    "    'mpi_run':'salloc --partition milano --account ad:beamphysics -N 1 -n {nproc} /usr/lib64/openmpi/bin/mpirun -n {nproc} {command_mpi}'\n",
    "}\n"
   ]
  },
  {
   "cell_type": "markdown",
   "id": "a446a657-45be-4127-ba93-ac33af6297e1",
   "metadata": {},
   "source": [
    "## Copy Impact Input Files to Directory"
   ]
  },
  {
   "cell_type": "code",
   "execution_count": 5,
   "id": "2356a2bc-692b-4dbd-91b3-f928c07023f2",
   "metadata": {},
   "outputs": [],
   "source": [
    "!cp $FACET2_LATTICE/impact/models/f2e_inj/v0/ImpactT_template.in .\n",
    "!cp $FACET2_LATTICE/impact/models/f2e_inj/v0/rfdata201 .\n",
    "!cp $FACET2_LATTICE/impact/models/f2e_inj/v0/rfdata102 .\n",
    "!cp $FACET2_LATTICE/impact/models/f2e_inj/v0/rfdata4 .\n",
    "!cp $FACET2_LATTICE/impact/models/f2e_inj/v0/rfdata5 .\n",
    "!cp $FACET2_LATTICE/impact/models/f2e_inj/v0/rfdata6 .\n",
    "!cp $FACET2_LATTICE/impact/models/f2e_inj/v0/rfdata7 ."
   ]
  },
  {
   "cell_type": "markdown",
   "id": "21f69fad-6d9a-479a-b01c-daaa141d25d5",
   "metadata": {},
   "source": [
    "## Update Distgen and Impact Objects"
   ]
  },
  {
   "cell_type": "code",
   "execution_count": 6,
   "id": "e59a09f3-d7ea-4d69-bdf4-69ece8f1bddf",
   "metadata": {},
   "outputs": [],
   "source": [
    "I = Impact.from_yaml(YFILE_TEMPLATE)\n",
    "G = Generator(GFILE)\n",
    "I=update_impact(I,SETTINGS0)\n"
   ]
  },
  {
   "cell_type": "markdown",
   "id": "6cbd1267-6a48-45e2-a9b3-bb069b9f4c11",
   "metadata": {},
   "source": [
    "## Make a copy of the Impact object and track it to determine energy at exit of gun\n",
    "Do not track on the original Impact object; boundary conditions will not match the desired from above"
   ]
  },
  {
   "cell_type": "code",
   "execution_count": 7,
   "id": "5dde901d-fdc1-478f-aaf9-694753c28b9a",
   "metadata": {},
   "outputs": [
    {
     "name": "stdout",
     "output_type": "stream",
     "text": [
      "6277840.0749794515\n"
     ]
    }
   ],
   "source": [
    "I2=copy.deepcopy(I)\n",
    "\n",
    "P0 = pmd_beamphysics.single_particle(pz=1e-15, z=1e-15)\n",
    "\n",
    "\n",
    "I2.numprocs=1\n",
    "t=I2.track(P0,s=0.9)\n",
    "\n",
    "E=t['mean_energy']\n",
    "print(E)"
   ]
  },
  {
   "cell_type": "markdown",
   "id": "8d6ea390-483e-481e-8b6a-92747339eb80",
   "metadata": {},
   "source": [
    "## Autophase & Scale LOAF"
   ]
  },
  {
   "cell_type": "code",
   "execution_count": 8,
   "id": "388609fc-7818-41a4-b99d-e621c44de624",
   "metadata": {},
   "outputs": [
    {
     "name": "stdout",
     "output_type": "stream",
     "text": [
      "69202689.54000162\n",
      "Copied initial Impact object. \n",
      "Phasing L0AF_phase by changing theta0_deg\n",
      "Scaling L0AF_scale by changing rf_field_scale\n",
      "Bounds: 1.058398, 4.101254 m\n",
      "Tracking initial particles to s = 1.058398\n",
      "Initial particle:  1.05790393743 6277840.0749794515\n",
      "Disabling GUNF\n",
      "Disabling SOL10111\n",
      "Disabling L0BF_entrance\n",
      "Disabling L0BF_body_1\n",
      "Disabling L0BF_body_2\n",
      "Disabling L0BF_exit\n",
      "Default brent2 algorithm\n",
      "Phase: 180, Scale: 10000000.0, 13.884908067191025 MeV\n",
      "Phase: 180, Scale: 10000000.0, 13.884908067191025 MeV\n",
      "Phase: 42.49224000000004, Scale: 10000000.0, 19.472839721833132 MeV\n",
      "Phase: 264.9844890561601, Scale: 10000000.0, 9.13965596507301 MeV\n",
      "Phase: 42.49223440298533, Scale: 10000000.0, 19.47284119061983 MeV\n",
      "Phase: 264.9844709438398, Scale: 10000000.0, 9.139652577562334 MeV\n",
      "Phase: 222.4922627871657, Scale: 10000000.0, 9.516210148212714 MeV\n",
      "Phase: 127.47670402554945, Scale: 10000000.0, 8.61015493402449 MeV\n",
      "Phase: 333.73836524477724, Scale: 10000000.0, 24.070882060245747 MeV\n",
      "Phase: 291.24613647345313, Scale: 10000000.0, 15.320892337762597 MeV\n",
      "Phase: 5.631661451843684e-06, Scale: 10000000.0, 25.544278113275038 MeV\n",
      "Phase: 356.56173431106777, Scale: 10000000.0, 25.572697335194018 MeV\n",
      "Phase: 357.63829604538887, Scale: 10000000.0, 25.571255998740295 MeV\n",
      "Phase: 355.48517257674666, Scale: 10000000.0, 25.567372592870626 MeV\n",
      "Step 1 phasing found: 356.56173431106777\n",
      "Phase: 356.56173431106777, Scale: 10000000.0, 25.572697335194018 MeV\n",
      "Phase: 356.56173431106777, Scale: 100000000.0, 198.47892246873644 MeV\n",
      "Phase: 356.56173431106777, Scale: 32709993.78651599, 69.28291011583114 MeV\n",
      "Phase: 356.56173431106777, Scale: 32668314.538973037, 69.20281258419999 MeV\n",
      "Phase: 356.56173431106777, Scale: 32651980.38170355, 69.17142218402681 MeV\n",
      "Step 2  scale found: 32668314.538973037\n",
      "Phase: 355.56173431106777, Scale: 32668314.538973037, 69.122174694312 MeV\n",
      "Phase: 357.56173431106777, Scale: 32668314.538973037, 69.26447745130976 MeV\n",
      "Phase: 0.7978023110677555, Scale: 32668314.538973037, 69.33336605672213 MeV\n",
      "Phase: 0.29745776986538885, Scale: 32668314.538973037, 69.33580012153932 MeV\n",
      "Phase: 359.2525044232023, Scale: 32668314.538973037, 69.32542849645333 MeV\n",
      "Phase: 359.8983211198539, Scale: 32668314.538973037, 69.33430423131084 MeV\n",
      "Phase: 0.29378997314518074, Scale: 32668314.538973037, 69.33580025899593 MeV\n",
      "Phase: 0.2934296793451949, Scale: 32668314.538973037, 69.33580025848497 MeV\n",
      "Phase: 0.29415026694516655, Scale: 32668314.538973037, 69.33580025695197 MeV\n",
      "Step 3 phase found:  0.29378997314518074\n",
      "Phase: 0.29378997314518074, Scale: 10000000.0, 25.538626081285063 MeV\n",
      "Phase: 0.29378997314518074, Scale: 100000000.0, 199.23258408306097 MeV\n",
      "Phase: 0.29378997314518074, Scale: 32624654.055291373, 69.25152043877529 MeV\n",
      "Phase: 0.29378997314518074, Scale: 32599380.455631554, 69.20273358600276 MeV\n",
      "Phase: 0.29378997314518074, Scale: 32599357.638011366, 69.20268954010562 MeV\n",
      "Phase: 0.29378997314518074, Scale: 32599341.33833255, 69.2026580758306 MeV\n",
      "Step 4 scale found:  32599357.638011366\n",
      "Set Phase: 0.29378997314518074, Scale: 32599357.638011366\n"
     ]
    }
   ],
   "source": [
    "I['L0AF_scale']['rf_field_scale']=30e6\n",
    "I['L0AF_phase']['theta0_deg']=29\n",
    "I.numprocs=1\n",
    "\n",
    "target_L0AF=E+L0AF_E_Gain\n",
    "\n",
    "print(target_L0AF)\n",
    "\n",
    "res_L0AF = impact.autophase.autophase_and_scale(I, phase_ele_name='L0AF_phase', scale_ele_name='L0AF_scale', target=target_L0AF, scale_range=(10e6, 100e6), initial_particles=P0, verbose=True)\n"
   ]
  },
  {
   "cell_type": "markdown",
   "id": "74588fa4-f832-4b59-a9d1-7113bed1e3f3",
   "metadata": {},
   "source": [
    "## Adjust phase given settings specified above"
   ]
  },
  {
   "cell_type": "code",
   "execution_count": 9,
   "id": "bea60f77-ed55-4116-be63-47290fd4e650",
   "metadata": {},
   "outputs": [],
   "source": [
    "I['L0AF_phase']['theta0_deg']=I['L0AF_phase']['theta0_deg']-L0AF_Phase\n",
    "\n"
   ]
  },
  {
   "cell_type": "markdown",
   "id": "74e4bd6f-4b60-428b-84fb-dab5f0264915",
   "metadata": {},
   "source": [
    "## Adjust yaml file with autophase and scale information above \n",
    "Relevant for the solenoid scan below"
   ]
  },
  {
   "cell_type": "code",
   "execution_count": 10,
   "id": "3009453c-3bac-456c-b240-368f29307290",
   "metadata": {},
   "outputs": [],
   "source": [
    "with open(YFILE_TEMPLATE, 'r') as file:\n",
    "    impact_input = yaml.safe_load(file)"
   ]
  },
  {
   "cell_type": "code",
   "execution_count": 11,
   "id": "4b2bc53d-6d4a-4efd-b494-ce1102e25bfe",
   "metadata": {},
   "outputs": [],
   "source": [
    "impact_input['group']['L0AF_phase']['value']=float(I['L0AF_phase']['theta0_deg'])\n",
    "impact_input['group']['L0AF_scale']['value']=float(I['L0AF_scale']['rf_field_scale'])"
   ]
  },
  {
   "cell_type": "code",
   "execution_count": 12,
   "id": "a789f758-f243-4b21-baee-8c15ba7dfaa5",
   "metadata": {},
   "outputs": [],
   "source": [
    "with open(YFILE, 'w') as file:\n",
    "    yaml.dump(impact_input, file)"
   ]
  },
  {
   "cell_type": "markdown",
   "id": "a03361ff-8ddd-42e7-8125-2b239ae040d5",
   "metadata": {},
   "source": [
    "## Run Solenoid Scan & Select minimum emittance\r\n",
    "with 100 particles and find minimum for emittance"
   ]
  },
  {
   "cell_type": "code",
   "execution_count": 13,
   "id": "3929a8b1-3079-4e65-b4d3-43508ac77c6a",
   "metadata": {},
   "outputs": [
    {
     "name": "stdout",
     "output_type": "stream",
     "text": [
      "supports_batch_generation=True supports_multi_objective=True vocs=VOCS(variables={'SOL10111:solenoid_field_scale': [-0.4, -0.1]}, constraints={'end_sigma_x': ['LESS_THAN', 0.015]}, objectives={'end_norm_emit_x': 'MINIMIZE'}, constants={}, observables=[]) data=None\n"
     ]
    }
   ],
   "source": [
    "# Set up xopt object\n",
    "vocs=xopt.vocs.VOCS(\n",
    "    variables={'SOL10111:solenoid_field_scale':[-0.4, -0.1]},\n",
    "    objectives= {'end_norm_emit_x': 'MINIMIZE'},\n",
    "    constraints={'end_sigma_x': ['LESS_THAN', 1.5e-02]}          \n",
    ")\n",
    "\n",
    "evaluator=xopt.evaluator.Evaluator(function=impact.impact_distgen.evaluate_impact_with_distgen, \n",
    "                                   function_kwargs={'workdir': os.path.expandvars('$SCRATCH'),\n",
    "                                                    'impact_config': YFILE,\n",
    "                                                    'distgen_input_file': GFILE,\n",
    "                                                    'archive_path': FILEPATH})\n",
    "generator=xopt.generators.RandomGenerator(vocs=vocs)\n",
    "X=Xopt(evaluator=evaluator,generator=generator,vocs=vocs)\n",
    "# X.evaluator.function\n",
    "X.evaluator.executor=ProcessPoolExecutor()\n",
    "print(X.generator)"
   ]
  },
  {
   "cell_type": "code",
   "execution_count": 14,
   "id": "2f3f314f-6a47-4298-9252-03ff2bccc439",
   "metadata": {},
   "outputs": [
    {
     "name": "stdout",
     "output_type": "stream",
     "text": [
      "50\n"
     ]
    }
   ],
   "source": [
    "#define solenoid settings\n",
    "param=['SOL10111:solenoid_field_scale']\n",
    "sols1=np.array(np.arange(0.39,0.44,0.001))*-1\n",
    "\n",
    "print(len(sols1))"
   ]
  },
  {
   "cell_type": "code",
   "execution_count": 15,
   "id": "b872d555-136c-4bfc-88bd-aba672c51f30",
   "metadata": {},
   "outputs": [],
   "source": [
    "# define parameter scan\n",
    "RESULTS = {}\n",
    "SETTINGS1=copy.deepcopy(SETTINGS0)\n",
    "SETTINGS1['numprocs']=1\n",
    "SETTINGS1['header:Nx']=8\n",
    "SETTINGS1['header:Ny']=8  \n",
    "SETTINGS1['header:Nz']=8 \n",
    "SETTINGS1['distgen:n_particle']=2000\n",
    "# print(SETTINGS1)\n",
    "solssols=sols1/sim_sol_conv\n",
    "# x=[list(solssols.astype(float)),list(gun.astype(float)),list(fids.astype(float))]\n",
    "x=[list(solssols)]\n",
    "vardict={}\n",
    "for i in range(len(param)):\n",
    "    vardict[param[i]]=x[i]\n",
    "import itertools\n",
    "# print(list(vardict.values()))\n",
    "xlist=[element for element in itertools.product(*list(vardict.values()))]\n",
    "# print(xlist)"
   ]
  },
  {
   "cell_type": "code",
   "execution_count": 16,
   "id": "a55698b3-866d-4736-a632-e4d10d4505c9",
   "metadata": {},
   "outputs": [],
   "source": [
    "# Replace solenoids with scan values\n",
    "settings=pd.DataFrame(SETTINGS1,index=[0])\n",
    "settings=settings.loc[settings.index.repeat(len(xlist))].reset_index(drop=True)\n",
    "for i in range(len(param)):\n",
    "    settings[param[i]]=list(zip(*xlist))[i]\n"
   ]
  },
  {
   "cell_type": "code",
   "execution_count": 17,
   "id": "056f01ea-fcc4-4b97-beed-b815607bd34a",
   "metadata": {},
   "outputs": [
    {
     "name": "stdout",
     "output_type": "stream",
     "text": [
      "/sdf/data/ad/ard/u/cropp/Sol_Scan_FACET/test_s2e\n",
      "mkdir: cannot create directory ‘/sdf/data/ad/ard/u/cropp/Sol_Scan_FACET/test_s2e’: File exists\n",
      "CPU times: user 77.9 ms, sys: 558 ms, total: 636 ms\n",
      "Wall time: 1min 12s\n"
     ]
    }
   ],
   "source": [
    "%%time\n",
    "results={}\n",
    "results=X.evaluate_data(settings)\n",
    "filepath=FILEPATH+NAME\n",
    "print(filepath)\n",
    "!mkdir {filepath}\n",
    "results.to_json(filepath+'/'+filename)"
   ]
  },
  {
   "cell_type": "code",
   "execution_count": 18,
   "id": "0e96004c-e3d7-4389-a3df-b87e03759a37",
   "metadata": {},
   "outputs": [
    {
     "data": {
      "text/plain": [
       "[<matplotlib.lines.Line2D at 0x7f0934dddb80>]"
      ]
     },
     "execution_count": 18,
     "metadata": {},
     "output_type": "execute_result"
    },
    {
     "data": {
      "image/png": "[encoded data removed]",
      "text/plain": [
       "<Figure size 640x480 with 1 Axes>"
      ]
     },
     "metadata": {},
     "output_type": "display_data"
    }
   ],
   "source": [
    "plt.plot(results['SOL10111:solenoid_field_scale']*sim_sol_conv,results['end_norm_emit_x'])\n",
    "plt.plot(results['SOL10111:solenoid_field_scale']*sim_sol_conv,results['end_norm_emit_y'])\n",
    "\n"
   ]
  },
  {
   "cell_type": "code",
   "execution_count": 19,
   "id": "f0524bc4-f585-499d-bb58-493043134031",
   "metadata": {},
   "outputs": [
    {
     "name": "stdout",
     "output_type": "stream",
     "text": [
      "-0.42100000000000004\n"
     ]
    }
   ],
   "source": [
    "idxx=np.argmin(results['end_norm_emit_x'])\n",
    "# print(results['SOL10111:solenoid_field_scale'])\n",
    "t1=results['SOL10111:solenoid_field_scale'][idxx]*sim_sol_conv\n",
    "\n",
    "idxy=np.argmin(results['end_norm_emit_y'])\n",
    "t2=results['SOL10111:solenoid_field_scale'][idxy]*sim_sol_conv\n",
    "\n",
    "t=(t1+t2)/2\n",
    "print(t)"
   ]
  },
  {
   "cell_type": "markdown",
   "id": "81b16f46-ff2f-420c-9724-1be8de721ddf",
   "metadata": {},
   "source": [
    "## Make initial distribution\n"
   ]
  },
  {
   "cell_type": "code",
   "execution_count": 20,
   "id": "72fbddd4-0993-4dd1-ba62-b38d64b420b3",
   "metadata": {},
   "outputs": [
    {
     "name": "stdout",
     "output_type": "stream",
     "text": [
      "Setting distgen n_particle = 20000.0\n",
      "Setting distgen xy_dist:type = file2d\n",
      "Setting distgen xy_dist:file = VCC.jpeg\n",
      "Distribution format: None\n",
      "   Warning: no output file specified, defaulting to \"None\".\n",
      "Output file: None\n",
      "\n",
      "Creating beam distribution....\n",
      "   Beam starting from: cathode\n",
      "   Total charge: 2000 pC.\n",
      "   Number of macroparticles: 20000.\n",
      "   xy distribution: 2D File PDF\n",
      "      2D pdf file: VCC.jpeg\n",
      "      min_x = -2.808 mm, max_x = 2.808 mm\n",
      "      min_y = -2.808 mm, max_y = 2.808 mm\n",
      "   t distribution: Gaussian\n",
      "      avg_t = 0 ps, sigma_t = 1.170 ps\n",
      "      Left n_sigma_cutoff = 3, Right n_sigma_cutoff = -3\n",
      "   px distribution: Gaussian\n",
      "      avg_px = 0 eV/c, sigma_px = 452.106 eV/c\n",
      "   py distribution: Gaussian\n",
      "      avg_py = 0 eV/c, sigma_py = 452.106 eV/c\n",
      "   pz distribution: Gaussian\n",
      "      avg_pz = 0 eV/c, sigma_pz = 452.106 eV/c\n",
      "   Shifting avg_x = -0.455644 mm -> -0.455644 mm\n",
      "   Shifting avg_y = 0.301711 mm -> 0.301711 mm\n",
      "   Shifting avg_px = -0.199084 eV/c -> 0 eV/c\n",
      "   Scaling sigma_px = 452.061 eV/c -> 452.106 eV/c\n",
      "   Shifting avg_py = -0.279532 eV/c -> 0 eV/c\n",
      "   Scaling sigma_py = 452.063 eV/c -> 452.106 eV/c\n",
      "   Shifting avg_pz = -0.388872 eV/c -> 0 eV/c\n",
      "   Scaling sigma_pz = 452.05 eV/c -> 452.106 eV/c\n",
      "   Shifting avg_t = -0.000496044 ps -> 0 ps\n",
      "   Scaling sigma_t = 1.15419 ps -> 1.1543 ps\n",
      "   Cathode start: fixing pz momenta to forward hemisphere\n",
      "      avg_pz -> 360.749 eV/c, sigma_pz -> 272.507 eV/c\n",
      "...done. Time Elapsed: 412.759 ms.\n",
      "\n",
      "   Created particles in .particles: \n",
      "   ParticleGroup with 20000 particles with total charge 1.9999999999999997e-09 C\n"
     ]
    }
   ],
   "source": [
    "G=update_distgen(G,SETTINGS0,verbose=True)\n",
    "G.input\n",
    "G.run()\n",
    "P = G.particles\n",
    "I.initial_particles = P"
   ]
  },
  {
   "cell_type": "markdown",
   "id": "47c613f0-ea8d-470d-865a-3924fc869433",
   "metadata": {},
   "source": [
    "## Update Impact Object with CPU number and Solenoid\n"
   ]
  },
  {
   "cell_type": "code",
   "execution_count": 21,
   "id": "c33416aa-b714-42e9-8d9b-34e80905e4c1",
   "metadata": {},
   "outputs": [
    {
     "name": "stdout",
     "output_type": "stream",
     "text": [
      "================ Impact-T Summary ================    \n",
      "10000 particles\n",
      "1 bunch of electrons\n",
      "total charge: 249.99999999999997 pC\n",
      "Distribution type: read\n",
      "Cathode start at z = 0 m\n",
      "   emission time: 1.4e-11 s\n",
      "   image charges neglected after z = 0.02 m\n",
      "Processor domain: 8 x 12 = 96 CPUs\n",
      "Space charge grid: 16 x 16 x 16\n",
      "Maximum time steps: 1000000\n",
      "Reference Frequency: 2856000000.0 Hz\n",
      "Initial reference time: 0.0 s\n",
      "Simulation starting from the beginning\n",
      "=================================================\n",
      "Impact-T configured in /sdf/scratch/users/c/cropp/tmp8_1z1iq6\n"
     ]
    }
   ],
   "source": [
    "I.numprocs=SETTINGS0['numprocs']\n",
    "\n",
    "I['SOL10111:solenoid_field_scale']=t/1.6\n",
    "print(I)"
   ]
  },
  {
   "cell_type": "markdown",
   "id": "bca60194-e8a7-493d-aa17-c8e7fda22924",
   "metadata": {},
   "source": [
    "## Run IMPACT-T"
   ]
  },
  {
   "cell_type": "code",
   "execution_count": 22,
   "id": "3916ffca-45ba-4b05-b0a4-f1f3296ef662",
   "metadata": {},
   "outputs": [
    {
     "name": "stdout",
     "output_type": "stream",
     "text": [
      "Running Impact-T in /sdf/scratch/users/c/cropp/tmpgff8hl1d\n",
      "salloc --partition milano --account ad:beamphysics -N 1 -n 96 /usr/lib64/openmpi/bin/mpirun -n 96 /sdf/home/c/cropp/conda/envs/xopt/bin/ImpactTexe-mpi\n",
      "writing 20000 particles to /sdf/scratch/users/c/cropp/tmpgff8hl1d/partcl.data\n",
      "Cathode start with cathode_kinetic_energy_ref = 1.0 eV\n",
      "Cathode start: Replaced Np with 20000 according to initial particles\n",
      "Cathode start: Replaced Bkenergy with 1.0 according to initial particles\n",
      "Cathode start: Replaced Temission with 6.996949659715734e-12 according to initial particles\n",
      "Cathode start: Replaced Tini with -3.5018764242718225e-12 according to initial particles\n",
      "Setting total charge to 1.9999999999999997e-09 C\n"
     ]
    },
    {
     "name": "stderr",
     "output_type": "stream",
     "text": [
      "salloc: Pending job allocation 47268789\n",
      "salloc: job 47268789 queued and waiting for resources\n",
      "salloc: job 47268789 has been allocated resources\n",
      "salloc: Granted job allocation 47268789\n",
      "salloc: Waiting for resource configuration\n",
      "salloc: Nodes sdfmilan102 are ready for job\n"
     ]
    },
    {
     "name": "stdout",
     "output_type": "stream",
     "text": [
      " !-----------------------------------------------------------\n",
      " ! IMPACT-T Parallel Beam Dynamics Tracking Code: V2.2\n",
      " ! Copyright of The Regents of the University of California\n",
      " !-----------------------------------------------------------\n",
      " nblem:           28          28\n",
      " pass setting up lattice...\n",
      " check randomness:            0  0.79479214134216858     \n",
      " check randomness:           71  0.79705833278429350     \n",
      " check randomness:           83  0.49027206668137080     \n",
      " check randomness:           84  0.49439687405361410     \n",
      " check randomness:           86  0.59967323770118497     \n",
      " check randomness:           88  0.16233874959505501     \n",
      " check randomness:           90  0.48696925100069144     \n",
      " check randomness:           91  0.13231970078439015     \n",
      " time:    16.855246897000001, elapsed: 127.95553708076477863008427038, elapsed: 127.8445651531219547852Finished.\n",
      "Loaded fort 27 : Max amplitude information\n",
      "Loaded fort 24 : RMS X information\n",
      "Loaded fort 30 : Fourth root of the fourth moments of the beam distribution\n",
      "Loaded fort 25 : RMS Y information\n",
      "Loaded fort 18 : Time and energy\n",
      "Loaded fort 28 : Load balance and loss diagnostics\n",
      "Loaded fort 26 : RMS Z information\n",
      "Loaded fort 29 : Cube root of third moments of the beam distribution\n",
      "Loaded fort 70 : Slice information of the final distribution\n",
      "Loaded fort 60 : Slice information of the initial distribution\n",
      "Loading particles\n",
      "Loaded fort 40 : initial particle distribution at t = 0\n",
      "Loaded fort 50 : final particle distribution projected to the centroid location of the bunch\n",
      "Loaded write beam particles PR10241 fort.102\n",
      "Loaded write beam particles L0AFEND fort.103\n",
      "Converting z to t according to cathode_kinetic_energy_ref = 1.0 eV\n",
      "Converted initial_particles to ParticleGroup\n",
      "Converted final_particles to ParticleGroup\n",
      "Converted PR10241 to ParticleGroup\n",
      "Converted L0AFEND to ParticleGroup\n",
      "CPU times: user 362 ms, sys: 117 ms, total: 479 ms\n",
      "Wall time: 2min 9s\n"
     ]
    },
    {
     "name": "stderr",
     "output_type": "stream",
     "text": [
      "salloc: Relinquishing job allocation 47268789\n",
      "salloc: Job allocation 47268789 has been revoked.\n"
     ]
    }
   ],
   "source": [
    "%%time \n",
    "I.workdir = os.path.expandvars('$SCRATCH')\n",
    "I.verbose=True\n",
    "I.run()"
   ]
  },
  {
   "cell_type": "markdown",
   "id": "20be4e3a-093c-41e5-9f6c-8010e206a6dc",
   "metadata": {},
   "source": [
    "## Prepare particles for Bmad"
   ]
  },
  {
   "cell_type": "code",
   "execution_count": 23,
   "id": "106d4f9e-8b44-47b1-9356-a9006e7d9381",
   "metadata": {},
   "outputs": [],
   "source": [
    "\n",
    "P1 = I.particles['L0AFEND'].copy()\n",
    "# P1 = P1.resample(100_000)\n",
    "P1.drift_to_z()\n",
    "P1.z[:] = 0\n",
    "P1.t[:] -= P1['mean_t']\n",
    "P1['mean_energy']\n",
    "bfile = os.path.expandvars(filepath+'/L0AFEND.h5')\n",
    "P1.write(bfile)"
   ]
  },
  {
   "cell_type": "markdown",
   "id": "96be956c-aa79-4168-aab3-d660ec96ab22",
   "metadata": {},
   "source": [
    "## Archive Impact Results"
   ]
  },
  {
   "cell_type": "code",
   "execution_count": 24,
   "id": "3e84362e-c74f-4c1f-860e-506c15ccf4b1",
   "metadata": {},
   "outputs": [
    {
     "name": "stdout",
     "output_type": "stream",
     "text": [
      "Archiving to file /sdf/data/ad/ard/u/cropp/Sol_Scan_FACET/test_s2e/archive.h5\n"
     ]
    },
    {
     "data": {
      "text/plain": [
       "'/sdf/data/ad/ard/u/cropp/Sol_Scan_FACET/test_s2e/archive.h5'"
      ]
     },
     "execution_count": 24,
     "metadata": {},
     "output_type": "execute_result"
    }
   ],
   "source": [
    "\n",
    "!cp {I.path}/ImpactT.in {filepath}\n",
    "!cp {I.path}/partcl.data {filepath}\n",
    "afile = f'{filepath}/archive.h5'\n",
    "I.archive(afile)"
   ]
  },
  {
   "cell_type": "markdown",
   "id": "ebe30e87-36cc-404e-87dc-49611bc352d5",
   "metadata": {},
   "source": [
    "## Define Bmad function"
   ]
  },
  {
   "cell_type": "code",
   "execution_count": 25,
   "id": "aaedad95-6c33-4daf-be34-432b4650c161",
   "metadata": {},
   "outputs": [],
   "source": [
    "def run_bmad(settings,locations,Bmad_CSR_Command):\n",
    "    bunch={}\n",
    "    tao=Tao('-init {:s}/bmad/models/f2_elec/tao.init -noplot'.format(environ['FACET2_LATTICE'])) \n",
    "    floorplan=pd.read_csv(io.StringIO('\\n'.join(tao.show('lat -all -floor_coords -tracking_elements')[3:-5])), sep=\"[\\s\\n]+\",engine='python',\n",
    "            names=['Index','ElementName','ElementType','s','ds','X','Y','Z','Theta','Phi','Psi'])\n",
    "    floorplan.drop(0,inplace=True)\n",
    "    # print(settings['L0BF_Phase'])\n",
    "\n",
    "    if 'L0BF_Phase:theta0_deg' in settings.columns:\n",
    "        tao.cmd('set ele {} PHI0={}'.format('L0BF', (settings['L0BF_Phase:theta0_deg'].values)/360))\n",
    "    if 'L0BF_E_Gain' in settings.columns:\n",
    "        tao.cmd('set ele {} VOLTAGE={}'.format('L0BF', settings['L0BF_E_Gain'].values))\n",
    "\n",
    "    if 'QA10361:b1_gradient' in settings.columns:\n",
    "        tao.cmd('set ele {} B1_GRADIENT={}'.format('QA10361', (settings['QA10361:b1_gradient'].values)))\n",
    "    if 'QA10371:b1_gradient' in settings.columns:\n",
    "        tao.cmd('set ele {} B1_GRADIENT={}'.format('QA10371', (settings['QA10371:b1_gradient'].values)))\n",
    "    if 'QA10425:b1_gradient' in settings.columns:\n",
    "        tao.cmd('set ele {} B1_GRADIENT={}'.format('QE10425', (settings['QE10425:b1_gradient'].values)))\n",
    "    if 'QA10441:b1_gradient' in settings.columns:\n",
    "        tao.cmd('set ele {} B1_GRADIENT={}'.format('QE10441', (settings['QE10441:b1_gradient'].values)))\n",
    "    if 'QA10511:b1_gradient' in settings.columns:\n",
    "        tao.cmd('set ele {} B1_GRADIENT={}'.format('QE10511', (settings['QE10511:b1_gradient'].values)))\n",
    "    if 'QA10525:b1_gradient' in settings.columns:\n",
    "        tao.cmd('set ele {} B1_GRADIENT={}'.format('QE10525', (settings['QE10525:b1_gradient'].values)))\n",
    "    \n",
    "    # Find element strings matching L1, L2 and L3\n",
    "    #These more general match strings might cause problems by including both lords and slaves!\n",
    "    L1MatchStrings = [\"K11_1*\", \"K11_2*\"]\n",
    "    L2MatchStrings = [\"K11_4*\", \"K11_5*\", \"K11_6*\", \"K11_7*\", \"K11_8*\", \"K12_*\", \"K13_*\", \"K14_*\"]\n",
    "    L3MatchStrings = [\"K15_*\", \"K16_*\", \"K17_*\", \"K18_*\", \"K19_*\"]\n",
    "    \n",
    "    #Therefore, use lat_list and these general search strings to get specific elements\n",
    "    #Recall that, by default, lat_list has the flag \"-track_only\" so lords are not included\n",
    "    #But some of the tracking elements are super_slaves which cannot be `set`\n",
    "    \n",
    "    #\"-array_out\" flag is on by default but if flags are edited, need to re-add manually to get numeric values back\n",
    "    \n",
    "    L1MatchStrings = np.concatenate( [ tao.lat_list(i,\"ele.name\", flags=\"-no_slaves\") for i in L1MatchStrings ] )\n",
    "    L2MatchStrings = np.concatenate( [ tao.lat_list(i,\"ele.name\", flags=\"-no_slaves\") for i in L2MatchStrings ] )\n",
    "    L3MatchStrings = np.concatenate( [ tao.lat_list(i,\"ele.name\", flags=\"-no_slaves\") for i in L3MatchStrings ] )\n",
    "    \n",
    "    # Phase L1\n",
    "    setLinacPhase(L1MatchStrings, settings['L1phase'].values,tao)\n",
    "    setLinacGradientAuto( L1MatchStrings, settings['L1energy'].values - settings['L0energy'].values,tao )\n",
    "    \n",
    "    # Phase L2\n",
    "    setLinacPhase(L2MatchStrings, settings['L2phase'].values,tao)\n",
    "    setLinacGradientAuto( L2MatchStrings, settings['L2energy'].values - settings['L1energy'].values ,tao)\n",
    "    \n",
    "    tao.cmd('set beam_init position_file='+settings['startfile'].values[0])\n",
    "    tao.cmd('reinit beam')\n",
    "    # print('Track start: ', tao.beam()['track_start'])\n",
    "    # print('Track end: ', tao.beam()['track_end'])\n",
    "    tao.beam_init()['position_file']\n",
    "    tao.cmd('call Activate_CSR.tao');\n",
    "    \n",
    "    tao.cmd(Bmad_CSR_Command)\n",
    "    tao.cmd('set global track_type = beam') \n",
    "    bunch['beta_y']=np.array([tao.bunch_params(x)['twiss_beta_y'] for x in floorplan.Index])\n",
    "    bunch['beta_x']=np.array([tao.bunch_params(x)['twiss_beta_x'] for x in floorplan.Index])\n",
    "    bunch['etot']=np.array([tao.bunch_params(x)['centroid_p0c']*0.511 for x in floorplan.Index])\n",
    "    bunch['eta_y']=np.array([tao.bunch_params(x)['twiss_eta_y'] for x in floorplan.Index])\n",
    "    bunch['eta_x']=np.array([tao.bunch_params(x)['twiss_eta_x'] for x in floorplan.Index])\n",
    "    bunch['sigma_x']=np.array([tao.bunch_params(x)['twiss_sigma_x'] for x in floorplan.Index])\n",
    "    bunch['sigma_y']=np.array([tao.bunch_params(x)['twiss_sigma_y'] for x in floorplan.Index])\n",
    "    bunch['pc']=np.array([tao.bunch_params(x)['centroid_p0c'] for x in floorplan.Index])\n",
    "    bunch['cent']=np.array([tao.bunch_params(x)['centroid_vec_1'] for x in floorplan.Index])\n",
    "    bunch['sigma61']=np.array([tao.bunch_params(x)['sigma_61'] for x in floorplan.Index])\n",
    "    bunch['sigma_z']=np.array([tao.bunch_params(x)['twiss_sigma_z'] for x in floorplan.Index])\n",
    "    bunch['s']=np.array([tao.lat_list(x,'ele.s')[0] for x in floorplan.Index])\n",
    "    bunch['idx']=settings['startfile'].index\n",
    "    # print(settings['startfile'].index)\n",
    "    P=[]\n",
    "    for location in locations:\n",
    "        Ptemp = ParticleGroup(data=tao.bunch_data(location))\n",
    "        # Select out live particles\n",
    "        Ptemp = Ptemp[Ptemp.status==1]\n",
    "        Ptemp.drift_to_z()\n",
    "        P.append(Ptemp)\n",
    "    bunch['P']=P\n",
    "    return bunch"
   ]
  },
  {
   "cell_type": "markdown",
   "id": "8b16bba8-87cf-4afd-92a6-8df5a4033cff",
   "metadata": {},
   "source": [
    "## Prepare Bmad Settings for Run"
   ]
  },
  {
   "cell_type": "code",
   "execution_count": 26,
   "id": "015a99a8-927c-4efe-a572-a3fef06614cd",
   "metadata": {},
   "outputs": [],
   "source": [
    "Bmad_Settings=pd.DataFrame(Bmad_Settings,index=[0]).head()\n",
    "Bmad_Settings['startfile']=filepath+'/L0AFEND.h5'"
   ]
  },
  {
   "cell_type": "markdown",
   "id": "7ae8c5b6-9c45-42be-9417-36f3b3374350",
   "metadata": {},
   "source": [
    "## Run Bmad"
   ]
  },
  {
   "cell_type": "code",
   "execution_count": 27,
   "id": "9274f2de-5ead-4971-9810-7114fed5929b",
   "metadata": {},
   "outputs": [
    {
     "name": "stdout",
     "output_type": "stream",
     "text": [
      "CPU times: user 3min 6s, sys: 1.9 s, total: 3min 8s\n",
      "Wall time: 38.3 s\n"
     ]
    }
   ],
   "source": [
    "%%time\n",
    "\n",
    "bmad_results=run_bmad(Bmad_Settings,locations,Bmad_CSR_Command)"
   ]
  },
  {
   "cell_type": "markdown",
   "id": "35aba8db-bdfc-4576-ba9a-8ab85c421ccb",
   "metadata": {},
   "source": [
    "## Archive Bmad"
   ]
  },
  {
   "cell_type": "code",
   "execution_count": 28,
   "id": "7a8784c8-8314-404e-a011-3566dd6d98ae",
   "metadata": {},
   "outputs": [],
   "source": [
    "output = open(filepath+'bmad.pkl', 'wb')\n",
    "pickle.dump(bmad_results,output)\n",
    "output.close()"
   ]
  },
  {
   "cell_type": "markdown",
   "id": "74958be5-c159-4c94-a578-34e4a4762750",
   "metadata": {},
   "source": [
    "## Check Timing"
   ]
  },
  {
   "cell_type": "code",
   "execution_count": 29,
   "id": "4de487cd-4751-4388-ae61-49f100bcf649",
   "metadata": {},
   "outputs": [
    {
     "name": "stdout",
     "output_type": "stream",
     "text": [
      "Execution time: 255.09698009490967 seconds\n"
     ]
    }
   ],
   "source": [
    "et=time.time()\n",
    "elapsed_time=et-st\n",
    "\n",
    "print('Execution time:', elapsed_time, 'seconds')"
   ]
  },
  {
   "cell_type": "markdown",
   "id": "85696b91-0a5c-49bf-9bf0-e747c8a44d71",
   "metadata": {},
   "source": [
    "## Plot LPS at different locations"
   ]
  },
  {
   "cell_type": "code",
   "execution_count": null,
   "id": "f94e5a86-208d-4793-8c93-fa2d2d1d8417",
   "metadata": {},
   "outputs": [
    {
     "data": {
      "image/png": "[encoded data removed]",
      "text/plain": [
       "<Figure size 640x480 with 3 Axes>"
      ]
     },
     "metadata": {},
     "output_type": "display_data"
    }
   ],
   "source": [
    "\n",
    "\n",
    "\n",
    "for i in range(len(locations)):\n",
    "    P = bmad_results['P'][i]\n",
    "    # Select out live particles\n",
    "    P = P[P.status==1]\n",
    "    P.drift_to_z()\n",
    "    # General lPS plot and transverse profile\n",
    "    P.plot('delta_t', 'energy',bins=300)\n",
    "    plt.title(locations[i])"
   ]
  },
  {
   "cell_type": "markdown",
   "id": "e8b67b59-4cdf-4a45-8165-0246d5b5f063",
   "metadata": {},
   "source": [
    "## Remove copied files\n"
   ]
  },
  {
   "cell_type": "code",
   "execution_count": null,
   "id": "8d560ca6-d42e-4d23-8af4-f4ebc4cd6fa1",
   "metadata": {},
   "outputs": [],
   "source": [
    "!rm -rf ImpactT_template.in\n",
    "!rm -rf rfdata201\n",
    "!rm -rf rfdata102\n",
    "!rm -rf rfdata4\n",
    "!rm -rf rfdata5\n",
    "!rm -rf rfdata6\n",
    "!rm -rf rfdata7\n",
    "!rm -rf ImpactT.yaml"
   ]
  }
 ],
 "metadata": {
  "kernelspec": {
   "display_name": "Python 3 (ipykernel)",
   "language": "python",
   "name": "python3"
  },
  "language_info": {
   "codemirror_mode": {
    "name": "ipython",
    "version": 3
   },
   "file_extension": ".py",
   "mimetype": "text/x-python",
   "name": "python",
   "nbconvert_exporter": "python",
   "pygments_lexer": "ipython3",
   "version": "3.9.19"
  }
 },
 "nbformat": 4,
 "nbformat_minor": 5
}

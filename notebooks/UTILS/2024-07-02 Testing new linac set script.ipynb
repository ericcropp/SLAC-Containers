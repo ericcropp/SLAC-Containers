{
 "cells": [
  {
   "cell_type": "code",
   "execution_count": 1,
   "id": "366fa305-79bf-46f2-b624-65a7f519f5a4",
   "metadata": {},
   "outputs": [],
   "source": [
    "from UTILITY_quickstart import *"
   ]
  },
  {
   "cell_type": "code",
   "execution_count": 2,
   "id": "ce41f0a4-39e9-4ccd-8f83-5e873000cae5",
   "metadata": {},
   "outputs": [
    {
     "name": "stdout",
     "output_type": "stream",
     "text": [
      "Environment set to:  /Users/nmajik/Documents/SLAC/FACET2-Bmad-PyTao\n",
      "Tracking to end\n",
      "CSR off\n",
      "Loading default setLattice() values\n",
      "Number of macro particles defined by input file\n"
     ]
    }
   ],
   "source": [
    "tao = initializeTao(\n",
    "    inputBeamFilePathSuffix = '/beams/nmmToL0AFEND_2bunch_2024-02-16Clean/2024-02-16_2bunch_1e5Downsample_nudgeWeights_driverOnly_2023-05-16InjectorMatch.h5'\n",
    ")"
   ]
  },
  {
   "cell_type": "code",
   "execution_count": 3,
   "id": "a790953c-acc2-4107-a54a-29000cfba55b",
   "metadata": {},
   "outputs": [
    {
     "data": {
      "text/plain": [
       "['# Values shown are for the Exit End of each Element:',\n",
       " '# Index  name   key                      s       l        PHI0',\n",
       " '    381  K12_1A Lcavity            121.522   3.044 -1.0556E-01',\n",
       " '# Index  name   key                      s       l        PHI0',\n",
       " '# Values shown are for the Exit End of each Element:']"
      ]
     },
     "execution_count": 3,
     "metadata": {},
     "output_type": "execute_result"
    }
   ],
   "source": [
    "tao.cmd(\"show lat K12_1A -att PHI0\")"
   ]
  },
  {
   "cell_type": "code",
   "execution_count": 4,
   "id": "586904b9-832b-4547-92f0-8dd41ff07cfa",
   "metadata": {},
   "outputs": [
    {
     "data": {
      "text/plain": [
       "['# Values shown are for the Exit End of each Element:',\n",
       " '# Index  name   key                      s       l        PHI0',\n",
       " '    381  K12_1A Lcavity            121.522   3.044 -1.3889E-01',\n",
       " '# Index  name   key                      s       l        PHI0',\n",
       " '# Values shown are for the Exit End of each Element:']"
      ]
     },
     "execution_count": 4,
     "metadata": {},
     "output_type": "execute_result"
    }
   ],
   "source": [
    "setLinacPhase(tao, \"L2\", -50)\n",
    "tao.cmd(\"show lat K12_1A -att PHI0\")"
   ]
  },
  {
   "cell_type": "code",
   "execution_count": 5,
   "id": "e86a1ca6-ef17-4769-833e-199a771ad625",
   "metadata": {},
   "outputs": [],
   "source": [
    "[L1MatchStrings, L2MatchStrings, L3MatchStrings, selectMarkers] = getLinacMatchStrings(tao)"
   ]
  },
  {
   "cell_type": "code",
   "execution_count": 6,
   "id": "c8b1fa1a-4969-4e67-8e73-1de5d8c46dca",
   "metadata": {},
   "outputs": [
    {
     "data": {
      "text/plain": [
       "['# Values shown are for the Exit End of each Element:',\n",
       " '# Index  name   key                      s       l        PHI0',\n",
       " '    381  K12_1A Lcavity            121.522   3.044 -1.6667E-01',\n",
       " '# Index  name   key                      s       l        PHI0',\n",
       " '# Values shown are for the Exit End of each Element:']"
      ]
     },
     "execution_count": 6,
     "metadata": {},
     "output_type": "execute_result"
    }
   ],
   "source": [
    "setLinacPhase(tao, L2MatchStrings, -60)\n",
    "tao.cmd(\"show lat K12_1A -att PHI0\")"
   ]
  }
 ],
 "metadata": {
  "kernelspec": {
   "display_name": "Python 3 (ipykernel)",
   "language": "python",
   "name": "python3"
  },
  "language_info": {
   "codemirror_mode": {
    "name": "ipython",
    "version": 3
   },
   "file_extension": ".py",
   "mimetype": "text/x-python",
   "name": "python",
   "nbconvert_exporter": "python",
   "pygments_lexer": "ipython3",
   "version": "3.11.8"
  }
 },
 "nbformat": 4,
 "nbformat_minor": 5
}

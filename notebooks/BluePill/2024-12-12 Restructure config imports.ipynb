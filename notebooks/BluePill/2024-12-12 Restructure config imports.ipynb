{
 "cells": [
  {
   "cell_type": "code",
   "execution_count": 1,
   "id": "112ea90f-ba72-4f94-86f2-b0fae98f5520",
   "metadata": {},
   "outputs": [],
   "source": [
    "from UTILITY_quickstart import *"
   ]
  },
  {
   "cell_type": "code",
   "execution_count": 2,
   "id": "6f7ac4a5-3d85-4830-bd0c-273628d0f9f2",
   "metadata": {},
   "outputs": [
    {
     "name": "stdout",
     "output_type": "stream",
     "text": [
      "{'defaults1': 'hi', 'defaults2': 'hello', 'S2ELkG': 'I am default'}\n"
     ]
    }
   ],
   "source": [
    "configFileList = ['setLattice_configs/defaults.yml', 'setLattice_configs/defaults.yml']\n",
    "importedDefaultSettings = {}\n",
    "\n",
    "for file in configFileList:\n",
    "    with open(file, 'r') as f:\n",
    "        importedDefaultSettings.update(yaml.safe_load(f) or {})\n",
    "\n",
    "print(importedDefaultSettings)"
   ]
  },
  {
   "cell_type": "code",
   "execution_count": 3,
   "id": "c556b012-ca70-40f8-8ea4-d81a97c286cd",
   "metadata": {},
   "outputs": [
    {
     "name": "stdout",
     "output_type": "stream",
     "text": [
      "{'defaults1': 'hi', 'defaults2': 'hello', 'S2ELkG': -10336.6164990159}\n"
     ]
    }
   ],
   "source": [
    "def loadConfig(file, loaded_files=None):\n",
    "    \"\"\"Code to load nested config files... ChatGPT is the author, beware!\"\"\"\n",
    "    if loaded_files is None:\n",
    "        loaded_files = set()\n",
    "    if file in loaded_files:\n",
    "        return {}  # Avoid circular imports\n",
    "    loaded_files.add(file)\n",
    "\n",
    "    with open(file, 'r') as f:\n",
    "        data = yaml.safe_load(f) or {}\n",
    "\n",
    "    # Handle includes\n",
    "    includes = data.pop('include', [])\n",
    "    merged_data = {}\n",
    "    for include_file in includes:\n",
    "        merged_data.update(load_yaml_with_includes(include_file, loaded_files))\n",
    "    \n",
    "    merged_data.update(data)  # Later settings override earlier ones\n",
    "    return merged_data\n",
    "\n",
    "# Start loading from the main file\n",
    "final_settings = load_yaml_with_includes('setLattice_configs/demo.yml')\n",
    "print(final_settings)\n"
   ]
  },
  {
   "cell_type": "code",
   "execution_count": null,
   "id": "5f701baf-f8ef-4600-a9a9-2792f393d09c",
   "metadata": {},
   "outputs": [],
   "source": []
  }
 ],
 "metadata": {
  "kernelspec": {
   "display_name": "Python 3 (ipykernel)",
   "language": "python",
   "name": "python3"
  },
  "language_info": {
   "codemirror_mode": {
    "name": "ipython",
    "version": 3
   },
   "file_extension": ".py",
   "mimetype": "text/x-python",
   "name": "python",
   "nbconvert_exporter": "python",
   "pygments_lexer": "ipython3",
   "version": "3.11.8"
  }
 },
 "nbformat": 4,
 "nbformat_minor": 5
}

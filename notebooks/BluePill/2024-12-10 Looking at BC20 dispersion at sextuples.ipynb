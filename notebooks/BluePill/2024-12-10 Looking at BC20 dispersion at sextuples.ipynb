{
 "cells": [
  {
   "cell_type": "code",
   "execution_count": 1,
   "id": "8efb1945-4f0b-4969-9120-cb6ef4dfdf45",
   "metadata": {},
   "outputs": [],
   "source": [
    "from UTILITY_quickstart import *\n",
    "import yaml\n",
    "\n",
    "with open('setLattice_defaults.yml', 'r') as file:\n",
    "    importedDefaultSettings = yaml.safe_load(file)"
   ]
  },
  {
   "cell_type": "code",
   "execution_count": 2,
   "id": "3f018224-d654-4502-b934-cc8e40b20754",
   "metadata": {},
   "outputs": [
    {
     "name": "stdout",
     "output_type": "stream",
     "text": [
      "Environment set to:  /Users/nmajik/Documents/SLAC/FACET2-Bmad-PyTao\n",
      "Tracking to end\n",
      "CSR off\n",
      "Overwriting lattice with setLattice() defaults\n",
      "No defaults file provided to setLattice(). Using setLattice_defaults.yml\n",
      "Number of macro particles = 10000.0\n"
     ]
    }
   ],
   "source": [
    "csrTF = False\n",
    "\n",
    "\n",
    "inputBeamFilePathSuffix = importedDefaultSettings[\"inputBeamFilePathSuffix\"]\n",
    "tao = initializeTao(\n",
    "    #inputBeamFilePathSuffix = '/beams/nmmToL0AFEND_2bunch_2024-02-16Clean/2024-02-16_2bunch_1e5Downsample_nudgeWeights.h5',\n",
    "    inputBeamFilePathSuffix = inputBeamFilePathSuffix,\n",
    "    \n",
    "    csrTF = csrTF,\n",
    "    numMacroParticles=1e4,\n",
    ")\n",
    "\n",
    "# trackBeam(tao, \n",
    "#           centerBC14 = True, \n",
    "#           assertBC14Energy = True,\n",
    "#           #assertBC14Energy = 4.6e9,\n",
    "#           centerBC20 = True, \n",
    "#           assertBC20Energy = True,\n",
    "#           centerMFFF = True, \n",
    "#           verbose = True)"
   ]
  },
  {
   "cell_type": "code",
   "execution_count": 3,
   "id": "0751d307-10a9-4ecd-81ea-10f5ee8490e2",
   "metadata": {},
   "outputs": [],
   "source": [
    "    # setSextkG(tao, \"S1EL\",   S1ELkG)\n",
    "    # setSextkG(tao, \"S2EL\",   S2ELkG)\n",
    "    # setSextkG(tao, \"S3EL_1\", S3ELkG)\n",
    "    # setSextkG(tao, \"S3EL_2\", S3ELkG)\n",
    "    # setSextkG(tao, \"S3ER_1\", S3ERkG)\n",
    "    # setSextkG(tao, \"S3ER_2\", S3ERkG)\n",
    "    # setSextkG(tao, \"S2ER\",   S2ERkG)\n",
    "    # setSextkG(tao, \"S1ER\",   S1ERkG)"
   ]
  },
  {
   "cell_type": "code",
   "execution_count": 4,
   "id": "82755566-3134-4e94-b669-119de6e61bcf",
   "metadata": {},
   "outputs": [
    {
     "data": {
      "text/plain": [
       "['Element # 1764',\n",
       " 'Element Name: S1EL',\n",
       " 'Element Type:  \"1.625S9.06\"',\n",
       " 'Key: Sextupole',\n",
       " 'S_start, S:    943.163262,    943.413262',\n",
       " 'Ref_time_start, Ref_time:  3.146071E-06,  3.146905E-06',\n",
       " '',\n",
       " 'Attribute values [Only non-zero values shown]:',\n",
       " '    1  L                           =  2.5000000E-01 m',\n",
       " '    5  K2                          =  1.4478314E+01 1/m^3    46  B2_GRADIENT                 = -4.8264254E+02 T/m^2',\n",
       " '   10  FRINGE_TYPE                 =  None (1)               11  FRINGE_AT                   =  Both_Ends (3)',\n",
       " '   13  SPIN_FRINGE_ON              =  T (1)',\n",
       " '   17  STATIC_LINEAR_MAP           =  F (0)',\n",
       " '   36  X_OFFSET                    =  8.9414460E-04 m        57  X_OFFSET_TOT                =  8.9414460E-04 m',\n",
       " '   37  Y_OFFSET                    = -4.1601100E-05 m        58  Y_OFFSET_TOT                = -4.1601100E-05 m',\n",
       " '   47  PTC_CANONICAL_COORDS        =  T (1)',\n",
       " '   53  P0C                         =  9.9937457E+09 eV           BETA                        =  1.0000000E+00',\n",
       " '   54  E_TOT                       =  9.9937457E+09 eV           GAMMA                       =  1.9557272E+04',\n",
       " '   64  REF_TIME_START              =  3.1460711E-06 sec      50  DELTA_REF_TIME              =  8.3391024E-10 sec',\n",
       " '   65  INTEGRATOR_ORDER            = 2',\n",
       " '   67  DS_STEP                     =  2.5000000E-01 m        66  NUM_STEPS                   = 1',\n",
       " '   68  CSR_DS_STEP                 =  0.0000000E+00 m',\n",
       " '   71  X1_LIMIT                    =  1.8637500E-02 m        72  X2_LIMIT                    =  1.8637500E-02 m',\n",
       " '   73  Y1_LIMIT                    =  1.8637500E-02 m        74  Y2_LIMIT                    =  1.8637500E-02 m',\n",
       " '',\n",
       " '       TRACKING_METHOD              =  Bmad_Standard             APERTURE_AT                =  Exit_End',\n",
       " '       MAT6_CALC_METHOD             =  Auto                      APERTURE_TYPE              =  Rectangular',\n",
       " '       SPIN_TRACKING_METHOD         =  Tracking                  OFFSET_MOVES_APERTURE      =  F',\n",
       " '       PTC_INTEGRATION_TYPE         =  Matrix_Kick               SYMPLECTIFY                =  F',\n",
       " '       CSR_METHOD                   =  1_Dim                     FIELD_MASTER               =  F',\n",
       " '       SPACE_CHARGE_METHOD          =  Off                       LONGITUDINAL ORIENTATION   =       1',\n",
       " '       FIELD_CALC                   =  Bmad_Standard             REF_SPECIES                =  Electron',\n",
       " '',\n",
       " 'Slave_status: Free',\n",
       " '',\n",
       " 'Lord_status:  Super_Lord',\n",
       " 'Slaves:',\n",
       " '   Index   Name        Type                     S',\n",
       " '    1330   S1EL#1      Sextupole              943.288262',\n",
       " '    1332   S1EL#2      Sextupole              943.413262',\n",
       " '',\n",
       " 'Twiss at end of element:',\n",
       " '                          A              B            Cbar                        C_mat',\n",
       " '  Beta (m)        3.13931E+04    1.13522E+04  |   0.00001225  -0.00000000      0.00001882  -0.00000353',\n",
       " '  Alpha          -1.37021E+04  5017.79073004  |   2.83137211  -0.00002874      0.00015056  -0.00001883',\n",
       " '  Gamma (1/m)   5980.50446976  2217.92213468  |   Gamma_c =   1.00000000       Mode_Flip = F',\n",
       " '  Phi (rad)       58.84416178    56.02043994            X              Y              Z',\n",
       " '  Eta (m)         -0.31411337     0.00000002    -0.31411337    -0.00000534     0.03544071',\n",
       " '  Etap            -0.15640335    -0.00000000    -0.15640335    -0.00004435    -0.00000000',\n",
       " '  dEta/ds         -0.15640191     0.00000013    -0.15640191    -0.00004421    -0.00000000',\n",
       " '',\n",
       " 'Tracking: Electron,   State: Alive',\n",
       " '         Position[mm] Momentum[mrad]        Spin   |',\n",
       " '  X:      -0.00018048    -0.00144400               | t_particle [sec]:        3.14690499E-06  E_tot: 9.99375E+09',\n",
       " '  Y:      -0.00001683    -0.00013463               | t_part-t_ref [sec]:      4.23516474E-22  PC:    9.99375E+09',\n",
       " '  Z:      -0.00000000    -0.00000000               | (t_ref-t_part)*Vel [m]: -1.26967044E-13  Beta:  0.999999999']"
      ]
     },
     "execution_count": 4,
     "metadata": {},
     "output_type": "execute_result"
    }
   ],
   "source": [
    "tao.cmd(\"show ele S1EL\")"
   ]
  },
  {
   "cell_type": "code",
   "execution_count": 5,
   "id": "384eb334-b3ec-4160-9e01-e3d8508b5b44",
   "metadata": {},
   "outputs": [
    {
     "data": {
      "text/html": [
       "<style type=\"text/css\">\n",
       "</style>\n",
       "<table id=\"T_255c9\">\n",
       "  <thead>\n",
       "  </thead>\n",
       "  <tbody>\n",
       "    <tr>\n",
       "      <td id=\"T_255c9_row0_col0\" class=\"data row0 col0\" >-3.221905</td>\n",
       "      <td id=\"T_255c9_row0_col1\" class=\"data row0 col1\" >-10.369397</td>\n",
       "      <td id=\"T_255c9_row0_col2\" class=\"data row0 col2\" >0.000016</td>\n",
       "      <td id=\"T_255c9_row0_col3\" class=\"data row0 col3\" >0.000126</td>\n",
       "      <td id=\"T_255c9_row0_col4\" class=\"data row0 col4\" >0.000000</td>\n",
       "      <td id=\"T_255c9_row0_col5\" class=\"data row0 col5\" >-0.294644</td>\n",
       "    </tr>\n",
       "    <tr>\n",
       "      <td id=\"T_255c9_row1_col0\" class=\"data row1 col0\" >-1.482870</td>\n",
       "      <td id=\"T_255c9_row1_col1\" class=\"data row1 col1\" >-5.082852</td>\n",
       "      <td id=\"T_255c9_row1_col2\" class=\"data row1 col2\" >0.000248</td>\n",
       "      <td id=\"T_255c9_row1_col3\" class=\"data row1 col3\" >0.001961</td>\n",
       "      <td id=\"T_255c9_row1_col4\" class=\"data row1 col4\" >0.000000</td>\n",
       "      <td id=\"T_255c9_row1_col5\" class=\"data row1 col5\" >-0.155933</td>\n",
       "    </tr>\n",
       "    <tr>\n",
       "      <td id=\"T_255c9_row2_col0\" class=\"data row2 col0\" >-0.000014</td>\n",
       "      <td id=\"T_255c9_row2_col1\" class=\"data row2 col1\" >-0.000046</td>\n",
       "      <td id=\"T_255c9_row2_col2\" class=\"data row2 col2\" >3.205295</td>\n",
       "      <td id=\"T_255c9_row2_col3\" class=\"data row2 col3\" >25.393986</td>\n",
       "      <td id=\"T_255c9_row2_col4\" class=\"data row2 col4\" >0.000000</td>\n",
       "      <td id=\"T_255c9_row2_col5\" class=\"data row2 col5\" >-0.000001</td>\n",
       "    </tr>\n",
       "    <tr>\n",
       "      <td id=\"T_255c9_row3_col0\" class=\"data row3 col0\" >-0.000236</td>\n",
       "      <td id=\"T_255c9_row3_col1\" class=\"data row3 col1\" >-0.000757</td>\n",
       "      <td id=\"T_255c9_row3_col2\" class=\"data row3 col2\" >-1.357648</td>\n",
       "      <td id=\"T_255c9_row3_col3\" class=\"data row3 col3\" >-10.444002</td>\n",
       "      <td id=\"T_255c9_row3_col4\" class=\"data row3 col4\" >0.000000</td>\n",
       "      <td id=\"T_255c9_row3_col5\" class=\"data row3 col5\" >-0.000021</td>\n",
       "    </tr>\n",
       "    <tr>\n",
       "      <td id=\"T_255c9_row4_col0\" class=\"data row4 col0\" >-0.065484</td>\n",
       "      <td id=\"T_255c9_row4_col1\" class=\"data row4 col1\" >-0.119303</td>\n",
       "      <td id=\"T_255c9_row4_col2\" class=\"data row4 col2\" >-0.000000</td>\n",
       "      <td id=\"T_255c9_row4_col3\" class=\"data row4 col3\" >-0.000000</td>\n",
       "      <td id=\"T_255c9_row4_col4\" class=\"data row4 col4\" >1.000000</td>\n",
       "      <td id=\"T_255c9_row4_col5\" class=\"data row4 col5\" >-0.002326</td>\n",
       "    </tr>\n",
       "    <tr>\n",
       "      <td id=\"T_255c9_row5_col0\" class=\"data row5 col0\" >0.000000</td>\n",
       "      <td id=\"T_255c9_row5_col1\" class=\"data row5 col1\" >0.000000</td>\n",
       "      <td id=\"T_255c9_row5_col2\" class=\"data row5 col2\" >0.000000</td>\n",
       "      <td id=\"T_255c9_row5_col3\" class=\"data row5 col3\" >0.000000</td>\n",
       "      <td id=\"T_255c9_row5_col4\" class=\"data row5 col4\" >0.000000</td>\n",
       "      <td id=\"T_255c9_row5_col5\" class=\"data row5 col5\" >1.000000</td>\n",
       "    </tr>\n",
       "  </tbody>\n",
       "</table>\n"
      ],
      "text/plain": [
       "<pandas.io.formats.style.Styler at 0x166eeb290>"
      ]
     },
     "metadata": {},
     "output_type": "display_data"
    }
   ],
   "source": [
    "getMatrix(tao, \"BEGBC20\",\"S1EL#1\",print = True);"
   ]
  },
  {
   "cell_type": "code",
   "execution_count": 6,
   "id": "e7c49260-a0e1-4073-9406-a72fa095f9bb",
   "metadata": {},
   "outputs": [
    {
     "data": {
      "text/plain": [
       "-0.294644216471848"
      ]
     },
     "execution_count": 6,
     "metadata": {},
     "output_type": "execute_result"
    }
   ],
   "source": [
    "getMatrix(tao, \"BEGBC20\",\"S1EL#1\")[0,5]"
   ]
  },
  {
   "cell_type": "code",
   "execution_count": 7,
   "id": "deb1c348-20f4-4a44-bac8-37476efe56fe",
   "metadata": {},
   "outputs": [
    {
     "data": {
      "text/plain": [
       "-0.329029334746519"
      ]
     },
     "execution_count": 7,
     "metadata": {},
     "output_type": "execute_result"
    }
   ],
   "source": [
    "getMatrix(tao, \"BEGBC20\",\"S2EL#1\")[0,5]"
   ]
  },
  {
   "cell_type": "code",
   "execution_count": 8,
   "id": "c203887f-3bbc-4414-af56-b30c7a866a55",
   "metadata": {},
   "outputs": [
    {
     "data": {
      "text/plain": [
       "-0.0102272544233074"
      ]
     },
     "execution_count": 8,
     "metadata": {},
     "output_type": "execute_result"
    }
   ],
   "source": [
    "getMatrix(tao, \"BEGBC20\",\"S3EL_1\")[0,5]"
   ]
  },
  {
   "cell_type": "code",
   "execution_count": 9,
   "id": "87f8c351-f2d7-487e-af38-4eb4e0350cc7",
   "metadata": {},
   "outputs": [
    {
     "data": {
      "text/plain": [
       "0.218585162684987"
      ]
     },
     "execution_count": 9,
     "metadata": {},
     "output_type": "execute_result"
    }
   ],
   "source": [
    "getMatrix(tao, \"BEGBC20\",\"S3ER_1\")[0,5]"
   ]
  },
  {
   "cell_type": "code",
   "execution_count": 10,
   "id": "0deb3192-e012-4994-b227-babaf6e2bfbc",
   "metadata": {},
   "outputs": [
    {
     "data": {
      "text/plain": [
       "-0.405934686262649"
      ]
     },
     "execution_count": 10,
     "metadata": {},
     "output_type": "execute_result"
    }
   ],
   "source": [
    "getMatrix(tao, \"BEGBC20\",\"S2ER#1\")[0,5]"
   ]
  },
  {
   "cell_type": "code",
   "execution_count": 11,
   "id": "94ff02c4-f758-4fcf-aa96-36be91522bd8",
   "metadata": {},
   "outputs": [
    {
     "data": {
      "text/plain": [
       "-0.375284023343716"
      ]
     },
     "execution_count": 11,
     "metadata": {},
     "output_type": "execute_result"
    }
   ],
   "source": [
    "getMatrix(tao, \"BEGBC20\",\"S1ER#1\")[0,5]"
   ]
  },
  {
   "cell_type": "markdown",
   "id": "58945d43-d895-4f67-a916-36fc72360a46",
   "metadata": {},
   "source": [
    "## Golden lattice"
   ]
  },
  {
   "cell_type": "code",
   "execution_count": 12,
   "id": "6ceeff9b-7dfd-4cb5-b60a-225812456980",
   "metadata": {},
   "outputs": [
    {
     "name": "stdout",
     "output_type": "stream",
     "text": [
      "Environment set to:  /Users/nmajik/Documents/SLAC/FACET2-Bmad-PyTao\n",
      "Tracking to end\n",
      "CSR off\n",
      "Base Tao lattice\n",
      "Number of macro particles = 10000.0\n"
     ]
    }
   ],
   "source": [
    "tao = initializeTao(\n",
    "    #inputBeamFilePathSuffix = '/beams/nmmToL0AFEND_2bunch_2024-02-16Clean/2024-02-16_2bunch_1e5Downsample_nudgeWeights.h5',\n",
    "    inputBeamFilePathSuffix = inputBeamFilePathSuffix,\n",
    "    \n",
    "    csrTF = csrTF,\n",
    "    numMacroParticles=1e4,\n",
    "    loadDefaultLatticeTF=False\n",
    ")"
   ]
  },
  {
   "cell_type": "code",
   "execution_count": 13,
   "id": "558f642f-8089-4c11-9dad-71cddba1e611",
   "metadata": {},
   "outputs": [
    {
     "data": {
      "text/plain": [
       "-0.294793526371422"
      ]
     },
     "execution_count": 13,
     "metadata": {},
     "output_type": "execute_result"
    }
   ],
   "source": [
    "getMatrix(tao, \"BEGBC20\",\"S1EL#1\")[0,5]"
   ]
  },
  {
   "cell_type": "code",
   "execution_count": 14,
   "id": "2981af8b-0d2b-433a-91dc-4f604f1628c1",
   "metadata": {},
   "outputs": [
    {
     "data": {
      "text/plain": [
       "-0.327232026581555"
      ]
     },
     "execution_count": 14,
     "metadata": {},
     "output_type": "execute_result"
    }
   ],
   "source": [
    "getMatrix(tao, \"BEGBC20\",\"S2EL#1\")[0,5]"
   ]
  },
  {
   "cell_type": "code",
   "execution_count": 15,
   "id": "1786027e-b7b5-4cb8-b492-0a53aea038b8",
   "metadata": {},
   "outputs": [
    {
     "data": {
      "text/plain": [
       "-0.00237016663081818"
      ]
     },
     "execution_count": 15,
     "metadata": {},
     "output_type": "execute_result"
    }
   ],
   "source": [
    "getMatrix(tao, \"BEGBC20\",\"S3EL_1\")[0,5]"
   ]
  },
  {
   "cell_type": "code",
   "execution_count": 16,
   "id": "9495bb3b-7981-4958-a0ab-7643155490b4",
   "metadata": {},
   "outputs": [
    {
     "data": {
      "text/plain": [
       "0.175651127288521"
      ]
     },
     "execution_count": 16,
     "metadata": {},
     "output_type": "execute_result"
    }
   ],
   "source": [
    "getMatrix(tao, \"BEGBC20\",\"S3ER_1\")[0,5]"
   ]
  },
  {
   "cell_type": "code",
   "execution_count": 17,
   "id": "03699d5c-6b52-4933-bfae-daac8fa35c29",
   "metadata": {},
   "outputs": [
    {
     "data": {
      "text/plain": [
       "-0.327663732541702"
      ]
     },
     "execution_count": 17,
     "metadata": {},
     "output_type": "execute_result"
    }
   ],
   "source": [
    "getMatrix(tao, \"BEGBC20\",\"S2ER#1\")[0,5]"
   ]
  },
  {
   "cell_type": "code",
   "execution_count": 18,
   "id": "77bfde7e-8e6e-4557-b49e-8f8fe15961aa",
   "metadata": {},
   "outputs": [
    {
     "data": {
      "text/plain": [
       "-0.296249625054347"
      ]
     },
     "execution_count": 18,
     "metadata": {},
     "output_type": "execute_result"
    }
   ],
   "source": [
    "getMatrix(tao, \"BEGBC20\",\"S1ER#1\")[0,5]"
   ]
  }
 ],
 "metadata": {
  "kernelspec": {
   "display_name": "Python 3 (ipykernel)",
   "language": "python",
   "name": "python3"
  },
  "language_info": {
   "codemirror_mode": {
    "name": "ipython",
    "version": 3
   },
   "file_extension": ".py",
   "mimetype": "text/x-python",
   "name": "python",
   "nbconvert_exporter": "python",
   "pygments_lexer": "ipython3",
   "version": "3.11.8"
  }
 },
 "nbformat": 4,
 "nbformat_minor": 5
}

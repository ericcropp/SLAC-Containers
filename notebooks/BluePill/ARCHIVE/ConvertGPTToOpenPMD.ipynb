{
 "cells": [
  {
   "cell_type": "code",
   "execution_count": 5,
   "id": "85b8afc1-7c3c-4186-881a-0e403a28221a",
   "metadata": {},
   "outputs": [],
   "source": [
    "import pmd_beamphysics as pmd\n",
    "import sys\n",
    "\n",
    "#Need to get lume-gpt\n",
    "sys.path.append('/Users/nmajik/Documents/SLAC/git/lume-gpt')\n",
    "#Referring to https://github.com/ColwynGulliford/lume-gpt/blob/master/examples/gdf_to_particles.ipynb\n",
    "from gpt.particles import gdf_to_particle_groups"
   ]
  },
  {
   "cell_type": "code",
   "execution_count": 6,
   "id": "4c1753a3-9813-4d30-b872-8c6c51d777cb",
   "metadata": {},
   "outputs": [],
   "source": [
    "#importFilePath = \"/Users/nmajik/Documents/SLAC/slacsyncgit/bmadExample/bmad/beams/nmmToL0AFEND_2bunch_2024-02-16Clean/bunchData.gdf\"\n",
    "importFilePath = \"/Users/nmajik/Documents/SLAC/slacsyncgit/bmadExample/bmad/beams/nmmToL0AFEND_2bunch_2024-02-16Clean/result_1.gdf\"\n",
    "#importFilePath = \"/Users/nmajik/Documents/SLAC/git/lume-gpt/examples/templates/drift/gpt.out.gdf\""
   ]
  },
  {
   "cell_type": "code",
   "execution_count": 7,
   "id": "b348760b-7a23-42a6-adf8-d44b97e060ee",
   "metadata": {},
   "outputs": [
    {
     "name": "stdout",
     "output_type": "stream",
     "text": [
      "Help on function gdf_to_particle_groups in module gpt.particles:\n",
      "\n",
      "gdf_to_particle_groups(gdffile, verbose=False, load_fields=False)\n",
      "    Read an output gdf file from GPT into a lists of tout and screen particle groups\n",
      "\n"
     ]
    }
   ],
   "source": [
    "help(gdf_to_particle_groups)"
   ]
  },
  {
   "cell_type": "code",
   "execution_count": 8,
   "id": "0680523c-873d-467e-b2b7-a356dd288066",
   "metadata": {},
   "outputs": [
    {
     "data": {
      "text/plain": [
       "True"
      ]
     },
     "execution_count": 8,
     "metadata": {},
     "output_type": "execute_result"
    }
   ],
   "source": [
    "#Confirm file exists...\n",
    "from pathlib import Path\n",
    "Path(importFilePath).exists()"
   ]
  },
  {
   "cell_type": "code",
   "execution_count": 9,
   "id": "4e3f5d15-35c6-4f56-95a8-63a4a2829c2c",
   "metadata": {},
   "outputs": [
    {
     "name": "stdout",
     "output_type": "stream",
     "text": [
      "True\n"
     ]
    }
   ],
   "source": [
    "touts, screens, fields  = gdf_to_particle_groups(importFilePath, load_fields=True)"
   ]
  },
  {
   "cell_type": "code",
   "execution_count": 10,
   "id": "0a7ecc95-457a-4ff0-9475-140875892d7a",
   "metadata": {},
   "outputs": [
    {
     "data": {
      "text/plain": [
       "[<ParticleGroup with 3996532 particles at 0x178d13910>]"
      ]
     },
     "execution_count": 10,
     "metadata": {},
     "output_type": "execute_result"
    }
   ],
   "source": [
    "screens"
   ]
  },
  {
   "cell_type": "code",
   "execution_count": 11,
   "id": "96212228-e8aa-466f-b829-ab7c6d40026e",
   "metadata": {},
   "outputs": [],
   "source": [
    "P = screens[0]"
   ]
  },
  {
   "cell_type": "code",
   "execution_count": 13,
   "id": "7a56f69f-7672-45e3-ac31-8e9fd70ecc29",
   "metadata": {},
   "outputs": [],
   "source": [
    "P.write('2024-02-16_2bunch.h5')"
   ]
  },
  {
   "cell_type": "code",
   "execution_count": null,
   "id": "4018053c-0a57-4f4c-bf0c-2df60ec40662",
   "metadata": {},
   "outputs": [],
   "source": []
  }
 ],
 "metadata": {
  "kernelspec": {
   "display_name": "Python 3 (ipykernel)",
   "language": "python",
   "name": "python3"
  },
  "language_info": {
   "codemirror_mode": {
    "name": "ipython",
    "version": 3
   },
   "file_extension": ".py",
   "mimetype": "text/x-python",
   "name": "python",
   "nbconvert_exporter": "python",
   "pygments_lexer": "ipython3",
   "version": "3.11.7"
  }
 },
 "nbformat": 4,
 "nbformat_minor": 5
}

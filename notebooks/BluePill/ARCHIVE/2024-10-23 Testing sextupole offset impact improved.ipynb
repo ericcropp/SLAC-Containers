{
 "cells": [
  {
   "cell_type": "code",
   "execution_count": 1,
   "id": "61997cc0-8792-4014-a8f8-b3859faff766",
   "metadata": {},
   "outputs": [],
   "source": [
    "from UTILITY_quickstart import *\n",
    "import yaml\n",
    "\n",
    "with open('setLattice_defaults.yml', 'r') as file:\n",
    "    importedDefaultSettings = yaml.safe_load(file)"
   ]
  },
  {
   "cell_type": "code",
   "execution_count": 2,
   "id": "5ae3b41f-a6f2-450e-abfe-6b6dd96f5ecc",
   "metadata": {},
   "outputs": [
    {
     "name": "stdout",
     "output_type": "stream",
     "text": [
      "Environment set to:  /Users/nmajik/Documents/SLAC/FACET2-Bmad-PyTao\n",
      "Tracking to end\n",
      "CSR on\n",
      "Overwriting lattice with setLattice() defaults\n",
      "No defaults file provided to setLattice(). Using setLattice_defaults.yml\n",
      "Number of macro particles = 100000.0\n",
      "Loaded activeBeamFile.h5\n",
      "Set track_start = L0AFEND, track_end = L0BFEND\n",
      "Tracking!\n",
      "trackBeam() exiting\n"
     ]
    }
   ],
   "source": [
    "tao = initializeTao(\n",
    "    #inputBeamFilePathSuffix = '/beams/nmmToL0AFEND_2bunch_2024-02-16Clean/2024-02-16_2bunch_1e5Downsample_nudgeWeights.h5',\n",
    "    #inputBeamFilePathSuffix = '/beams/L0AFEND_facet2-lattice.h5',\n",
    "    #inputBeamFilePathSuffix = '/beams/2024-10-14_Impact_TwoBunch/2024-10-14_TwoBunch.h5',\n",
    "    inputBeamFilePathSuffix = '/beams/2024-10-22_Impact_OneBunch/2024-10-22_oneBunch.h5',\n",
    "\n",
    "    csrTF = True,\n",
    "    numMacroParticles=1e5,\n",
    "    #loadDefaultLatticeTF=False,\n",
    ")\n",
    "\n",
    "\n",
    "\n",
    "\n",
    "\n",
    "\n",
    "\n",
    "#Set aside the initial beam for later reference\n",
    "trackBeam(tao, trackEnd = \"L0BFEND\", verbose = True)\n",
    "PInit = ParticleGroup(data=tao.bunch_data(\"L0AFEND\"))"
   ]
  },
  {
   "cell_type": "code",
   "execution_count": 3,
   "id": "2633e599-b309-4481-83eb-ea7c99188595",
   "metadata": {},
   "outputs": [
    {
     "name": "stdout",
     "output_type": "stream",
     "text": [
      "Loaded activeBeamFile.h5\n",
      "Set track_start = L0AFEND, track_end = end\n",
      "Set track_end = BEGBC14_1\n",
      "Tracking!\n",
      "Beam centered at BEGBC14 written to patchBeamFile.h5\n",
      "Loaded patchBeamFile.h5\n",
      "Set track_start = BEGBC14_1, track_end = end\n",
      "Set track_end = BEGBC20\n",
      "Tracking!\n",
      "Beam centered at BEGBC20 written to patchBeamFile.h5\n",
      "Loaded patchBeamFile.h5\n",
      "Set track_start = BEGBC20, track_end = end\n",
      "Tracking!\n",
      "trackBeam() exiting\n"
     ]
    }
   ],
   "source": [
    "trackBeam(tao, centerBC14 = True, centerBC20 = True, verbose = True)"
   ]
  },
  {
   "cell_type": "code",
   "execution_count": 4,
   "id": "8d48f1e7-0619-46ad-a7aa-d7c5ff48fcdd",
   "metadata": {},
   "outputs": [],
   "source": [
    "P_baseline_BEGBC20 = getBeamAtElement(tao, \"BEGBC20\")\n",
    "P_baseline_CB1LE = getBeamAtElement(tao, \"CB1LE\")\n",
    "P_baseline_MFFF = getBeamAtElement(tao, \"MFFF\")\n",
    "P_baseline_PENT = getBeamAtElement(tao, \"PENT\")"
   ]
  },
  {
   "cell_type": "code",
   "execution_count": 5,
   "id": "e96cb57f-ac78-4e72-96fd-902c2a2d3b63",
   "metadata": {},
   "outputs": [
    {
     "data": {
      "text/plain": [
       "\u001b[0;31mSignature:\u001b[0m\n",
       "\u001b[0mtrackBeam\u001b[0m\u001b[0;34m(\u001b[0m\u001b[0;34m\u001b[0m\n",
       "\u001b[0;34m\u001b[0m    \u001b[0mtao\u001b[0m\u001b[0;34m,\u001b[0m\u001b[0;34m\u001b[0m\n",
       "\u001b[0;34m\u001b[0m    \u001b[0mtrackStart\u001b[0m\u001b[0;34m=\u001b[0m\u001b[0;34m'L0AFEND'\u001b[0m\u001b[0;34m,\u001b[0m\u001b[0;34m\u001b[0m\n",
       "\u001b[0;34m\u001b[0m    \u001b[0mtrackEnd\u001b[0m\u001b[0;34m=\u001b[0m\u001b[0;34m'end'\u001b[0m\u001b[0;34m,\u001b[0m\u001b[0;34m\u001b[0m\n",
       "\u001b[0;34m\u001b[0m    \u001b[0mlaserHeater\u001b[0m\u001b[0;34m=\u001b[0m\u001b[0;32mFalse\u001b[0m\u001b[0;34m,\u001b[0m\u001b[0;34m\u001b[0m\n",
       "\u001b[0;34m\u001b[0m    \u001b[0mcenterBC14\u001b[0m\u001b[0;34m=\u001b[0m\u001b[0;32mFalse\u001b[0m\u001b[0;34m,\u001b[0m\u001b[0;34m\u001b[0m\n",
       "\u001b[0;34m\u001b[0m    \u001b[0mcenterBC20\u001b[0m\u001b[0;34m=\u001b[0m\u001b[0;32mFalse\u001b[0m\u001b[0;34m,\u001b[0m\u001b[0;34m\u001b[0m\n",
       "\u001b[0;34m\u001b[0m    \u001b[0mverbose\u001b[0m\u001b[0;34m=\u001b[0m\u001b[0;32mFalse\u001b[0m\u001b[0;34m,\u001b[0m\u001b[0;34m\u001b[0m\n",
       "\u001b[0;34m\u001b[0m    \u001b[0;34m**\u001b[0m\u001b[0mkwargs\u001b[0m\u001b[0;34m,\u001b[0m\u001b[0;34m\u001b[0m\n",
       "\u001b[0;34m\u001b[0m\u001b[0;34m)\u001b[0m\u001b[0;34m\u001b[0m\u001b[0;34m\u001b[0m\u001b[0m\n",
       "\u001b[0;31mDocstring:\u001b[0m <no docstring>\n",
       "\u001b[0;31mFile:\u001b[0m      ~/Documents/SLAC/FACET2-Bmad-PyTao/UTILITY_quickstart.py\n",
       "\u001b[0;31mType:\u001b[0m      function"
      ]
     },
     "metadata": {},
     "output_type": "display_data"
    }
   ],
   "source": [
    "?trackBeam"
   ]
  },
  {
   "cell_type": "code",
   "execution_count": 6,
   "id": "c55653f3-2999-4e8e-b063-0bf9b86b160d",
   "metadata": {},
   "outputs": [
    {
     "name": "stdout",
     "output_type": "stream",
     "text": [
      "Loaded activeBeamFile.h5\n",
      "Set track_start = CB1LE, track_end = end\n",
      "Tracking!\n",
      "trackBeam() exiting\n"
     ]
    },
    {
     "data": {
      "text/plain": [
       "-0.00014099459412770596"
      ]
     },
     "execution_count": 6,
     "metadata": {},
     "output_type": "execute_result"
    }
   ],
   "source": [
    "activeSettings = importedDefaultSettings | {\n",
    "    #Nominal\n",
    "    # \"S1EL_xOffset\" : 0.0017699239,\n",
    "    # \"S1EL_yOffset\" : 0.0001764778,\n",
    "    # \"S2EL_xOffset\" : -0.00217966,\n",
    "    # \"S2EL_yOffset\" : 0.0002035951,\n",
    "    # \"S2ER_xOffset\" : -0.002841106,\n",
    "    # \"S2ER_yOffset\" : 0.0007044006,\n",
    "    # \"S1ER_xOffset\" : 0.0009039826,\n",
    "    # \"S1ER_yOffset\" : 0.0005750563,\n",
    "\n",
    "\n",
    "    #XCOR compensated\n",
    "    # \"S2EL_xOffset\" : -0.00017966,\n",
    "    # \"XC1FFkG\" : -0.043,\n",
    "\n",
    "    #2024-10-19 shifts\n",
    "    \"S1EL_xOffset\" : 0.0036,\n",
    "    \"S1EL_yOffset\" : 0.0014,\n",
    "    \"S2EL_xOffset\" : 0.0002,\n",
    "    \"S2EL_yOffset\" : 0.0001,\n",
    "    \"S2ER_xOffset\" : -0.002,\n",
    "    \"S2ER_yOffset\" : -0.0002,\n",
    "    \"S1ER_xOffset\" : 0.0000,\n",
    "    \"S1ER_yOffset\" : 0.0009,\n",
    "\n",
    "}\n",
    "setLattice(tao, **activeSettings)\n",
    "\n",
    "\n",
    "makeBeamActiveBeamFile(P_baseline_CB1LE)\n",
    "\n",
    "tao.cmd('reinit beam')\n",
    "\n",
    "trackBeam(tao, trackStart = \"CB1LE\", centerBC14 = False, centerBC20 = False, verbose = True)\n",
    "\n",
    "P_mod_PENT = getBeamAtElement(tao, \"PENT\")\n",
    "\n",
    "np.median(P_mod_PENT.x)"
   ]
  },
  {
   "cell_type": "code",
   "execution_count": 7,
   "id": "d9311f98-35d1-45d7-8dba-c102b96f6dec",
   "metadata": {},
   "outputs": [
    {
     "data": {
      "text/plain": [
       "9.601737668601955e-07"
      ]
     },
     "execution_count": 7,
     "metadata": {},
     "output_type": "execute_result"
    }
   ],
   "source": [
    "np.median(P_baseline_PENT.x)"
   ]
  },
  {
   "cell_type": "code",
   "execution_count": 8,
   "id": "ec4ca1fa-449c-4ea2-a25b-31a24b72de6d",
   "metadata": {},
   "outputs": [
    {
     "data": {
      "image/png": "[encoded data removed]",
      "text/plain": [
       "<Figure size 640x480 with 3 Axes>"
      ]
     },
     "metadata": {},
     "output_type": "display_data"
    },
    {
     "data": {
      "image/png": "[encoded data removed]",
      "text/plain": [
       "<Figure size 640x480 with 3 Axes>"
      ]
     },
     "metadata": {},
     "output_type": "display_data"
    },
    {
     "data": {
      "text/plain": [
       "<Figure size 640x480 with 0 Axes>"
      ]
     },
     "metadata": {},
     "output_type": "display_data"
    }
   ],
   "source": [
    "for activeBeam in [P_baseline_PENT, P_mod_PENT]:\n",
    "    display(plotMod(activeBeam, 'x', 'y', bins=500, xlim = (-500e-6, 500e-6), ylim = (-500e-6, 500e-6)))\n",
    "    #display(plotMod(activeBeam, 'x', 'xp', bins=300))\n",
    "    #display(plotMod(activeBeam, 'delta_t', 'pz', bins=300, xlim = (-100e-15, 100e-15)))\n",
    "\n",
    "plt.clf()"
   ]
  },
  {
   "cell_type": "code",
   "execution_count": 9,
   "id": "ff0b48ed-adb7-46e9-9a0b-17fc191afa49",
   "metadata": {},
   "outputs": [
    {
     "data": {
      "text/plain": [
       "{'P_mean_x': -4.4271119194967683e-07,\n",
       " 'P_mean_y': 3.6089274572999118e-06,\n",
       " 'P_sigma_x': 3.6874014649402405e-05,\n",
       " 'P_sigma_y': 3.0136091284904854e-05,\n",
       " 'P_mean_xp': 0.0003382245835551981,\n",
       " 'P_mean_yp': 0.00013629905276834933,\n",
       " 'P_median_x': 9.601737668601955e-07,\n",
       " 'P_median_y': -5.199909124460766e-06,\n",
       " 'P_median_xp': 0.0003826329150916858,\n",
       " 'P_median_yp': 0.00013751219193295283,\n",
       " 'P_sigmaSI90_x': 3.2368375630418465e-05,\n",
       " 'P_sigmaSI90_y': 2.5841623855119228e-05,\n",
       " 'P_emitSI90_x': 9.22393718931069e-05,\n",
       " 'P_emitSI90_y': 1.2712984109316828e-05,\n",
       " 'P_zLen': 8.374360045036972e-05,\n",
       " 'P_zCentroid': 991.3317726766454,\n",
       " 'lostChargeFraction': 2.999999999997449e-05}"
      ]
     },
     "execution_count": 9,
     "metadata": {},
     "output_type": "execute_result"
    }
   ],
   "source": [
    "savedData = {}\n",
    "\n",
    "P = P_baseline_PENT\n",
    "\n",
    "\n",
    "for PActiveStr in [\"P\"]:# , \"PWitness\"]:\n",
    "    PActive = locals()[PActiveStr]\n",
    "    for val in [\"mean_x\", \"mean_y\", \"sigma_x\", \"sigma_y\", \"mean_xp\", \"mean_yp\"]:\n",
    "        savedData[f\"{PActiveStr}_{val}\"] = PActive[val]\n",
    "        #print(f\"\"\"{PActiveStr}_{val} = {PActive[val]}\"\"\")\n",
    "\n",
    "    #Note that this is not a standard deviation; also imposes cost for being off zero\n",
    "    #savedData[f\"{PActiveStr}_xCost\"] = np.sqrt(np.mean((PActive.x)**2))\n",
    "    #savedData[f\"{PActiveStr}_yCost\"] = np.sqrt(np.mean((PActive.y)**2))\n",
    "\n",
    "\n",
    "    #Using the product was making it report flat beams...\n",
    "    #savedData[f\"{PActiveStr}_totalCost\"] = savedData[f\"{PActiveStr}_xCost\"] * savedData[f\"{PActiveStr}_yCost\"]\n",
    "    #Instead, average\n",
    "    #savedData[f\"{PActiveStr}_totalCost\"] = 0.5*(savedData[f\"{PActiveStr}_xCost\"] + savedData[f\"{PActiveStr}_yCost\"])\n",
    "\n",
    "    savedData[f\"{PActiveStr}_median_x\"] = np.median(PActive.x)\n",
    "    savedData[f\"{PActiveStr}_median_y\"] = np.median(PActive.y)\n",
    "\n",
    "    savedData[f\"{PActiveStr}_median_xp\"] = np.median(PActive.xp)\n",
    "    savedData[f\"{PActiveStr}_median_yp\"] = np.median(PActive.yp)\n",
    "    \n",
    "    savedData[f\"{PActiveStr}_sigmaSI90_x\"] = smallestIntervalImpliedSigma(PActive.x, percentage = 0.90)\n",
    "    savedData[f\"{PActiveStr}_sigmaSI90_y\"] = smallestIntervalImpliedSigma(PActive.y, percentage = 0.90)\n",
    "\n",
    "    savedData[f\"{PActiveStr}_emitSI90_x\"] = smallestIntervalImpliedEmittance(PActive, plane = \"x\", percentage = 0.90)\n",
    "    savedData[f\"{PActiveStr}_emitSI90_y\"] = smallestIntervalImpliedEmittance(PActive, plane = \"y\", percentage = 0.90)\n",
    "\n",
    "    savedData[f\"{PActiveStr}_zLen\"] = smallestIntervalImpliedSigma(PActive.t * 3e8, percentage=0.9)\n",
    "\n",
    "    savedData[f\"{PActiveStr}_zCentroid\"] = np.median(PActive.t * 3e8)\n",
    "\n",
    "# savedData[\"bunchSpacing\"] = savedData[\"PWitness_zCentroid\"] - savedData[\"PDrive_zCentroid\"]\n",
    "\n",
    "# savedData[\"transverseCentroidOffset\"] = np.sqrt(\n",
    "#         (savedData[\"PDrive_mean_x\"] - savedData[\"PWitness_mean_x\"])**2 + \n",
    "#         (savedData[\"PDrive_mean_y\"] - savedData[\"PWitness_mean_y\"])**2\n",
    "#     )\n",
    "\n",
    "\n",
    "#savedData[\"lostChargeFraction\"] = 1 - (tao.bunch_params(\"DTOTR\")['n_particle_live'] / tao.bunch_params(\"BEGBC20\")['n_particle_live'])\n",
    "savedData[\"lostChargeFraction\"] = 1 - (P.charge / PInit.charge)\n",
    "\n",
    "savedData"
   ]
  },
  {
   "cell_type": "code",
   "execution_count": 10,
   "id": "aee39a6d-e81d-4a4a-9bce-40ea66c244f6",
   "metadata": {},
   "outputs": [
    {
     "data": {
      "text/plain": [
       "{'P_mean_x': -0.00020893440126368206,\n",
       " 'P_mean_y': 2.0912005583087607e-05,\n",
       " 'P_sigma_x': 0.00018972611387065794,\n",
       " 'P_sigma_y': 7.002617077052164e-05,\n",
       " 'P_mean_xp': 0.00019180489232073074,\n",
       " 'P_mean_yp': 4.684457246728083e-05,\n",
       " 'P_median_x': -0.00014099459412770596,\n",
       " 'P_median_y': 4.7998865912747006e-05,\n",
       " 'P_median_xp': 0.00019778483603050915,\n",
       " 'P_median_yp': 1.979286156176471e-05,\n",
       " 'P_sigmaSI90_x': 0.00017764614975784472,\n",
       " 'P_sigmaSI90_y': 5.9556027114368446e-05,\n",
       " 'P_emitSI90_x': 0.00017598821941129826,\n",
       " 'P_emitSI90_y': 8.292241733398768e-05,\n",
       " 'P_zLen': 9.726364758082892e-05,\n",
       " 'P_zCentroid': 991.3318135971022,\n",
       " 'lostChargeFraction': 2.999999999997449e-05}"
      ]
     },
     "execution_count": 10,
     "metadata": {},
     "output_type": "execute_result"
    }
   ],
   "source": [
    "savedData = {}\n",
    "\n",
    "P = P_mod_PENT\n",
    "\n",
    "\n",
    "for PActiveStr in [\"P\"]:# , \"PWitness\"]:\n",
    "    PActive = locals()[PActiveStr]\n",
    "    for val in [\"mean_x\", \"mean_y\", \"sigma_x\", \"sigma_y\", \"mean_xp\", \"mean_yp\"]:\n",
    "        savedData[f\"{PActiveStr}_{val}\"] = PActive[val]\n",
    "        #print(f\"\"\"{PActiveStr}_{val} = {PActive[val]}\"\"\")\n",
    "\n",
    "    #Note that this is not a standard deviation; also imposes cost for being off zero\n",
    "    #savedData[f\"{PActiveStr}_xCost\"] = np.sqrt(np.mean((PActive.x)**2))\n",
    "    #savedData[f\"{PActiveStr}_yCost\"] = np.sqrt(np.mean((PActive.y)**2))\n",
    "\n",
    "\n",
    "    #Using the product was making it report flat beams...\n",
    "    #savedData[f\"{PActiveStr}_totalCost\"] = savedData[f\"{PActiveStr}_xCost\"] * savedData[f\"{PActiveStr}_yCost\"]\n",
    "    #Instead, average\n",
    "    #savedData[f\"{PActiveStr}_totalCost\"] = 0.5*(savedData[f\"{PActiveStr}_xCost\"] + savedData[f\"{PActiveStr}_yCost\"])\n",
    "\n",
    "    savedData[f\"{PActiveStr}_median_x\"] = np.median(PActive.x)\n",
    "    savedData[f\"{PActiveStr}_median_y\"] = np.median(PActive.y)\n",
    "\n",
    "    savedData[f\"{PActiveStr}_median_xp\"] = np.median(PActive.xp)\n",
    "    savedData[f\"{PActiveStr}_median_yp\"] = np.median(PActive.yp)\n",
    "    \n",
    "    savedData[f\"{PActiveStr}_sigmaSI90_x\"] = smallestIntervalImpliedSigma(PActive.x, percentage = 0.90)\n",
    "    savedData[f\"{PActiveStr}_sigmaSI90_y\"] = smallestIntervalImpliedSigma(PActive.y, percentage = 0.90)\n",
    "\n",
    "    savedData[f\"{PActiveStr}_emitSI90_x\"] = smallestIntervalImpliedEmittance(PActive, plane = \"x\", percentage = 0.90)\n",
    "    savedData[f\"{PActiveStr}_emitSI90_y\"] = smallestIntervalImpliedEmittance(PActive, plane = \"y\", percentage = 0.90)\n",
    "\n",
    "    savedData[f\"{PActiveStr}_zLen\"] = smallestIntervalImpliedSigma(PActive.t * 3e8, percentage=0.9)\n",
    "\n",
    "    savedData[f\"{PActiveStr}_zCentroid\"] = np.median(PActive.t * 3e8)\n",
    "\n",
    "# savedData[\"bunchSpacing\"] = savedData[\"PWitness_zCentroid\"] - savedData[\"PDrive_zCentroid\"]\n",
    "\n",
    "# savedData[\"transverseCentroidOffset\"] = np.sqrt(\n",
    "#         (savedData[\"PDrive_mean_x\"] - savedData[\"PWitness_mean_x\"])**2 + \n",
    "#         (savedData[\"PDrive_mean_y\"] - savedData[\"PWitness_mean_y\"])**2\n",
    "#     )\n",
    "\n",
    "\n",
    "#savedData[\"lostChargeFraction\"] = 1 - (tao.bunch_params(\"DTOTR\")['n_particle_live'] / tao.bunch_params(\"BEGBC20\")['n_particle_live'])\n",
    "savedData[\"lostChargeFraction\"] = 1 - (P.charge / PInit.charge)\n",
    "\n",
    "savedData"
   ]
  },
  {
   "cell_type": "code",
   "execution_count": 11,
   "id": "3a38509a-8b9c-4b65-9e8f-b05b2fd8fa24",
   "metadata": {},
   "outputs": [
    {
     "name": "stdout",
     "output_type": "stream",
     "text": [
      "\n",
      "Emittances and sigmas - implied by 90% charge\n"
     ]
    },
    {
     "ename": "KeyError",
     "evalue": "'PDrive_emitSI90_x'",
     "output_type": "error",
     "traceback": [
      "\u001b[0;31m---------------------------------------------------------------------------\u001b[0m",
      "\u001b[0;31mKeyError\u001b[0m                                  Traceback (most recent call last)",
      "Cell \u001b[0;32mIn[11], line 7\u001b[0m\n\u001b[1;32m      1\u001b[0m \u001b[38;5;66;03m#print(f\"\"\"Bunch spacing: \\t\\t{1e6 * savedData[\"bunchSpacing\"] :.3g} um\"\"\")\u001b[39;00m\n\u001b[1;32m      2\u001b[0m \n\u001b[1;32m      3\u001b[0m \u001b[38;5;66;03m#print(f\"\"\"Transverse offset: \\t{1e6*np.sqrt((savedData[\"PDrive_median_x\"] - savedData[\"PWitness_median_x\"])**2 + (savedData[\"PDrive_median_y\"] - savedData[\"PWitness_median_y\"])**2) :.3g} um\"\"\")\u001b[39;00m\n\u001b[1;32m      4\u001b[0m \u001b[38;5;66;03m#print(f\"\"\"Angular misalignment: \\t{1e3*np.sqrt((savedData[\"PDrive_median_xp\"] - savedData[\"PWitness_median_xp\"])**2 + (savedData[\"PDrive_median_yp\"] - savedData[\"PWitness_median_yp\"])**2) :.3g} mrad\"\"\")\u001b[39;00m\n\u001b[1;32m      6\u001b[0m \u001b[38;5;28mprint\u001b[39m(\u001b[38;5;124m\"\u001b[39m\u001b[38;5;130;01m\\n\u001b[39;00m\u001b[38;5;124mEmittances and sigmas - implied by 90\u001b[39m\u001b[38;5;132;01m% c\u001b[39;00m\u001b[38;5;124mharge\u001b[39m\u001b[38;5;124m\"\u001b[39m)\n\u001b[0;32m----> 7\u001b[0m \u001b[38;5;28mprint\u001b[39m(\u001b[38;5;124mf\u001b[39m\u001b[38;5;124m\"\"\"\u001b[39m\u001b[38;5;124mDriver emittance: \u001b[39m\u001b[38;5;130;01m\\t\u001b[39;00m\u001b[38;5;132;01m{\u001b[39;00m\u001b[38;5;241m1e6\u001b[39m\u001b[38;5;250m \u001b[39m\u001b[38;5;241m*\u001b[39m\u001b[38;5;250m \u001b[39msavedData[\u001b[38;5;124m\"\u001b[39m\u001b[38;5;124mPDrive_emitSI90_x\u001b[39m\u001b[38;5;124m\"\u001b[39m]\u001b[38;5;250m \u001b[39m\u001b[38;5;132;01m:\u001b[39;00m\u001b[38;5;124m.3g\u001b[39m\u001b[38;5;132;01m}\u001b[39;00m\u001b[38;5;124m × \u001b[39m\u001b[38;5;132;01m{\u001b[39;00m\u001b[38;5;241m1e6\u001b[39m\u001b[38;5;250m \u001b[39m\u001b[38;5;241m*\u001b[39m\u001b[38;5;250m \u001b[39msavedData[\u001b[38;5;124m\"\u001b[39m\u001b[38;5;124mPDrive_emitSI90_y\u001b[39m\u001b[38;5;124m\"\u001b[39m]\u001b[38;5;250m \u001b[39m\u001b[38;5;132;01m:\u001b[39;00m\u001b[38;5;124m.3g\u001b[39m\u001b[38;5;132;01m}\u001b[39;00m\u001b[38;5;124m um-rad\u001b[39m\u001b[38;5;124m\"\"\"\u001b[39m)\n\u001b[1;32m      8\u001b[0m \u001b[38;5;66;03m#print(f\"\"\"Witness emittance: \\t{1e6 * savedData[\"PWitness_emitSI90_x\"] :.3g} × {1e6 * savedData[\"PWitness_emitSI90_y\"] :.3g} um-rad\"\"\")\u001b[39;00m\n\u001b[1;32m     10\u001b[0m \u001b[38;5;28mprint\u001b[39m(\u001b[38;5;124mf\u001b[39m\u001b[38;5;124m\"\"\"\u001b[39m\u001b[38;5;124mDriver sigma_x,y,z: \u001b[39m\u001b[38;5;130;01m\\t\u001b[39;00m\u001b[38;5;132;01m{\u001b[39;00m\u001b[38;5;241m1e6\u001b[39m\u001b[38;5;250m \u001b[39m\u001b[38;5;241m*\u001b[39m\u001b[38;5;250m \u001b[39msavedData[\u001b[38;5;124m\"\u001b[39m\u001b[38;5;124mPDrive_sigmaSI90_x\u001b[39m\u001b[38;5;124m\"\u001b[39m]\u001b[38;5;250m \u001b[39m\u001b[38;5;132;01m:\u001b[39;00m\u001b[38;5;124m.3g\u001b[39m\u001b[38;5;132;01m}\u001b[39;00m\u001b[38;5;124m, \u001b[39m\u001b[38;5;132;01m{\u001b[39;00m\u001b[38;5;241m1e6\u001b[39m\u001b[38;5;250m \u001b[39m\u001b[38;5;241m*\u001b[39m\u001b[38;5;250m \u001b[39msavedData[\u001b[38;5;124m\"\u001b[39m\u001b[38;5;124mPDrive_sigmaSI90_y\u001b[39m\u001b[38;5;124m\"\u001b[39m]\u001b[38;5;250m \u001b[39m\u001b[38;5;132;01m:\u001b[39;00m\u001b[38;5;124m.3g\u001b[39m\u001b[38;5;132;01m}\u001b[39;00m\u001b[38;5;124m, \u001b[39m\u001b[38;5;132;01m{\u001b[39;00m\u001b[38;5;241m1e6\u001b[39m\u001b[38;5;250m \u001b[39m\u001b[38;5;241m*\u001b[39m\u001b[38;5;250m \u001b[39msavedData[\u001b[38;5;124m\"\u001b[39m\u001b[38;5;124mPDrive_zLen\u001b[39m\u001b[38;5;124m\"\u001b[39m]\u001b[38;5;250m \u001b[39m\u001b[38;5;132;01m:\u001b[39;00m\u001b[38;5;124m.3g\u001b[39m\u001b[38;5;132;01m}\u001b[39;00m\u001b[38;5;124m um\u001b[39m\u001b[38;5;124m\"\"\"\u001b[39m)\n",
      "\u001b[0;31mKeyError\u001b[0m: 'PDrive_emitSI90_x'"
     ]
    }
   ],
   "source": [
    "#print(f\"\"\"Bunch spacing: \\t\\t{1e6 * savedData[\"bunchSpacing\"] :.3g} um\"\"\")\n",
    "\n",
    "#print(f\"\"\"Transverse offset: \\t{1e6*np.sqrt((savedData[\"PDrive_median_x\"] - savedData[\"PWitness_median_x\"])**2 + (savedData[\"PDrive_median_y\"] - savedData[\"PWitness_median_y\"])**2) :.3g} um\"\"\")\n",
    "#print(f\"\"\"Angular misalignment: \\t{1e3*np.sqrt((savedData[\"PDrive_median_xp\"] - savedData[\"PWitness_median_xp\"])**2 + (savedData[\"PDrive_median_yp\"] - savedData[\"PWitness_median_yp\"])**2) :.3g} mrad\"\"\")\n",
    "\n",
    "print(\"\\nEmittances and sigmas - implied by 90% charge\")\n",
    "print(f\"\"\"Driver emittance: \\t{1e6 * savedData[\"PDrive_emitSI90_x\"] :.3g} × {1e6 * savedData[\"PDrive_emitSI90_y\"] :.3g} um-rad\"\"\")\n",
    "#print(f\"\"\"Witness emittance: \\t{1e6 * savedData[\"PWitness_emitSI90_x\"] :.3g} × {1e6 * savedData[\"PWitness_emitSI90_y\"] :.3g} um-rad\"\"\")\n",
    "\n",
    "print(f\"\"\"Driver sigma_x,y,z: \\t{1e6 * savedData[\"PDrive_sigmaSI90_x\"] :.3g}, {1e6 * savedData[\"PDrive_sigmaSI90_y\"] :.3g}, {1e6 * savedData[\"PDrive_zLen\"] :.3g} um\"\"\")\n",
    "#print(f\"\"\"Witness sigma_x,y,z: \\t{1e6 * savedData[\"PWitness_sigmaSI90_x\"] :.3g}, {1e6 * savedData[\"PWitness_sigmaSI90_y\"] :.3g}, {1e6 * savedData[\"PWitness_zLen\"] :.3g} um\"\"\")\n",
    "\n",
    "\n",
    "\n",
    "print(\"\\nEmittances and sigmas - literal standard deviation\")\n",
    "\n",
    "print(f\"\"\"Driver emittance: \\t{1e6 * PDrive[\"norm_emit_x\"] :.3g} × {1e6 * PDrive[\"norm_emit_y\"] :.3g} um-rad\"\"\")\n",
    "#print(f\"\"\"Witness emittance: \\t{1e6 * PWitness[\"norm_emit_x\"] :.3g} × {1e6 * PWitness[\"norm_emit_y\"] :.3g} um-rad\"\"\")\n",
    "\n",
    "print(f\"\"\"Driver sigma_x,y,z: \\t{1e6 * PDrive[\"sigma_x\"] :.3g}, {1e6 * PDrive[\"sigma_y\"] :.3g}, {1e6 * PDrive[\"sigma_z\"] :.3g} um\"\"\")\n",
    "#print(f\"\"\"Witness sigma_x,y,z: \\t{1e6 * PWitness[\"sigma_x\"] :.3g}, {1e6 * PWitness[\"sigma_y\"] :.3g}, {1e6 * PWitness[\"sigma_z\"] :.3g} um\"\"\")"
   ]
  },
  {
   "cell_type": "code",
   "execution_count": null,
   "id": "6bdb6524-e001-46cb-9b7c-1c66d72a97ac",
   "metadata": {},
   "outputs": [],
   "source": [
    "smallestIntervalImpliedEmittance(P, percentage = 0.5)"
   ]
  },
  {
   "cell_type": "code",
   "execution_count": null,
   "id": "7e4fbfd9-bab0-4710-8c9c-e0b26c89e8a5",
   "metadata": {},
   "outputs": [],
   "source": [
    "print(\"Drive:\")\n",
    "display(plotMod(PDrive, 'x', 'y',  bins=300))\n",
    "#print(\"Witness:\")\n",
    "#display(plotMod(PWitness, 'x', 'y',  bins=300))\n",
    "display(plotMod(P, 'z', 'pz', bins=300))\n",
    "#display(slicePlotMod(P, 'norm_emit_x', slice_key = \"z\", n_slice=100))\n",
    "display(slicePlotMod(P, 'norm_emit_x', slice_key = \"t\", n_slice=100))\n",
    "plt.clf()"
   ]
  },
  {
   "cell_type": "code",
   "execution_count": null,
   "id": "0c359d4b-e091-4bf9-80b3-c8851dc5b9d8",
   "metadata": {},
   "outputs": [],
   "source": [
    "display(plotMod(PDrive, 'delta_t', 'pz', bins=300))"
   ]
  },
  {
   "cell_type": "code",
   "execution_count": null,
   "id": "b6ae32d2-604b-4622-be6a-0864af463f0b",
   "metadata": {},
   "outputs": [],
   "source": [
    "display(plotMod(P, 'x', 'y',  bins=300))\n",
    "display(plotMod(P, 'x', 'pz', bins=300))\n",
    "display(plotMod(P, 'x', 'xp', bins=300))\n",
    "display(plotMod(P, 'y', 'yp', bins=300))\n",
    "display(plotMod(P, 'z', 'pz', bins=300))\n",
    "display(slicePlotMod(P, 'norm_emit_x',n_slice=100))"
   ]
  },
  {
   "cell_type": "markdown",
   "id": "283ad7e8-20ef-4b38-8b2d-5cf6f8b09bca",
   "metadata": {},
   "source": [
    "## Further study at other elements"
   ]
  },
  {
   "cell_type": "code",
   "execution_count": null,
   "id": "1e45a411-f84c-42a0-951a-6f8b8eb723a7",
   "metadata": {},
   "outputs": [],
   "source": [
    "?calcBMAG"
   ]
  },
  {
   "cell_type": "code",
   "execution_count": null,
   "id": "2ed5c0f8-1b0b-4225-9886-7c03dc6f1973",
   "metadata": {},
   "outputs": [],
   "source": [
    "#def addBMAGToDict(dict, targetBeta, targetAlpha)"
   ]
  },
  {
   "cell_type": "code",
   "execution_count": null,
   "id": "d3c367b7-9f8a-430e-bcdf-9e854e1b7db8",
   "metadata": {
    "scrolled": true
   },
   "outputs": [],
   "source": [
    "P = getBeamAtElement(tao, \"PR10571\")\n",
    "#PDrive, PWitness = getDriverAndWitness(P)\n",
    "\n",
    "\n",
    "#PR10571 lucretia live model lattice 2024-10-16\n",
    "targetBetaX = 5.7\n",
    "targetBetaY = 2.6\n",
    "targetAlphaX = -2.1\n",
    "targetAlphaY = 0.0\n",
    "\n",
    "PTwiss = P.twiss(plane = \"x\", fraction = 0.9) | P.twiss(plane = \"y\", fraction = 0.9)\n",
    "#PDriveTwiss = PDrive.twiss(plane = \"x\", fraction = 0.9) | PDrive.twiss(plane = \"y\", fraction = 0.9)\n",
    "#PWitnessTwiss = PWitness.twiss(plane = \"x\", fraction = 0.9) | PWitness.twiss(plane = \"y\", fraction = 0.9)\n",
    "\n",
    "print(f\"\"\"System BMAG:  {calcBMAG(targetBetaX, targetAlphaX, PTwiss[\"beta_x\"], PTwiss[\"alpha_x\"])}, {calcBMAG(targetBetaY, targetAlphaY, PTwiss[\"beta_y\"], PTwiss[\"alpha_y\"])}\"\"\")\n",
    "#print(f\"\"\"Drive BMAG:   {calcBMAG(targetBetaX, targetAlphaX, PDriveTwiss[\"beta_x\"], PDriveTwiss[\"alpha_x\"])}, {calcBMAG(targetBetaY, targetAlphaY, PDriveTwiss[\"beta_y\"], PDriveTwiss[\"alpha_y\"])}\"\"\")\n",
    "#print(f\"\"\"Witness BMAG: {calcBMAG(targetBetaX, targetAlphaX, PWitnessTwiss[\"beta_x\"], PWitnessTwiss[\"alpha_x\"])}, {calcBMAG(targetBetaY, targetAlphaY, PWitnessTwiss[\"beta_y\"], PWitnessTwiss[\"alpha_y\"])}\"\"\")\n",
    "\n",
    "print() \n",
    "\n",
    "print(f\"\"\"System emit:  {PTwiss[\"norm_emit_x\"]}, {PTwiss[\"norm_emit_y\"]}\"\"\")\n",
    "#print(f\"\"\"Drive emit:   {PDriveTwiss[\"norm_emit_x\"]}, {PDriveTwiss[\"norm_emit_y\"]}\"\"\")\n",
    "#print(f\"\"\"Witness emit: {PWitnessTwiss[\"norm_emit_x\"]}, {PWitnessTwiss[\"norm_emit_y\"]}\"\"\")"
   ]
  },
  {
   "cell_type": "code",
   "execution_count": null,
   "id": "c63085ee-011e-491d-8ef9-5142c865167d",
   "metadata": {},
   "outputs": [],
   "source": [
    "P = getBeamAtElement(tao, \"BEGBC20\")\n",
    "#PDrive, PWitness = getDriverAndWitness(P)\n",
    "\n",
    "\n",
    "#BEGBC20 lucretia live model lattice 2024-10-16\n",
    "targetBetaX = 11.5\n",
    "targetBetaY = 27.3\n",
    "targetAlphaX = 0.7\n",
    "targetAlphaY = 1.2\n",
    "\n",
    "PTwiss = P.twiss(plane = \"x\", fraction = 0.9) | P.twiss(plane = \"y\", fraction = 0.9)\n",
    "#PDriveTwiss = PDrive.twiss(plane = \"x\", fraction = 0.9) | PDrive.twiss(plane = \"y\", fraction = 0.9)\n",
    "#PWitnessTwiss = PWitness.twiss(plane = \"x\", fraction = 0.9) | PWitness.twiss(plane = \"y\", fraction = 0.9)\n",
    "\n",
    "\n",
    "#print(f\"\"\"Drive beta x / y: {PDriveTwiss[\"beta_x\"]}, {PDriveTwiss[\"beta_y\"]}\"\"\")\n",
    "#print(f\"\"\"Drive alpha x / y: {PDriveTwiss[\"alpha_x\"]}, {PDriveTwiss[\"alpha_y\"]}\"\"\")\n",
    "\n",
    "print()\n",
    "\n",
    "print(f\"\"\"System BMAG:  {calcBMAG(targetBetaX, targetAlphaX, PTwiss[\"beta_x\"], PTwiss[\"alpha_x\"])}, {calcBMAG(targetBetaY, targetAlphaY, PTwiss[\"beta_y\"], PTwiss[\"alpha_y\"])}\"\"\")\n",
    "#print(f\"\"\"Drive BMAG:   {calcBMAG(targetBetaX, targetAlphaX, PDriveTwiss[\"beta_x\"], PDriveTwiss[\"alpha_x\"])}, {calcBMAG(targetBetaY, targetAlphaY, PDriveTwiss[\"beta_y\"], PDriveTwiss[\"alpha_y\"])}\"\"\")\n",
    "#print(f\"\"\"Witness BMAG: {calcBMAG(targetBetaX, targetAlphaX, PWitnessTwiss[\"beta_x\"], PWitnessTwiss[\"alpha_x\"])}, {calcBMAG(targetBetaY, targetAlphaY, PWitnessTwiss[\"beta_y\"], PWitnessTwiss[\"alpha_y\"])}\"\"\")\n",
    "\n",
    "print() \n",
    "\n",
    "print(f\"\"\"System emit:  {PTwiss[\"norm_emit_x\"]}, {PTwiss[\"norm_emit_y\"]}\"\"\")\n",
    "#print(f\"\"\"Drive emit:   {PDriveTwiss[\"norm_emit_x\"]}, {PDriveTwiss[\"norm_emit_y\"]}\"\"\")\n",
    "#print(f\"\"\"Witness emit: {PWitnessTwiss[\"norm_emit_x\"]}, {PWitnessTwiss[\"norm_emit_y\"]}\"\"\")"
   ]
  },
  {
   "cell_type": "code",
   "execution_count": null,
   "id": "ba6f9d39-3dd3-42e1-8e06-9c8439ad8a95",
   "metadata": {},
   "outputs": [],
   "source": [
    "P = getBeamAtElement(tao, \"MFFF\")\n",
    "#PDrive, PWitness = getDriverAndWitness(P)\n",
    "PDrive = P\n",
    "\n",
    "\n",
    "#MFFF lucretia live model lattice 2024-10-16\n",
    "targetBetaX = 11.6\n",
    "targetBetaY = 25.2\n",
    "targetAlphaX = -0.64\n",
    "targetAlphaY = -1.6\n",
    "\n",
    "PTwiss = P.twiss(plane = \"x\", fraction = 0.9) | P.twiss(plane = \"y\", fraction = 0.9)\n",
    "PDriveTwiss = PDrive.twiss(plane = \"x\", fraction = 0.9) | PDrive.twiss(plane = \"y\", fraction = 0.9)\n",
    "#PWitnessTwiss = PWitness.twiss(plane = \"x\", fraction = 0.9) | PWitness.twiss(plane = \"y\", fraction = 0.9)\n",
    "\n",
    "\n",
    "print(f\"\"\"Drive beta x / y: {PDriveTwiss[\"beta_x\"]}, {PDriveTwiss[\"beta_y\"]}\"\"\")\n",
    "print(f\"\"\"Drive alpha x / y: {PDriveTwiss[\"alpha_x\"]}, {PDriveTwiss[\"alpha_y\"]}\"\"\")\n",
    "\n",
    "print()\n",
    "\n",
    "print(f\"\"\"System BMAG:  {calcBMAG(targetBetaX, targetAlphaX, PTwiss[\"beta_x\"], PTwiss[\"alpha_x\"])}, {calcBMAG(targetBetaY, targetAlphaY, PTwiss[\"beta_y\"], PTwiss[\"alpha_y\"])}\"\"\")\n",
    "#print(f\"\"\"Drive BMAG:   {calcBMAG(targetBetaX, targetAlphaX, PDriveTwiss[\"beta_x\"], PDriveTwiss[\"alpha_x\"])}, {calcBMAG(targetBetaY, targetAlphaY, PDriveTwiss[\"beta_y\"], PDriveTwiss[\"alpha_y\"])}\"\"\")\n",
    "#print(f\"\"\"Witness BMAG: {calcBMAG(targetBetaX, targetAlphaX, PWitnessTwiss[\"beta_x\"], PWitnessTwiss[\"alpha_x\"])}, {calcBMAG(targetBetaY, targetAlphaY, PWitnessTwiss[\"beta_y\"], PWitnessTwiss[\"alpha_y\"])}\"\"\")\n",
    "\n",
    "print() \n",
    "\n",
    "print(f\"\"\"System emit:  {PTwiss[\"norm_emit_x\"]}, {PTwiss[\"norm_emit_y\"]}\"\"\")\n",
    "#print(f\"\"\"Drive emit:   {PDriveTwiss[\"norm_emit_x\"]}, {PDriveTwiss[\"norm_emit_y\"]}\"\"\")\n",
    "#print(f\"\"\"Witness emit: {PWitnessTwiss[\"norm_emit_x\"]}, {PWitnessTwiss[\"norm_emit_y\"]}\"\"\")"
   ]
  },
  {
   "cell_type": "code",
   "execution_count": null,
   "id": "0d44fb36-d670-4d61-aee1-b642d14f18e0",
   "metadata": {},
   "outputs": [],
   "source": [
    "P = getBeamAtElement(tao, \"PENT\")\n",
    "#PDrive, PWitness = getDriverAndWitness(P)\n",
    "\n",
    "#PENT lucretia live model lattice 2024-10-16\n",
    "targetBetaX = 0.5\n",
    "targetBetaY = 0.5\n",
    "targetAlphaX = 0.0\n",
    "targetAlphaY = 0.0\n",
    "\n",
    "PTwiss = P.twiss(plane = \"x\", fraction = 0.9) | P.twiss(plane = \"y\", fraction = 0.9)\n",
    "#PDriveTwiss = PDrive.twiss(plane = \"x\", fraction = 0.9) | PDrive.twiss(plane = \"y\", fraction = 0.9)\n",
    "#PWitnessTwiss = PWitness.twiss(plane = \"x\", fraction = 0.9) | PWitness.twiss(plane = \"y\", fraction = 0.9)\n",
    "\n",
    "print(f\"\"\"System beta x / y: {PTwiss[\"beta_x\"]}, {PTwiss[\"beta_y\"]}\"\"\")\n",
    "print(f\"\"\"System alpha x / y: {PTwiss[\"alpha_x\"]}, {PTwiss[\"alpha_y\"]}\"\"\")\n",
    "\n",
    "#print(f\"\"\"Drive beta x / y: {PDriveTwiss[\"beta_x\"]}, {PDriveTwiss[\"beta_y\"]}\"\"\")\n",
    "#print(f\"\"\"Drive alpha x / y: {PDriveTwiss[\"alpha_x\"]}, {PDriveTwiss[\"alpha_y\"]}\"\"\")\n",
    "\n",
    "#print(f\"\"\"Witness beta x / y: {PWitnessTwiss[\"beta_x\"]}, {PWitnessTwiss[\"beta_y\"]}\"\"\")\n",
    "#print(f\"\"\"Witness alpha x / y: {PWitnessTwiss[\"alpha_x\"]}, {PWitnessTwiss[\"alpha_y\"]}\"\"\")\n",
    "\n",
    "print(f\"\"\"System BMAG:  {calcBMAG(targetBetaX, targetAlphaX, PTwiss[\"beta_x\"], PTwiss[\"alpha_x\"])}, {calcBMAG(targetBetaY, targetAlphaY, PTwiss[\"beta_y\"], PTwiss[\"alpha_y\"])}\"\"\")\n",
    "#print(f\"\"\"Drive BMAG:   {calcBMAG(targetBetaX, targetAlphaX, PDriveTwiss[\"beta_x\"], PDriveTwiss[\"alpha_x\"])}, {calcBMAG(targetBetaY, targetAlphaY, PDriveTwiss[\"beta_y\"], PDriveTwiss[\"alpha_y\"])}\"\"\")\n",
    "#print(f\"\"\"Witness BMAG: {calcBMAG(targetBetaX, targetAlphaX, PWitnessTwiss[\"beta_x\"], PWitnessTwiss[\"alpha_x\"])}, {calcBMAG(targetBetaY, targetAlphaY, PWitnessTwiss[\"beta_y\"], PWitnessTwiss[\"alpha_y\"])}\"\"\")\n",
    "\n",
    "print() \n",
    "\n",
    "print(f\"\"\"System emit:  {PTwiss[\"norm_emit_x\"]}, {PTwiss[\"norm_emit_y\"]}\"\"\")\n",
    "#print(f\"\"\"Drive emit:   {PDriveTwiss[\"norm_emit_x\"]}, {PDriveTwiss[\"norm_emit_y\"]}\"\"\")\n",
    "#print(f\"\"\"Witness emit: {PWitnessTwiss[\"norm_emit_x\"]}, {PWitnessTwiss[\"norm_emit_y\"]}\"\"\")"
   ]
  },
  {
   "cell_type": "code",
   "execution_count": null,
   "id": "91cf2a32-c8dd-4d35-9a73-292d3d889719",
   "metadata": {},
   "outputs": [],
   "source": [
    "\n",
    "for activeElement in [\"PR10571\", \"BEGBC20\", \"MFFF\", \"PENT\"]:\n",
    "    print(activeElement)\n",
    "    P = getBeamAtElement(tao, activeElement)\n",
    "    #PDrive, PWitness = getDriverAndWitness(P)\n",
    "    \n",
    "    display(plotMod(P, 'x', 'xp',  bins=300))\n",
    "    display(plotMod(P, 'pz', 'x',  bins=300))"
   ]
  },
  {
   "cell_type": "markdown",
   "id": "3904146f-5381-4d06-b5bb-c6754ed82c7b",
   "metadata": {},
   "source": [
    "# Comparing golden lattice to present lattice"
   ]
  },
  {
   "cell_type": "code",
   "execution_count": null,
   "id": "029d1aaa-6f42-47e2-b302-f3b5eb363112",
   "metadata": {},
   "outputs": [],
   "source": [
    "# tao = initializeTao(loadDefaultLatticeTF=True)\n",
    "# tao.cmd(\"show ele PENT\")"
   ]
  },
  {
   "cell_type": "code",
   "execution_count": null,
   "id": "ae5a62ac-e1e6-4be5-b7b2-15796de92880",
   "metadata": {},
   "outputs": [],
   "source": [
    "# tao = initializeTao(loadDefaultLatticeTF=False)\n",
    "# tao.cmd(\"show ele PENT\")"
   ]
  },
  {
   "cell_type": "code",
   "execution_count": null,
   "id": "46abb2ec-d664-4e3a-85c6-0deabfd22290",
   "metadata": {},
   "outputs": [],
   "source": [
    "# tao = initializeTao(loadDefaultLatticeTF=True)\n",
    "# getMatrix(tao, \"BEGBC20\", \"PENT\", print = True);\n",
    "\n",
    "# print()\n",
    "\n",
    "# tao = initializeTao(loadDefaultLatticeTF=False)\n",
    "# getMatrix(tao, \"BEGBC20\", \"PENT\", print = True);"
   ]
  }
 ],
 "metadata": {
  "kernelspec": {
   "display_name": "Python 3 (ipykernel)",
   "language": "python",
   "name": "python3"
  },
  "language_info": {
   "codemirror_mode": {
    "name": "ipython",
    "version": 3
   },
   "file_extension": ".py",
   "mimetype": "text/x-python",
   "name": "python",
   "nbconvert_exporter": "python",
   "pygments_lexer": "ipython3",
   "version": "3.11.8"
  }
 },
 "nbformat": 4,
 "nbformat_minor": 5
}

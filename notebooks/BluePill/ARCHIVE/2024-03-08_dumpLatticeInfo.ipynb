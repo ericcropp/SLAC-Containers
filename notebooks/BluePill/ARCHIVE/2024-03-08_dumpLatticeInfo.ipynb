{
 "cells": [
  {
   "cell_type": "markdown",
   "id": "05575b5e-7221-4dcb-a23f-409ba5e0af10",
   "metadata": {
    "tags": []
   },
   "source": [
    "## FACET2e BMAD simple example\n",
    "\n",
    "You will need to install pytao, BMAD, and openpmd-beamphysics (as well as standard libraries like numpy, matplotlib and pandas)\n",
    "\n",
    " conda install -c conda-forge bmad\n",
    " conda install -c conda-forge pytao, openpmd-beamphysics"
   ]
  },
  {
   "cell_type": "code",
   "execution_count": 1,
   "id": "e28b911f-bb2e-4b3b-8109-2fbcce2ceed6",
   "metadata": {},
   "outputs": [
    {
     "name": "stdout",
     "output_type": "stream",
     "text": [
      "env: FACET2_LATTICE=/Users/nmajik/Downloads/facet2-lattice\n",
      "Make sure enviornment was set!:   /Users/nmajik/Downloads/facet2-lattice\n"
     ]
    }
   ],
   "source": [
    "from pytao import Tao\n",
    "import numpy as np\n",
    "import matplotlib.pyplot as plt\n",
    "import matplotlib.cm as cm\n",
    "import matplotlib.patches as mpatches\n",
    "import re\n",
    "import io\n",
    "from os import path,environ\n",
    "import pandas as pd\n",
    "\n",
    "from pmd_beamphysics import ParticleGroup\n",
    "from pmd_beamphysics.statistics import resample_particles\n",
    "\n",
    "#needed for lattice_init\n",
    "#%env FACET2_LATTICE /u/ar/dcesar/notebooks/facet_bmad\n",
    "#%env FACET2_LATTICE /Users/nmajik/Documents/SLAC/slacsyncgit/bmadExample\n",
    "\n",
    "%env FACET2_LATTICE /Users/nmajik/Downloads/facet2-lattice\n",
    "\n",
    "print('Make sure enviornment was set!:  ', environ['FACET2_LATTICE']) "
   ]
  },
  {
   "cell_type": "markdown",
   "id": "e8fbacdd-1248-4a6b-af56-18ffe9d308a5",
   "metadata": {},
   "source": [
    "# Start tao"
   ]
  },
  {
   "cell_type": "code",
   "execution_count": 2,
   "id": "104918f7-4db6-4f4f-8f0c-a21aa52ecb5b",
   "metadata": {},
   "outputs": [],
   "source": [
    "tao=Tao('-init {:s}/bmad/models/f2_elec/tao.init -noplot'.format(environ['FACET2_LATTICE'])) "
   ]
  },
  {
   "cell_type": "code",
   "execution_count": 3,
   "id": "a26d9663-f4f9-44da-8811-3d8c199cc061",
   "metadata": {},
   "outputs": [
    {
     "data": {
      "text/plain": [
       "{'L': 0.108,\n",
       " 'units#L': 'm',\n",
       " 'TILT': 0.0,\n",
       " 'units#TILT': 'rad',\n",
       " 'K1': 22.738480699594,\n",
       " 'units#K1': '1/m^2',\n",
       " 'FRINGE_TYPE': 'None',\n",
       " 'FRINGE_AT': 'Both_Ends',\n",
       " 'SPIN_FRINGE_ON': True,\n",
       " 'R0_ELEC': 0.0,\n",
       " 'units#R0_ELEC': 'm',\n",
       " 'R0_MAG': 0.0,\n",
       " 'units#R0_MAG': 'm',\n",
       " 'STATIC_LINEAR_MAP': False,\n",
       " 'FQ1': 0.0,\n",
       " 'units#FQ1': 'm',\n",
       " 'FQ2': 0.0,\n",
       " 'units#FQ2': 'm',\n",
       " 'X_PITCH': 0.0,\n",
       " 'units#X_PITCH': 'rad',\n",
       " 'Y_PITCH': 0.0,\n",
       " 'units#Y_PITCH': 'rad',\n",
       " 'X_OFFSET': 0.0,\n",
       " 'units#X_OFFSET': 'm',\n",
       " 'Y_OFFSET': 0.0,\n",
       " 'units#Y_OFFSET': 'm',\n",
       " 'Z_OFFSET': 0.0,\n",
       " 'units#Z_OFFSET': 'm',\n",
       " 'HKICK': 0.0,\n",
       " 'units#HKICK': '',\n",
       " 'VKICK': 0.0,\n",
       " 'units#VKICK': '',\n",
       " 'BL_HKICK': -0.0,\n",
       " 'units#BL_HKICK': 'T*m',\n",
       " 'BL_VKICK': -0.0,\n",
       " 'units#BL_VKICK': 'T*m',\n",
       " 'B1_GRADIENT': -9.480846704517,\n",
       " 'units#B1_GRADIENT': 'T/m',\n",
       " 'PTC_CANONICAL_COORDS': True,\n",
       " 'DELTA_REF_TIME': 3.60252233035757e-10,\n",
       " 'units#DELTA_REF_TIME': 'sec',\n",
       " 'P0C': 124998955.515929,\n",
       " 'units#P0C': 'eV',\n",
       " 'E_TOT': 125000000.0,\n",
       " 'units#E_TOT': 'eV',\n",
       " 'X_PITCH_TOT': 0.0,\n",
       " 'units#X_PITCH_TOT': 'rad',\n",
       " 'Y_PITCH_TOT': 0.0,\n",
       " 'units#Y_PITCH_TOT': 'rad',\n",
       " 'X_OFFSET_TOT': 0.0,\n",
       " 'units#X_OFFSET_TOT': 'm',\n",
       " 'Y_OFFSET_TOT': 0.0,\n",
       " 'units#Y_OFFSET_TOT': 'm',\n",
       " 'Z_OFFSET_TOT': 0.0,\n",
       " 'units#Z_OFFSET_TOT': 'm',\n",
       " 'TILT_TOT': 0.0,\n",
       " 'units#TILT_TOT': 'rad',\n",
       " 'REF_TIME_START': 2.80324374632577e-08,\n",
       " 'units#REF_TIME_START': 'sec',\n",
       " 'INTEGRATOR_ORDER': 2,\n",
       " 'NUM_STEPS': 122,\n",
       " 'DS_STEP': 0.000885245901639344,\n",
       " 'units#DS_STEP': 'm',\n",
       " 'CSR_DS_STEP': 0.0,\n",
       " 'units#CSR_DS_STEP': 'm',\n",
       " 'LORD_PAD1': 0.0,\n",
       " 'units#LORD_PAD1': 'm',\n",
       " 'LORD_PAD2': 0.0,\n",
       " 'units#LORD_PAD2': 'm',\n",
       " 'X1_LIMIT': 0.016,\n",
       " 'units#X1_LIMIT': 'm',\n",
       " 'X2_LIMIT': 0.016,\n",
       " 'units#X2_LIMIT': 'm',\n",
       " 'Y1_LIMIT': 0.016,\n",
       " 'units#Y1_LIMIT': 'm',\n",
       " 'Y2_LIMIT': 0.016,\n",
       " 'units#Y2_LIMIT': 'm',\n",
       " 'aperture_at': 'Exit_End',\n",
       " 'offset_moves_aperture': False,\n",
       " 'aperture_type': 'Rectangular',\n",
       " 'field_master': False}"
      ]
     },
     "execution_count": 3,
     "metadata": {},
     "output_type": "execute_result"
    }
   ],
   "source": [
    "tao.ele_gen_attribs('QE10441')"
   ]
  },
  {
   "cell_type": "code",
   "execution_count": 4,
   "id": "65b9c3ab-1a1b-479f-855c-4e1ba3326421",
   "metadata": {},
   "outputs": [
    {
     "data": {
      "text/plain": [
       "['Element # 1',\n",
       " 'Element Name: DL00',\n",
       " 'Key: Drift',\n",
       " 'S_start, S:      0.000000,     -0.869048',\n",
       " 'Ref_time_start, Ref_time:  0.000000E+00, -2.909403E-09',\n",
       " '',\n",
       " 'Attribute values [Only non-zero values shown]:',\n",
       " '    1  L                           = -8.6904800E-01 m',\n",
       " '   17  STATIC_LINEAR_MAP           =  F (0)',\n",
       " '   53  P0C                         =  5.9782004E+06 eV           BETA                        =  9.9636673E-01',\n",
       " '   54  E_TOT                       =  6.0000000E+06 eV           GAMMA                       =  1.1741707E+01',\n",
       " '   64  REF_TIME_START              =  0.0000000E+00 sec      50  DELTA_REF_TIME              = -2.9094027E-09 sec',\n",
       " '   65  INTEGRATOR_ORDER            = 0',\n",
       " '   67  DS_STEP                     =  8.6904800E-01 m        66  NUM_STEPS                   = 1',\n",
       " '   68  CSR_DS_STEP                 =  0.0000000E+00 m',\n",
       " '',\n",
       " '       TRACKING_METHOD              =  Bmad_Standard             APERTURE_AT                =  Exit_End',\n",
       " '       MAT6_CALC_METHOD             =  Auto                      APERTURE_TYPE              =  Rectangular',\n",
       " '       SPIN_TRACKING_METHOD         =  Tracking                  OFFSET_MOVES_APERTURE      =  F',\n",
       " '       PTC_INTEGRATION_TYPE         =  Matrix_Kick               SYMPLECTIFY                =  F',\n",
       " '       CSR_METHOD                   =  Off                       LONGITUDINAL ORIENTATION   =       1',\n",
       " '       SPACE_CHARGE_METHOD          =  Off                       REF_SPECIES                =  Electron',\n",
       " '       FIELD_CALC                   =  Bmad_Standard',\n",
       " '',\n",
       " 'Slave_status: Free',\n",
       " '',\n",
       " 'Lord_status:  Not_a_Lord',\n",
       " '',\n",
       " 'Twiss at end of element:',\n",
       " '                          A              B            Cbar                        C_mat',\n",
       " '  Beta (m)        12.10810806    14.13936207  |   0.00000000   0.00000000      0.00000000   0.00000000',\n",
       " '  Alpha           12.82101170    13.85331251  |   0.00000000   0.00000000      0.00000000   0.00000000',\n",
       " '  Gamma (1/m)     13.65847911    13.64377449  |   Gamma_c =   1.00000000       Mode_Flip = F',\n",
       " '  Phi (rad)       -0.73259652    -0.39234533            X              Y              Z',\n",
       " '  Eta (m)          0.00000000     0.00000000     0.00000000     0.00000000    -0.00630349',\n",
       " '  Etap             0.00000000     0.00000000     0.00000000     0.00000000     0.00000000',\n",
       " '',\n",
       " 'Tracking: Electron,   State: Alive',\n",
       " '         Position[mm] Momentum[mrad]        Spin   |',\n",
       " '  X:       0.00000000     0.00000000               | t_particle [sec]:       -2.90940274E-09  E_tot: 6.00000E+06',\n",
       " '  Y:       0.00000000     0.00000000               | t_part-t_ref [sec]:      4.13590306E-25  PC:    5.97820E+06',\n",
       " '  Z:       0.00000000     0.00000000               | (t_ref-t_part)*Vel [m]: -1.23540761E-16  Beta:  0.996366734']"
      ]
     },
     "execution_count": 4,
     "metadata": {},
     "output_type": "execute_result"
    }
   ],
   "source": [
    "tao.cmd('show ele 1')"
   ]
  },
  {
   "cell_type": "code",
   "execution_count": 5,
   "id": "03a4d00b-a89e-41bc-a8ae-b5709be7741c",
   "metadata": {},
   "outputs": [],
   "source": [
    "myArray = [tao.cmd(f'show ele {i}') for i in range(0, 1578)]\n",
    "\n",
    "file_path = 'output.txt'\n",
    "\n",
    "# Writing array to a file\n",
    "with open(file_path, 'w') as file:\n",
    "    for element in myArray:\n",
    "        for item in element: \n",
    "            file.write(str(item) + '\\n')"
   ]
  },
  {
   "cell_type": "code",
   "execution_count": 6,
   "id": "deb86dd3-0d88-4634-b673-9e30041b2c4c",
   "metadata": {},
   "outputs": [],
   "source": [
    "\"\"\"\n",
    "myArray = [tao.ele_gen_attribs(i) for i in range(0, 1578)]\n",
    "\n",
    "file_path = 'output.txt'\n",
    "\n",
    "# Writing array to a file\n",
    "with open(file_path, 'w') as file:\n",
    "    for element in myArray:\n",
    "        for item in element: \n",
    "            file.write(str(item) + '\\n')\n",
    "            \"\"\""
   ]
  },
  {
   "cell_type": "code",
   "execution_count": null,
   "id": "11d442ae-2091-4b5a-a63b-2d66c7902f9b",
   "metadata": {},
   "outputs": [],
   "source": []
  }
 ],
 "metadata": {
  "kernelspec": {
   "display_name": "Python 3 (ipykernel)",
   "language": "python",
   "name": "python3"
  },
  "language_info": {
   "codemirror_mode": {
    "name": "ipython",
    "version": 3
   },
   "file_extension": ".py",
   "mimetype": "text/x-python",
   "name": "python",
   "nbconvert_exporter": "python",
   "pygments_lexer": "ipython3",
   "version": "3.11.8"
  }
 },
 "nbformat": 4,
 "nbformat_minor": 5
}

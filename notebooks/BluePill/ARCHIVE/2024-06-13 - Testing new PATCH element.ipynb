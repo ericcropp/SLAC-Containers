{
 "cells": [
  {
   "cell_type": "markdown",
   "id": "2b5b2c4f-19aa-4a91-b07f-77f5787cb2f1",
   "metadata": {},
   "source": [
    "# Import statements"
   ]
  },
  {
   "cell_type": "code",
   "execution_count": 1,
   "id": "484b12af-1b2c-40ad-a3ad-5aa9f8ccc095",
   "metadata": {},
   "outputs": [
    {
     "name": "stdout",
     "output_type": "stream",
     "text": [
      "env: FACET2_LATTICE=/Users/nmajik/Documents/SLAC/FACET2-Bmad-PyTao\n",
      "Make sure enviornment was set!:   /Users/nmajik/Documents/SLAC/FACET2-Bmad-PyTao\n"
     ]
    }
   ],
   "source": [
    "from pytao import Tao\n",
    "import numpy as np\n",
    "import matplotlib.pyplot as plt\n",
    "import matplotlib.cm as cm\n",
    "import matplotlib.patches as mpatches\n",
    "import re\n",
    "import io\n",
    "from os import path,environ\n",
    "import pandas as pd\n",
    "import random\n",
    "from IPython.display import display, clear_output, update_display\n",
    "import bayes_opt\n",
    "\n",
    "from pmd_beamphysics import ParticleGroup\n",
    "#from pmd_beamphysics.statistics import resample_particles\n",
    "import pmd_beamphysics.statistics\n",
    "\n",
    "from UTILITY_plotNMM import plotNMM, slicePlotNMM\n",
    "from UTILITY_linacPhaseAndAmplitude import getLinacMatchStrings, setLinacPhase, setLinacGradientAuto\n",
    "from UTILITY_modifyAndSaveInputBeam import modifyAndSaveInputBeam\n",
    "from UTILITY_setLattice import setLattice, getBendkG, getQuadkG, getSextkG\n",
    "\n",
    "import os\n",
    "filePath = os.getcwd()\n",
    "%env FACET2_LATTICE {filePath}\n",
    "#%env FACET2_LATTICE /Users/nmajik/Documents/SLAC/slacsyncgit/bmadExample\n",
    "\n",
    "print('Make sure enviornment was set!:  ', environ['FACET2_LATTICE']) "
   ]
  },
  {
   "cell_type": "markdown",
   "id": "dbf4325a-3cfe-42b0-9dac-24c72716e25c",
   "metadata": {},
   "source": [
    "# Start tao"
   ]
  },
  {
   "cell_type": "code",
   "execution_count": 2,
   "id": "ee485116-1c69-4b00-b14a-6893deb5ed7c",
   "metadata": {},
   "outputs": [
    {
     "data": {
      "text/plain": [
       "[]"
      ]
     },
     "execution_count": 2,
     "metadata": {},
     "output_type": "execute_result"
    }
   ],
   "source": [
    "tao=Tao('-init {:s}/bmad/models/f2_elec/tao.init -noplot'.format(environ['FACET2_LATTICE'])) \n",
    "#tao=Tao('-init {:s}/bmad/models/f2_elec/tao.init'.format(environ['FACET2_LATTICE'])) \n",
    "\n",
    "#Need to explicitly add non-MARKER places to save beam...\n",
    "tao.cmd(\"set beam add_saved_at = DTOTR, XTCAVF, M2EX\")"
   ]
  },
  {
   "cell_type": "code",
   "execution_count": null,
   "id": "4a6c14fe-0e48-4ce2-864e-0c91059b9b81",
   "metadata": {},
   "outputs": [],
   "source": []
  },
  {
   "cell_type": "code",
   "execution_count": 3,
   "id": "fdc9bcdb-2814-477e-bc9d-294a80f695d9",
   "metadata": {},
   "outputs": [],
   "source": [
    "#Compare Lucretia vs Bmad DTOTR\n",
    "bmadZOffset = 2015.26 - 1016.16"
   ]
  },
  {
   "cell_type": "markdown",
   "id": "dae0a1f1-6c25-4d50-8f12-ab55e192357a",
   "metadata": {},
   "source": [
    "## Test 10 GeV imaging case"
   ]
  },
  {
   "cell_type": "raw",
   "id": "0e1724bb-ec40-4ec8-a604-f3cf6637d05a",
   "metadata": {},
   "source": [
    "From http://physics-elog.slac.stanford.edu/facetelog/show.jsp?dir=/2024/24/13.06&pos=2024-06-13T19:04:13\n",
    "\n",
    "\n",
    "Spectrometer parameters:\n",
    "\n",
    "E = 10.00, Zob = IPWS1 (1993.91m), Zim = DTOTR (2015.26m), M12 = 0.00, M34 = 0.00\n",
    "Q0D = -115.82 Q1D = 180.69 Q2D = -115.82  B5D36 = 10.00\n",
    "\n",
    "Transport matrix from Zob to Zim at E = 10.00\n",
    "M = [ -3.5101    0.0015         0         0\n",
    "      -0.2998   -0.2848         0         0\n",
    "            0         0   -1.9610   -0.0001\n",
    "            0         0   -0.1349   -0.5100 ]"
   ]
  },
  {
   "cell_type": "code",
   "execution_count": 4,
   "id": "aaf1d84e-16dc-433c-b6df-c63f27f5cac4",
   "metadata": {},
   "outputs": [
    {
     "data": {
      "text/plain": [
       "['Symplectic Error:  1.22E-15',\n",
       " '',\n",
       " '    -3.50939072    -0.00970279     0.00000000     0.00000000     0.00000000    -0.00000000   :  5.12838631E-17',\n",
       " '    -0.29983580    -0.28577874     0.00000000     0.00000000     0.00000000     0.00000000   :  1.83691865E-31',\n",
       " '    -0.00000000     0.00000000    -1.96057888    -0.00290215     0.00000000     0.05590319   :  4.65995863E-14',\n",
       " '    -0.00000000     0.00000000    -0.13491947    -0.51025315     0.00000000     0.00600002   : -3.12690058E-19',\n",
       " '     0.00000000     0.00000000     0.00422108    -0.02850736     1.00000000    -0.00000581   :  8.34763835E-17',\n",
       " '     0.00000000     0.00000000     0.00000000     0.00000000     0.00000000     1.00000000   :  1.97215226E-30']"
      ]
     },
     "execution_count": 4,
     "metadata": {},
     "output_type": "execute_result"
    }
   ],
   "source": [
    "setLattice(tao, Q0DkG = -115.82, Q1DkG = 180.69, Q2DkG = -115.82)\n",
    "zMin = 1993.91 - bmadZOffset\n",
    "zMax = 2015.26 - bmadZOffset\n",
    "\n",
    "tao.cmd(f\"show taylor_map -s {zMin} {zMax}\")"
   ]
  },
  {
   "cell_type": "markdown",
   "id": "418e1e49-5892-4a7b-9aae-775e790a4656",
   "metadata": {},
   "source": [
    "## Test non-10 GeV case"
   ]
  },
  {
   "cell_type": "raw",
   "id": "57ca1a0a-c4df-4c2f-baa7-86ff5cd59432",
   "metadata": {},
   "source": [
    "From http://physics-elog.slac.stanford.edu/facetelog/show.jsp?dir=/2024/24/13.06&pos=2024-06-13T19:15:13\n",
    "\n",
    "\n",
    "Spectrometer parameters:\n",
    "\n",
    "E = 8.00, Zob = Custom (1994.62m), Zim = DTOTR (2015.26m), M12 = 0.00, M34 = 0.00\n",
    "Q0D = -97.87 Q1D = 151.74 Q2D = -97.87  B5D36 = 10.00\n",
    "\n",
    "Transport matrix from Zob to Zim at E = 8.00\n",
    "M = [ -4.2372    0.0003         0         0\n",
    "      -0.3489   -0.2360         0         0\n",
    "            0         0   -1.9717   -0.0002\n",
    "            0         0   -0.1277   -0.5072 ]"
   ]
  },
  {
   "cell_type": "code",
   "execution_count": 5,
   "id": "4769ad1f-f155-4fc4-9910-f94b8b414e10",
   "metadata": {},
   "outputs": [
    {
     "data": {
      "text/plain": [
       "['Symplectic Error:  6.66E-16',\n",
       " '',\n",
       " '    -1.41645383     9.92918643     0.00000000     0.00000000     0.00000000    -0.00000000   :  7.19458906E-17',\n",
       " '    -0.15963666     0.41304711    -0.00000000     0.00000000     0.00000000     0.00000000   : -5.29822316E-31',\n",
       " '     0.00000000    -0.00000000    -1.78567704     5.00498902     0.00000000     0.05590320   :  2.80761426E-14',\n",
       " '     0.00000000     0.00000000    -0.14158087    -0.16318142     0.00000000     0.00600002   :  5.04538781E-20',\n",
       " '     0.00000000    -0.00000000     0.00279927    -0.03915239     1.00000000    -0.00000581   :  5.09202992E-18',\n",
       " '     0.00000000     0.00000000     0.00000000     0.00000000     0.00000000     1.00000000   :  3.15544362E-30']"
      ]
     },
     "execution_count": 5,
     "metadata": {},
     "output_type": "execute_result"
    }
   ],
   "source": [
    "setLattice(tao, Q0DkG = -97.9, Q1DkG = 151.7, Q2DkG = -97.9)\n",
    "\n",
    "zMin = 1994.62 - bmadZOffset\n",
    "zMax = 2015.26 - bmadZOffset\n",
    "\n",
    "tao.cmd(f\"show taylor_map -s {zMin} {zMax}\")"
   ]
  },
  {
   "cell_type": "code",
   "execution_count": 6,
   "id": "0880b28e-4f5a-4b7d-8cdd-881010105cfc",
   "metadata": {},
   "outputs": [
    {
     "data": {
      "text/plain": [
       "['Symplectic Error:  2.70E-15',\n",
       " '',\n",
       " '     0.04936916    12.36025798     0.00000000    -0.00000000     0.00000000     0.00000000   : -7.48561870E-12',\n",
       " '    -0.07785598     0.76322864    -0.00000000     0.00000000     0.00000000     0.00000000   : -2.30332015E-18',\n",
       " '     0.00000000    -0.00000000    -1.36069341     7.19963657     0.00000000     0.03578933   :  2.23330907E-03',\n",
       " '     0.00000000    -0.00000000    -0.16135175     0.11881733     0.00000000     0.00600000   :  2.15728807E-09',\n",
       " '    -0.00000000     0.00000000     0.00238949    -0.03894542     1.00000000    -0.00004588   :  3.72127404E-06',\n",
       " '     0.00000000     0.00000000     0.00000000     0.00000000     0.00000000     1.00000000   :  1.11022302E-16']"
      ]
     },
     "execution_count": 6,
     "metadata": {},
     "output_type": "execute_result"
    }
   ],
   "source": [
    "#Now change the energy with PATCH\n",
    "tao.cmd(\"set ele patch_sector20 e_tot_set=8e9\")\n",
    "tao.cmd(f\"show taylor_map -s {zMin} {zMax}\")"
   ]
  },
  {
   "cell_type": "code",
   "execution_count": 7,
   "id": "67fbca64-e77e-4686-a2bb-d68ac1053b47",
   "metadata": {},
   "outputs": [
    {
     "data": {
      "text/plain": [
       "['Symplectic Error:  6.74E-15',\n",
       " '',\n",
       " '    -1.41786573     9.92559649     0.00000000     0.00000000     0.00000000    -0.00000000   : -8.45168474E-15',\n",
       " '    -0.15970574     0.41271516    -0.00000000     0.00000000     0.00000000     0.00000000   :  1.12084866E-20',\n",
       " '     0.00000000    -0.00000000    -1.78592886     5.00259169     0.00000000     0.05592080   :  1.37585823E-09',\n",
       " '     0.00000000    -0.00000000    -0.14156116    -0.16340367     0.00000000     0.00600002   :  1.33844543E-15',\n",
       " '     0.00000000    -0.00000000     0.00279939    -0.03915330     1.00000000    -0.00000576   :  3.91911853E-12',\n",
       " '     0.00000000     0.00000000     0.00000000     0.00000000     0.00000000     1.00000000   : -2.71050543E-20']"
      ]
     },
     "execution_count": 7,
     "metadata": {},
     "output_type": "execute_result"
    }
   ],
   "source": [
    "#Well that's not right... set it back and see if it returns to preliminary value\n",
    "tao.cmd(\"set ele patch_sector20 e_tot_set=10e9\")\n",
    "tao.cmd(f\"show taylor_map -s {zMin} {zMax}\")"
   ]
  },
  {
   "cell_type": "code",
   "execution_count": 8,
   "id": "793ddf90-cf55-4f66-b80c-52ed46e7ffb8",
   "metadata": {},
   "outputs": [
    {
     "name": "stdout",
     "output_type": "stream",
     "text": [
      "9.79154046334639\n",
      "7.83323236492439\n"
     ]
    }
   ],
   "source": [
    "#OK, it does. Turns out Bmad tries recalculating the quad settings; that's the problem... it's too \"helpful\"\n",
    "tao.cmd(\"set ele patch_sector20 e_tot_set=10e9\")\n",
    "print(tao.ele_gen_attribs(\"Q0D\")['B1_GRADIENT'])\n",
    "\n",
    "tao.cmd(\"set ele patch_sector20 e_tot_set=8e9\")\n",
    "print(tao.ele_gen_attribs(\"Q0D\")['B1_GRADIENT'])\n"
   ]
  },
  {
   "cell_type": "markdown",
   "id": "e9fbb955-ad84-4464-afa2-0f342d199b05",
   "metadata": {},
   "source": [
    "## Systematic"
   ]
  },
  {
   "cell_type": "code",
   "execution_count": 9,
   "id": "7f8e064b-2ab2-4048-9fc3-5e0fef0c380d",
   "metadata": {},
   "outputs": [],
   "source": [
    "#Nominal z_ob and z_im\n",
    "# zMin = 1994.62 - bmadZOffset\n",
    "# zMax = 2015.26 - bmadZOffset\n",
    "\n",
    "#Q0D upper and lower bounds\n",
    "zMin = 997.385254\n",
    "zMin = 998.385254\n"
   ]
  },
  {
   "cell_type": "code",
   "execution_count": 10,
   "id": "6650b724-d35c-4397-befb-2cc1bd1a41cc",
   "metadata": {},
   "outputs": [
    {
     "name": "stdout",
     "output_type": "stream",
     "text": [
      "As imported\n",
      "10.9694769332638\n",
      "-0.328856645709\n"
     ]
    },
    {
     "data": {
      "text/plain": [
       "['Symplectic Error:  1.11E-15',\n",
       " '',\n",
       " '    -7.44028030    13.75736820     0.00000000     0.00000000     0.00000000    -0.00000000   : -9.97509881E-18',\n",
       " '    -0.53099539     0.84742763     0.00000000     0.00000000     0.00000000     0.00000000   : -3.40473598E-32',\n",
       " '     0.00000000    -0.00000000     0.55155892     7.44930332     0.00000000     0.05590327   :  2.51681292E-16',\n",
       " '    -0.00000000     0.00000000    -0.12732662     0.09338147     0.00000000     0.00600002   : -2.99052209E-19',\n",
       " '     0.00000000    -0.00000000    -0.01042734    -0.03947563     1.00000000    -0.00000582   : -9.45120061E-17',\n",
       " '     0.00000000     0.00000000     0.00000000     0.00000000     0.00000000     1.00000000   :  0.00000000E+00']"
      ]
     },
     "execution_count": 10,
     "metadata": {},
     "output_type": "execute_result"
    }
   ],
   "source": [
    "#This time, PATCH the energy then set the quads explicitly...\n",
    "tao=Tao('-init {:s}/bmad/models/f2_elec/tao.init -noplot'.format(environ['FACET2_LATTICE'])) \n",
    "print(\"As imported\")\n",
    "print(tao.ele_gen_attribs(\"Q0D\")['B1_GRADIENT'])\n",
    "print(tao.ele_gen_attribs(\"Q0D\")['K1'])\n",
    "tao.cmd(f\"show taylor_map -s {zMin} {zMax}\")"
   ]
  },
  {
   "cell_type": "code",
   "execution_count": 11,
   "id": "66da8967-d584-4b4f-889d-28645a9ff9e1",
   "metadata": {},
   "outputs": [
    {
     "name": "stdout",
     "output_type": "stream",
     "text": [
      "Initial magnet assignment\n",
      "9.78845977900564\n",
      "-0.293496816765105\n"
     ]
    },
    {
     "data": {
      "text/plain": [
       "['Symplectic Error:  6.66E-16',\n",
       " '',\n",
       " '    -5.50137032    15.94979181     0.00000000    -0.00000000     0.00000000     0.00000000   : -3.41455806E-17',\n",
       " '    -0.40255764     0.98533823     0.00000000     0.00000000     0.00000000     0.00000000   :  8.81112160E-32',\n",
       " '     0.00000000    -0.00000000     0.79957511     8.84379054     0.00000000     0.05590324   :  3.34262931E-15',\n",
       " '    -0.00000000     0.00000000    -0.09305724     0.22139417     0.00000000     0.00600002   : -2.70484450E-19',\n",
       " '    -0.00000000     0.00000000    -0.00999967    -0.04068625     1.00000000    -0.00000582   : -8.00855290E-18',\n",
       " '     0.00000000     0.00000000     0.00000000     0.00000000     0.00000000     1.00000000   :  1.97215226E-30']"
      ]
     },
     "execution_count": 11,
     "metadata": {},
     "output_type": "execute_result"
    }
   ],
   "source": [
    "setLattice(tao, Q0DkG = -97.9, Q1DkG = 151.7, Q2DkG = -97.9)\n",
    "tao.cmd(\"reinit data\")\n",
    "\n",
    "print(\"Initial magnet assignment\")\n",
    "print(tao.ele_gen_attribs(\"Q0D\")['B1_GRADIENT'])\n",
    "print(tao.ele_gen_attribs(\"Q0D\")['K1'])\n",
    "tao.cmd(f\"show taylor_map -s {zMin} {zMax}\")"
   ]
  },
  {
   "cell_type": "code",
   "execution_count": 12,
   "id": "b295c574-2764-4797-a257-78638a4f2422",
   "metadata": {},
   "outputs": [
    {
     "name": "stdout",
     "output_type": "stream",
     "text": [
      "After energy update\n",
      "7.83199999424593\n",
      "-0.293496816765105\n"
     ]
    },
    {
     "data": {
      "text/plain": [
       "['Symplectic Error:  7.44E-15',\n",
       " '',\n",
       " '    -3.69314424    13.71735004    -0.00000000     0.00000000     0.00000000    -0.00000000   :  4.83499471E-12',\n",
       " '    -0.35546696     1.04952975     0.00000000     0.00000000     0.00000000     0.00000000   : -9.26952028E-19',\n",
       " '    -0.00000000     0.00000000     1.40097597     9.21529747     0.00000000     0.03578929   :  2.23332009E-03',\n",
       " '     0.00000000    -0.00000000    -0.04125108     0.44244801     0.00000000     0.00600000   :  2.15728807E-09',\n",
       " '     0.00000000    -0.00000000    -0.00988220    -0.03945687     1.00000000    -0.00004589   :  3.72067032E-06',\n",
       " '     0.00000000     0.00000000     0.00000000     0.00000000     0.00000000     1.00000000   :  1.94289029E-16']"
      ]
     },
     "execution_count": 12,
     "metadata": {},
     "output_type": "execute_result"
    }
   ],
   "source": [
    "tao.cmd(\"set ele patch_sector20 e_tot_set=8e9\")\n",
    "tao.cmd(\"reinit data\")\n",
    "\n",
    "print(\"After energy update\")\n",
    "print(tao.ele_gen_attribs(\"Q0D\")['B1_GRADIENT'])\n",
    "print(tao.ele_gen_attribs(\"Q0D\")['K1'])\n",
    "tao.cmd(f\"show taylor_map -s {zMin} {zMax}\")"
   ]
  },
  {
   "cell_type": "code",
   "execution_count": 13,
   "id": "1b85dbe6-2245-4b98-88f0-8f79c21ac013",
   "metadata": {},
   "outputs": [
    {
     "name": "stdout",
     "output_type": "stream",
     "text": [
      "Reassert magnets\n",
      "9.79\n",
      "-0.366871021225917\n"
     ]
    },
    {
     "data": {
      "text/plain": [
       "['Symplectic Error:  3.71E-15',\n",
       " '',\n",
       " '    -5.50311593    12.76164189     0.00000000    -0.00000000     0.00000000     0.00000000   : -4.14227096E-12',\n",
       " '    -0.50327356     0.98536848    -0.00000000     0.00000000     0.00000000     0.00000000   : -1.24139336E-17',\n",
       " '     0.00000000    -0.00000000     0.79899529     7.07433775     0.00000000     0.03578932   :  2.23331260E-03',\n",
       " '     0.00000000    -0.00000000    -0.11637234     0.22120628     0.00000000     0.00600000   :  2.15728807E-09',\n",
       " '    -0.00000000     0.00000000    -0.00895886    -0.03452919     1.00000000    -0.00004589   :  3.72066576E-06',\n",
       " '     0.00000000     0.00000000     0.00000000     0.00000000     0.00000000     1.00000000   :  1.11022302E-16']"
      ]
     },
     "execution_count": 13,
     "metadata": {},
     "output_type": "execute_result"
    }
   ],
   "source": [
    "setLattice(tao, Q0DkG = -97.9, Q1DkG = 151.7, Q2DkG = -97.9)\n",
    "tao.cmd(\"reinit data\")\n",
    "\n",
    "print(\"Reassert magnets\")\n",
    "print(tao.ele_gen_attribs(\"Q0D\")['B1_GRADIENT'])\n",
    "print(tao.ele_gen_attribs(\"Q0D\")['K1'])\n",
    "tao.cmd(f\"show taylor_map -s {zMin} {zMax}\")"
   ]
  },
  {
   "cell_type": "code",
   "execution_count": 16,
   "id": "483b132d-9d6c-4a51-9e63-7c8389852104",
   "metadata": {},
   "outputs": [
    {
     "data": {
      "text/plain": [
       "['Element # 1552',\n",
       " 'Element Name: Q0D',\n",
       " 'Element Type:  \"2.13Q38.31\"',\n",
       " 'Element Alias:  \"LI20:LGPS:3204\"',\n",
       " 'Key: Quadrupole',\n",
       " 'S_start, S:    997.385254,    998.385254',\n",
       " 'Ref_time_start, Ref_time:  3.326936E-06,  3.330272E-06',\n",
       " '',\n",
       " 'Attribute values:',\n",
       " '    1  L                           =  1.0000000E+00 m',\n",
       " '    2  TILT                        =  0.0000000E+00 rad      60  TILT_TOT                    =  0.0000000E+00 rad',\n",
       " '    4  K1                          =  0.0000000E+00 1/m^2    45  B1_GRADIENT                 = -0.0000000E+00 T/m',\n",
       " '   10  FRINGE_TYPE                 =  None (1)               11  FRINGE_AT                   =  Both_Ends (3)',\n",
       " '   13  SPIN_FRINGE_ON              =  T (1)',\n",
       " '   16  R0_MAG                      =  0.0000000E+00 m        15  R0_ELEC                     =  0.0000000E+00 m',\n",
       " '   17  STATIC_LINEAR_MAP           =  F (0)',\n",
       " '   23  FQ1                         =  0.0000000E+00 m        24  FQ2                         =  0.0000000E+00 m',\n",
       " '   34  X_PITCH                     =  0.0000000E+00 rad      55  X_PITCH_TOT                 =  0.0000000E+00 rad',\n",
       " '   35  Y_PITCH                     =  0.0000000E+00 rad      56  Y_PITCH_TOT                 =  0.0000000E+00 rad',\n",
       " '   36  X_OFFSET                    =  0.0000000E+00 m        57  X_OFFSET_TOT                =  0.0000000E+00 m',\n",
       " '   37  Y_OFFSET                    =  0.0000000E+00 m        58  Y_OFFSET_TOT                =  0.0000000E+00 m',\n",
       " '   38  Z_OFFSET                    =  0.0000000E+00 m        59  Z_OFFSET_TOT                =  0.0000000E+00 m',\n",
       " '   39  HKICK                       = -0.0000000E+00          41  BL_HKICK                    =  0.0000000E+00 T*m',\n",
       " '   40  VKICK                       = -0.0000000E+00          42  BL_VKICK                    =  0.0000000E+00 T*m',\n",
       " '   47  PTC_CANONICAL_COORDS        =  T (1)',\n",
       " '   53  P0C                         =  8.0000000E+09 eV           BETA                        =  1.0000000E+00',\n",
       " '   54  E_TOT                       =  8.0000000E+09 eV           GAMMA                       =  1.5655609E+04',\n",
       " '   64  REF_TIME_START              =  3.3269361E-06 sec      50  DELTA_REF_TIME              =  3.3356410E-09 sec',\n",
       " '   65  INTEGRATOR_ORDER            = 2',\n",
       " '   67  DS_STEP                     =  6.2500000E-02 m        66  NUM_STEPS                   = 16',\n",
       " '   68  CSR_DS_STEP                 =  0.0000000E+00 m',\n",
       " '   71  X1_LIMIT                    =  2.7000000E-02 m        72  X2_LIMIT                    =  2.7000000E-02 m',\n",
       " '   73  Y1_LIMIT                    =  2.7000000E-02 m        74  Y2_LIMIT                    =  2.7000000E-02 m',\n",
       " '',\n",
       " '       TRACKING_METHOD              =  Bmad_Standard             APERTURE_AT                =  Exit_End',\n",
       " '       MAT6_CALC_METHOD             =  Auto                      APERTURE_TYPE              =  Rectangular',\n",
       " '       SPIN_TRACKING_METHOD         =  Tracking                  OFFSET_MOVES_APERTURE      =  F',\n",
       " '       PTC_INTEGRATION_TYPE         =  Matrix_Kick               SYMPLECTIFY                =  F',\n",
       " '       CSR_METHOD                   =  Off                       FIELD_MASTER               =  F',\n",
       " '       SPACE_CHARGE_METHOD          =  Off                       LONGITUDINAL ORIENTATION   =       1',\n",
       " '       FIELD_CALC                   =  Bmad_Standard             REF_SPECIES                =  Electron',\n",
       " 'No associated Wall.',\n",
       " '',\n",
       " 'Slave_status: Free',\n",
       " '',\n",
       " 'Lord_status:  Not_a_Lord',\n",
       " '',\n",
       " 'Twiss at end of element:',\n",
       " '                          A              B            Cbar                        C_mat',\n",
       " '  Beta (m)        20.86417274    21.12138967  |  -0.00000000  -0.00000000      0.00000000  -0.00000000',\n",
       " '  Alpha           -7.18080044    -7.15802054  |   0.00000000   0.00000000     -0.00000000   0.00000000',\n",
       " '  Gamma (1/m)      2.51933761     2.47319229  |   Gamma_c =   1.00000000       Mode_Flip = F',\n",
       " '  Phi (rad)       74.53546614    61.82349450            X              Y              Z',\n",
       " '  Eta (m)         -0.00004816    -0.00000000    -0.00004816    -0.00000000     0.03723438',\n",
       " '  Etap            -0.00001440    -0.00000000    -0.00001440    -0.00000000    -0.00000000',\n",
       " '  dEta/ds         -0.00001434    -0.00000000    -0.00001434    -0.00000000    -0.00000000',\n",
       " '',\n",
       " 'Transfer Matrix : Kick  [Mat symplectic error:   0.000E+00]                      Vec0',\n",
       " '   1.0000000   0.8001259   0.0000000   0.0000000   0.0000000  -0.0000000   :   4.95116E-18',\n",
       " '   0.0000000   1.0000000   0.0000000   0.0000000   0.0000000   0.0000000   :   0.00000E+00',\n",
       " '   0.0000000   0.0000000   1.0000000   0.8001259   0.0000000  -0.0000000   :   9.33133E-21',\n",
       " '   0.0000000   0.0000000   0.0000000   1.0000000   0.0000000   0.0000000   :   0.00000E+00',\n",
       " '   0.0000000  -0.0000000   0.0000000  -0.0000000   1.0000000   0.0000000   :   2.11914E-10',\n",
       " '   0.0000000   0.0000000   0.0000000   0.0000000   0.0000000   1.0000000   :   0.00000E+00',\n",
       " '',\n",
       " 'Global Floor Coords at End of Element:',\n",
       " '                   X           Y           Z       Theta         Phi         Psi',\n",
       " 'Reference    -0.00000     0.00000  1997.48244     0.00000     0.00000     0.00000   ! Position without misalignments',\n",
       " 'Actual       -0.00000     0.00000  1997.48244     0.00000     0.00000     0.00000   ! Position with offset/pitch/tilt misalignments',\n",
       " 'delta Ref     0.00000     0.00000     1.00000     0.00000     0.00000     0.00000   ! Delta with respect to last element',\n",
       " '',\n",
       " 'Tracking: Electron,   State: Alive',\n",
       " '         Position[mm] Momentum[mrad]        Spin   |',\n",
       " '  X:       0.00000000     0.00000000               | t_particle [sec]:        3.33027177E-06  E_tot: 9.99843E+09',\n",
       " '  Y:       0.00000000     0.00000000               | t_part-t_ref [sec]:     -4.83892982E-17  PC:    9.99843E+09',\n",
       " '  Z:       0.00001451   249.80334349               | (t_ref-t_part)*Vel [m]:  1.45067466E-08  Beta:  0.999999999']"
      ]
     },
     "execution_count": 16,
     "metadata": {},
     "output_type": "execute_result"
    }
   ],
   "source": [
    "setLattice(tao, Q0DkG = 0)\n",
    "tao.cmd(\"show ele Q0D -all\")"
   ]
  },
  {
   "cell_type": "code",
   "execution_count": null,
   "id": "657b460f-969b-49c6-baff-6bd9eddb5f77",
   "metadata": {},
   "outputs": [],
   "source": []
  },
  {
   "cell_type": "code",
   "execution_count": null,
   "id": "d9169ab9-7e91-4fbf-b030-27162d3bbb12",
   "metadata": {},
   "outputs": [],
   "source": []
  }
 ],
 "metadata": {
  "kernelspec": {
   "display_name": "Python 3 (ipykernel)",
   "language": "python",
   "name": "python3"
  },
  "language_info": {
   "codemirror_mode": {
    "name": "ipython",
    "version": 3
   },
   "file_extension": ".py",
   "mimetype": "text/x-python",
   "name": "python",
   "nbconvert_exporter": "python",
   "pygments_lexer": "ipython3",
   "version": "3.11.8"
  }
 },
 "nbformat": 4,
 "nbformat_minor": 5
}

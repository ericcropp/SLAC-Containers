{
 "cells": [
  {
   "cell_type": "code",
   "execution_count": 1,
   "id": "44f58795-d820-48eb-8de9-6aed4aa8fd90",
   "metadata": {},
   "outputs": [],
   "source": [
    "from UTILITY_quickstart import *\n",
    "import time\n",
    "import io, sys\n",
    "\n",
    "with open('setLattice_defaults.yml', 'r') as file:\n",
    "    importedDefaultSettings = yaml.safe_load(file)"
   ]
  },
  {
   "cell_type": "code",
   "execution_count": 2,
   "id": "41b83619-3a2d-4dd9-8263-37a1d18025f0",
   "metadata": {},
   "outputs": [
    {
     "name": "stdout",
     "output_type": "stream",
     "text": [
      "False, 1000.0, 1.5374188423156738\n",
      "False, 10000.0, 8.197675943374634\n",
      "False, 100000.0, 78.25245904922485\n",
      "True, 1000.0, 8.549678087234497\n",
      "True, 10000.0, 23.995951175689697\n",
      "True, 100000.0, 189.84042811393738\n"
     ]
    }
   ],
   "source": [
    "for csrTF in [False, True]:\n",
    "    for particleCount in [1e3, 1e4, 1e5]:\n",
    "\n",
    "        start_time = time.time()\n",
    "\n",
    "        #Silence. From https://codingdose.info/posts/supress-print-output-in-python/\n",
    "        text_trap = io.StringIO()\n",
    "        sys.stdout = text_trap\n",
    "\n",
    "        tao = initializeTao(\n",
    "            inputBeamFilePathSuffix = '/beams/2024-12-11_Impact_OneBunch/2024-12-11_oneBunch.h5',\n",
    "            csrTF = csrTF,\n",
    "            numMacroParticles=particleCount,\n",
    "        )\n",
    "\n",
    "        #Restore stdout function\n",
    "        sys.stdout = sys.__stdout__\n",
    "\n",
    "        trackBeam(tao)\n",
    "        \n",
    "        print(f\"{csrTF}, {particleCount}, {time.time() - start_time}\")"
   ]
  },
  {
   "cell_type": "raw",
   "id": "bace349b-6ce4-4c17-9b03-a1bcfa636593",
   "metadata": {},
   "source": [
    "2024-12-11-16-48-57 laptop results:\n",
    "    False, 1000.0, 1.5374188423156738\n",
    "    False, 10000.0, 8.197675943374634\n",
    "    False, 100000.0, 78.25245904922485\n",
    "    True, 1000.0, 8.549678087234497\n",
    "    True, 10000.0, 23.995951175689697\n",
    "    True, 100000.0, 189.84042811393738\n",
    "\n",
    "\n",
    "\n"
   ]
  }
 ],
 "metadata": {
  "kernelspec": {
   "display_name": "Python 3 (ipykernel)",
   "language": "python",
   "name": "python3"
  },
  "language_info": {
   "codemirror_mode": {
    "name": "ipython",
    "version": 3
   },
   "file_extension": ".py",
   "mimetype": "text/x-python",
   "name": "python",
   "nbconvert_exporter": "python",
   "pygments_lexer": "ipython3",
   "version": "3.11.8"
  }
 },
 "nbformat": 4,
 "nbformat_minor": 5
}

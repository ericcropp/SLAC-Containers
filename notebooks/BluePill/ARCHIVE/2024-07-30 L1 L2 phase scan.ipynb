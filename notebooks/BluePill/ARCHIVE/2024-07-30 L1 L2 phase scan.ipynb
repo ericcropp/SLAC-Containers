{
 "cells": [
  {
   "cell_type": "code",
   "execution_count": 1,
   "id": "e28b911f-bb2e-4b3b-8109-2fbcce2ceed6",
   "metadata": {},
   "outputs": [
    {
     "data": {
      "text/plain": [
       "\u001b[0;31mSignature:\u001b[0m\n",
       "\u001b[0minitializeTao\u001b[0m\u001b[0;34m(\u001b[0m\u001b[0;34m\u001b[0m\n",
       "\u001b[0;34m\u001b[0m    \u001b[0mfilePath\u001b[0m\u001b[0;34m=\u001b[0m\u001b[0;32mNone\u001b[0m\u001b[0;34m,\u001b[0m\u001b[0;34m\u001b[0m\n",
       "\u001b[0;34m\u001b[0m    \u001b[0mlastTrackedElement\u001b[0m\u001b[0;34m=\u001b[0m\u001b[0;34m'end'\u001b[0m\u001b[0;34m,\u001b[0m\u001b[0;34m\u001b[0m\n",
       "\u001b[0;34m\u001b[0m    \u001b[0mcsrTF\u001b[0m\u001b[0;34m=\u001b[0m\u001b[0;32mFalse\u001b[0m\u001b[0;34m,\u001b[0m\u001b[0;34m\u001b[0m\n",
       "\u001b[0;34m\u001b[0m    \u001b[0minputBeamFilePathSuffix\u001b[0m\u001b[0;34m=\u001b[0m\u001b[0;32mNone\u001b[0m\u001b[0;34m,\u001b[0m\u001b[0;34m\u001b[0m\n",
       "\u001b[0;34m\u001b[0m    \u001b[0mnumMacroParticles\u001b[0m\u001b[0;34m=\u001b[0m\u001b[0;32mNone\u001b[0m\u001b[0;34m,\u001b[0m\u001b[0;34m\u001b[0m\n",
       "\u001b[0;34m\u001b[0m    \u001b[0mloadDefaultLatticeTF\u001b[0m\u001b[0;34m=\u001b[0m\u001b[0;32mTrue\u001b[0m\u001b[0;34m,\u001b[0m\u001b[0;34m\u001b[0m\n",
       "\u001b[0;34m\u001b[0m    \u001b[0mrunImpactTF\u001b[0m\u001b[0;34m=\u001b[0m\u001b[0;32mFalse\u001b[0m\u001b[0;34m,\u001b[0m\u001b[0;34m\u001b[0m\n",
       "\u001b[0;34m\u001b[0m    \u001b[0mimpactGridCount\u001b[0m\u001b[0;34m=\u001b[0m\u001b[0;36m32\u001b[0m\u001b[0;34m,\u001b[0m\u001b[0;34m\u001b[0m\n",
       "\u001b[0;34m\u001b[0m\u001b[0;34m)\u001b[0m\u001b[0;34m\u001b[0m\u001b[0;34m\u001b[0m\u001b[0m\n",
       "\u001b[0;31mDocstring:\u001b[0m <no docstring>\n",
       "\u001b[0;31mFile:\u001b[0m      ~/Documents/SLAC/FACET2-Bmad-PyTao/UTILITY_quickstart.py\n",
       "\u001b[0;31mType:\u001b[0m      function"
      ]
     },
     "metadata": {},
     "output_type": "display_data"
    }
   ],
   "source": [
    "targetBunchSpacing = 100e-6\n",
    "makingChangesUpstreamOfBEGBC20 = True\n",
    "\n",
    "\n",
    "\n",
    "from UTILITY_quickstart import *\n",
    "?initializeTao"
   ]
  },
  {
   "cell_type": "code",
   "execution_count": 2,
   "id": "3f60cd79-0d8a-4a16-a4ec-5b8f2173cf2d",
   "metadata": {},
   "outputs": [
    {
     "name": "stdout",
     "output_type": "stream",
     "text": [
      "Environment set to:  /Users/nmajik/Documents/SLAC/FACET2-Bmad-PyTao\n",
      "Tracking to end\n",
      "CSR on\n",
      "Overwriting lattice with setLattice() defaults\n",
      "No defaults file provided to setLattice(). Using setLattice_defaults.yml\n",
      "Number of macro particles = 1000.0\n"
     ]
    }
   ],
   "source": [
    "tao = initializeTao(\n",
    "    inputBeamFilePathSuffix = '/beams/nmmToL0AFEND_2bunch_2024-02-16Clean/2024-02-16_2bunch_1e5Downsample_nudgeWeights.h5',\n",
    "    #inputBeamFilePathSuffix = '/beams/L0AFEND_facet2-lattice.h5',\n",
    "\n",
    "    csrTF = True,\n",
    "    numMacroParticles=1e3,\n",
    "    #loadDefaultLatticeTF=False,\n",
    "\n",
    ")\n",
    "\n",
    "trackBeam(tao)\n",
    "PInit = ParticleGroup(data=tao.bunch_data(\"L0AFEND\"))"
   ]
  },
  {
   "cell_type": "markdown",
   "id": "f1c8c357-a2a7-4e99-bdb1-4e53ed6e5393",
   "metadata": {},
   "source": [
    "# Optimization"
   ]
  },
  {
   "cell_type": "markdown",
   "id": "704ad00f-d1d2-42f6-a734-50be8ad97a45",
   "metadata": {
    "jp-MarkdownHeadingCollapsed": true
   },
   "source": [
    "## Utility functions"
   ]
  },
  {
   "cell_type": "code",
   "execution_count": 3,
   "id": "63ed0772-8ef8-4cdb-a890-83a3d7c5fd1a",
   "metadata": {
    "jupyter": {
     "source_hidden": true
    }
   },
   "outputs": [],
   "source": [
    "def propagateToBEGBC20(\n",
    "    centerXYatBEGBC20 = False    \n",
    "): \n",
    "\n",
    "    ##################################\n",
    "    #Propagate to BEGBC20 and save result\n",
    "    ##################################\n",
    "    makeBeamActiveBeamFile(PInit)\n",
    "    \n",
    "    tao.cmd(f'set beam_init track_start = L0AFEND')\n",
    "    lastTrackedElement = \"BEGBC20\"\n",
    "    tao.cmd(f'set beam_init track_end = {lastTrackedElement}')\n",
    "\n",
    "    trackBeam(tao)\n",
    "\n",
    "    P = ParticleGroup(data=tao.bunch_data(lastTrackedElement))\n",
    "\n",
    "    ##################################\n",
    "    #Optional!! Center in x and y\n",
    "    ##################################\n",
    "    if centerXYatBEGBC20:\n",
    "        print(f\"\"\"Centering beam at BEGBC20, old values (x, xp, y, yp): {P[\"mean_x\"]} ,{P[\"mean_xp\"]}, {P[\"mean_y\"]} ,{P[\"mean_yp\"]} \"\"\")\n",
    "        P.x = P.x - np.mean(P.x)\n",
    "        P.y = P.y - np.mean(P.y)\n",
    "        P.px = P.px - np.mean(P.px)\n",
    "        P.py = P.py - np.mean(P.py)\n",
    "    \n",
    "    makeBeamActiveBeamFile(P)\n",
    "\n",
    "    return"
   ]
  },
  {
   "cell_type": "code",
   "execution_count": 4,
   "id": "b8673098-2194-4553-be9e-34a017119a5c",
   "metadata": {
    "jupyter": {
     "source_hidden": true
    }
   },
   "outputs": [],
   "source": [
    "def prepareToSimulateFromBEGBC20toEnd():\n",
    "    #####################################################\n",
    "    #Import the BEGBC20 beam and prepare to simulate to end\n",
    "    #####################################################\n",
    "\n",
    "    tao.cmd(f'set beam_init track_start = BEGBC20')\n",
    "    tao.cmd(f'set beam_init track_end = end')\n",
    "    tao.cmd('reinit beam')\n",
    "\n",
    "    return"
   ]
  },
  {
   "cell_type": "markdown",
   "id": "ac1e0d14-7eb3-4bcc-ba7d-0c71a5a83895",
   "metadata": {},
   "source": [
    "## Optimizer functions"
   ]
  },
  {
   "cell_type": "code",
   "execution_count": 5,
   "id": "a83bdca3-7dcc-4019-b3ab-6d07af26a51a",
   "metadata": {
    "scrolled": true
   },
   "outputs": [],
   "source": [
    "#If we're not making changes upstream, we can just calculate once\n",
    "#makingChangesUpstreamOfBEGBC20 = True #Moved to top of notebook\n",
    "\n",
    "if not makingChangesUpstreamOfBEGBC20:\n",
    "    setLattice(tao) #Set lattice to current default config\n",
    "    propagateToBEGBC20(centerXYatBEGBC20 = True)\n",
    "    prepareToSimulateFromBEGBC20toEnd()\n",
    "\n",
    "def rampToZero(val, thresh, scale = 1):\n",
    "    return (max(val, thresh) - thresh) / scale\n",
    "\n",
    "def specificOptimizer(\n",
    "    self,\n",
    "    **kwargs\n",
    "):\n",
    "\n",
    "    self.totalNumEvals += 1\n",
    "    self.displayEvals()\n",
    "\n",
    "    savedData = kwargs\n",
    "    \n",
    "    badValue = -1e300  #The value returned for illegal config. Should be colossal. Double limit ~= 1e308\n",
    "    bigCost  = 1e50   #Should be large enough to dominate any \"normal\" return value but be dominated by badValue\n",
    "    \n",
    "    try: #This try block deals with bad configurations. Instead of causing the optimizer to halt we now 'except' a low value\n",
    "        setLattice(tao, **kwargs)\n",
    "\n",
    "    except:\n",
    "        return badValue * 5\n",
    "\n",
    "    if makingChangesUpstreamOfBEGBC20:\n",
    "        try:\n",
    "            propagateToBEGBC20(centerXYatBEGBC20 = True)\n",
    "            prepareToSimulateFromBEGBC20toEnd()\n",
    "        \n",
    "        except:\n",
    "            return badValue * 4\n",
    "\n",
    "    try:\n",
    "        trackBeam(tao)\n",
    "\n",
    "    except:\n",
    "        return badValue * 3\n",
    "\n",
    "    BEGBC20NumLiveParticles = tao.bunch_params(\"BEGBC20\")['n_particle_live']\n",
    "    PENTNumLiveParticles = tao.bunch_params(\"PENT\")['n_particle_live']\n",
    "\n",
    "    if PENTNumLiveParticles < 10:\n",
    "        return badValue * 2 \n",
    "\n",
    "    \n",
    "    # 2024-05-22 NO NO NO! These bunch_params calls are actually returning lattice info because fuck me\n",
    "    #PENTEmitX = tao.bunch_params(\"PENT\")['twiss_norm_emit_x']\n",
    "    #PENTEmitY = tao.bunch_params(\"PENT\")['twiss_norm_emit_y']\n",
    "    #PENTSigmaZ = tao.bunch_params(\"PENT\")['twiss_sigma_z']\n",
    "\n",
    "    # PPENT =  ParticleGroup(data=tao.bunch_data(\"PENT\"))\n",
    "    # PPENT = PPENT[PPENT.status==1]\n",
    "\n",
    "    # PENTEmitX = PPENT[\"norm_emit_x\"]\n",
    "    # PENTEmitY = PPENT[\"norm_emit_y\"]\n",
    "    # PENTSigmaZ = PPENT[\"sigma_t\"]*3e8 #Cannot use std.(\"z\") since Bmad dumps all particles at same z\n",
    "    \n",
    "    try: \n",
    "        P = getBeamAtElement(tao, \"PENT\")\n",
    "        PDrive, PWitness = getDriverAndWitness(P)\n",
    "    \n",
    "\n",
    "        for PActiveStr in [\"PDrive\", \"PWitness\"]:\n",
    "            PActive = locals()[PActiveStr]\n",
    "            for val in [\"mean_x\", \"mean_y\", \"sigma_x\", \"sigma_y\"]:\n",
    "                savedData[f\"{PActiveStr}_{val}\"] = PActive[val]\n",
    "                #print(f\"\"\"{PActiveStr}_{val} = {PActive[val]}\"\"\")\n",
    "\n",
    "            #Note that this is not a standard deviation; also imposes cost for being off zero\n",
    "            savedData[f\"{PActiveStr}_xCost\"] = np.sqrt(np.mean((PActive.x)**2))\n",
    "            savedData[f\"{PActiveStr}_yCost\"] = np.sqrt(np.mean((PActive.y)**2))\n",
    "\n",
    "\n",
    "            #Using the product was making it report flat beams...\n",
    "            #savedData[f\"{PActiveStr}_totalCost\"] = savedData[f\"{PActiveStr}_xCost\"] * savedData[f\"{PActiveStr}_yCost\"]\n",
    "            #Instead, average\n",
    "            savedData[f\"{PActiveStr}_totalCost\"] = 0.5*(savedData[f\"{PActiveStr}_xCost\"] + savedData[f\"{PActiveStr}_yCost\"])\n",
    "\n",
    "            savedData[f\"{PActiveStr}_emitSI90_x\"] = smallestIntervalImpliedEmittance(PActive, plane = \"x\", percentage = 0.90)\n",
    "            savedData[f\"{PActiveStr}_emitSI90_y\"] = smallestIntervalImpliedEmittance(PActive, plane = \"y\", percentage = 0.90)\n",
    "\n",
    "            savedData[f\"{PActiveStr}_zLen\"] = smallestIntervalImpliedSigma(PActive.t * 3e8, percentage=0.9)\n",
    "\n",
    "            savedData[f\"{PActiveStr}_zCentroid\"] = np.median(PActive.t * 3e8)\n",
    "\n",
    "        savedData[\"bunchSpacing\"] = savedData[\"PWitness_zCentroid\"] - savedData[\"PDrive_zCentroid\"]\n",
    "            \n",
    "\n",
    "    except:\n",
    "        return badValue\n",
    "\n",
    "\n",
    "    #Linear cost, weight by bunch\n",
    "    #driveCostWeight = 0.1    \n",
    "    #maximizeMe = 1 / (savedData[\"PWitness_totalCost\"] + driveCostWeight * savedData[\"PDrive_totalCost\"])\n",
    "\n",
    "    #Ramp function cost\n",
    "    #targetBunchSpacing = 100e-6 #Making this a global variable\n",
    "    \n",
    "    tolerableBeamOffset = 5e-6\n",
    "    \n",
    "    witnessTransverseSizeCostThreshold = 20e-6\n",
    "    driveTransverseSizeCostThreshold = 20e-6\n",
    "\n",
    "    driveEmittanceThreshold = 50e-6\n",
    "    witnessEmittanceThreshold = 20e-6\n",
    "    \n",
    "    driveLengthCostThreshold =  0\n",
    "    witnessLengthCostThreshold = 0\n",
    "\n",
    "    \n",
    "\n",
    "    # maximizeMe = 1 / (\n",
    "    #     max(witnessCostThreshold, np.sqrt(savedData[\"PWitness_xCost\"])) *  \n",
    "    #     max(witnessCostThreshold, np.sqrt(savedData[\"PWitness_yCost\"]))\n",
    "    #     + driveCostWeight * savedData[\"PDrive_totalCost\"]\n",
    "    # )  \n",
    "\n",
    "\n",
    "    #Using the product was making it prefer flat beams...\n",
    "    # savedData[\"maximizeMe\"] = 1 / (\n",
    "    #     max(witnessTransverseSizeCostThreshold, np.sqrt(savedData[\"PWitness_xCost\"])) +  \n",
    "    #     max(witnessTransverseSizeCostThreshold, np.sqrt(savedData[\"PWitness_yCost\"])) +\n",
    "    #     driveTransverseCostWeight * np.sqrt(savedData[\"PDrive_xCost\"]) +\n",
    "    #     driveTransverseCostWeight * np.sqrt(savedData[\"PDrive_yCost\"]) +\n",
    "    #     max(driverLengthCostThreshold,  savedData[\"PDrive_zLen\"]   ) +\n",
    "    #     max(witnessLengthCostThreshold, savedData[\"PWitness_zLen\"] ) \n",
    "    # )\n",
    "\n",
    "    savedData[\"maximizeMe\"] = 1 / np.mean([\n",
    "        1e6 * rampToZero( abs(savedData[\"bunchSpacing\"] - targetBunchSpacing), 10e-6, scale = 10e-6), \n",
    "        \n",
    "        # 1e3 * rampToZero(abs(savedData[\"PWitness_mean_x\"]), tolerableBeamOffset, scale = 1e-6),\n",
    "        # 1e3 * rampToZero(abs(savedData[\"PWitness_mean_y\"]), tolerableBeamOffset, scale = 1e-6),\n",
    "        # 1e3 * rampToZero(abs(savedData[\"PDrive_mean_x\"]  ), tolerableBeamOffset, scale = 1e-6),\n",
    "        # 1e3 * rampToZero(abs(savedData[\"PDrive_mean_y\"]  ), tolerableBeamOffset, scale = 1e-6),\n",
    "\n",
    "        1e3 * rampToZero(\n",
    "            np.sqrt(\n",
    "                (savedData[\"PDrive_mean_x\"] - savedData[\"PWitness_mean_x\"])**2 + \n",
    "                (savedData[\"PDrive_mean_y\"] - savedData[\"PWitness_mean_y\"])**2\n",
    "            ), \n",
    "            tolerableBeamOffset, scale = 1e-6),\n",
    "  \n",
    "        # rampToZero(savedData[\"PWitness_sigma_x\"], witnessTransverseSizeCostThreshold, scale = 10e-6),  \n",
    "        # rampToZero(savedData[\"PWitness_sigma_y\"], witnessTransverseSizeCostThreshold, scale = 10e-6),\n",
    "        # rampToZero(savedData[\"PDrive_sigma_x\"],   driveTransverseSizeCostThreshold, scale = 10e-6), \n",
    "        # rampToZero(savedData[\"PDrive_sigma_y\"],   driveTransverseSizeCostThreshold, scale = 10e-6),\n",
    "\n",
    "        rampToZero(savedData[\"PDrive_emitSI90_x\"],   driveEmittanceThreshold, scale = 10e-6),\n",
    "        rampToZero(savedData[\"PDrive_emitSI90_y\"],   driveEmittanceThreshold, scale = 10e-6),\n",
    "        rampToZero(savedData[\"PWitness_emitSI90_x\"], witnessEmittanceThreshold, scale = 10e-6),\n",
    "        rampToZero(savedData[\"PWitness_emitSI90_y\"], witnessEmittanceThreshold, scale = 10e-6),\n",
    "        \n",
    "        \n",
    "        rampToZero(savedData[\"PDrive_zLen\"],   driveLengthCostThreshold,   scale = 10e-6),\n",
    "        rampToZero(savedData[\"PWitness_zLen\"], witnessLengthCostThreshold,  scale = 10e-6) \n",
    "    ])\n",
    "    \n",
    "    \n",
    "\n",
    "    #Use charge loss to impose cost\n",
    "    worstNumLiveParticles = PENTNumLiveParticles\n",
    "    chargeFractionLiving = worstNumLiveParticles / BEGBC20NumLiveParticles\n",
    "\n",
    "    \n",
    "    if chargeFractionLiving < 0.98:\n",
    "        #If a gradient is desired\n",
    "        #savedData[\"maximizeMe\"] += bigCost * (1-chargeFractionLiving)\n",
    "\n",
    "        #If it's just a threshold\n",
    "        return badValue*0.5\n",
    "  \n",
    "    \n",
    "    #Collect desired data as a pandas Series\n",
    "    tmpData = pd.Series( savedData ) \n",
    "    self.history = pd.concat([self.history, tmpData.to_frame().T])\n",
    "\n",
    "    #Optional: Write to file\n",
    "    self.history.to_json('optimizerHistory.json', orient='records')\n",
    "    \n",
    "    self.updatePlot()\n",
    "\n",
    "\n",
    "    return savedData[\"maximizeMe\"]\n",
    "\n",
    "\n",
    "\n",
    "def optimizerWrapper( self,\n",
    "                     #QA10361kG, QA10371kG, QE10425kG, QE10441kG, QE10511kG, QE10525kG,\n",
    "                     L1PhaseSet, L2PhaseSet, \n",
    "                     #B1EkG, B2EkG, B3EkG,\n",
    "                     # Q1EkG, Q2EkG, Q3EkG, Q4EkG, Q5EkG, Q6EkG,\n",
    "                     # S1ELkG, S2ELkG, S3ELkG, \n",
    "                     # S3ERkG, S2ERkG, S1ERkG,\n",
    "                     **kwargs ):\n",
    "    return specificOptimizer(\n",
    "        self,\n",
    "        **{\n",
    "\n",
    "            # \"QA10361kG\": QA10361kG, \n",
    "            # \"QA10371kG\": QA10371kG,\n",
    "            # \"QE10425kG\": QE10425kG,\n",
    "            # \"QE10441kG\": QE10441kG,\n",
    "            # \"QE10511kG\": QE10511kG,\n",
    "            # \"QE10525kG\": QE10525kG,\n",
    "            \n",
    "            \"L1PhaseSet\": L1PhaseSet, \n",
    "            \"L2PhaseSet\": L2PhaseSet,\n",
    "            \n",
    "            #\"B1EkG\": B1EkG,\n",
    "            #\"B2EkG\": B2EkG,\n",
    "            #\"B3EkG\": B3EkG,\n",
    "            \n",
    "            # \"Q1EkG\" : Q1EkG,\n",
    "            # \"Q2EkG\" : Q2EkG,\n",
    "            # \"Q3EkG\" : Q3EkG,\n",
    "            # \"Q4EkG\" : Q4EkG,\n",
    "            # \"Q5EkG\" : Q5EkG,\n",
    "            # \"Q6EkG\" : Q6EkG,\n",
    "            \n",
    "            # \"S1ELkG\": S1ELkG,\n",
    "            # \"S2ELkG\": S2ELkG,\n",
    "            # \"S3ELkG\": S3ELkG,\n",
    "            # \"S3ERkG\": S3ERkG,\n",
    "            # \"S2ERkG\": S2ERkG,\n",
    "            # \"S1ERkG\": S1ERkG,\n",
    "            # \"S3ERkG\": S3ELkG, #Symmetry approx\n",
    "            # \"S2ERkG\": S2ELkG, #Symmetry approx\n",
    "            # \"S1ERkG\": S1ELkG, #Symmetry approx\n",
    "            \n",
    "        }\n",
    "    )"
   ]
  },
  {
   "cell_type": "markdown",
   "id": "26ac59a2-b323-4acb-ac99-b9b65c6573d2",
   "metadata": {},
   "source": [
    "## Do optimization"
   ]
  },
  {
   "cell_type": "markdown",
   "id": "125b726c-ad45-4c40-870a-5d34b3d0d194",
   "metadata": {
    "editable": true,
    "slideshow": {
     "slide_type": ""
    },
    "tags": []
   },
   "source": [
    "### General optimizer setup"
   ]
  },
  {
   "cell_type": "code",
   "execution_count": 6,
   "id": "b342cb2b-ab73-4693-9f6e-ffc1fdb43af4",
   "metadata": {
    "editable": true,
    "slideshow": {
     "slide_type": ""
    },
    "tags": []
   },
   "outputs": [],
   "source": [
    "class OptimizationProblem:\n",
    "    def __init__(self):\n",
    "        self.history = pd.DataFrame()\n",
    "        self.totalNumEvals = 0\n",
    "        self.plot_display_handle = None\n",
    "        self.evals_display_handle = None\n",
    "\n",
    "\n",
    "    def updatePlot(self):\n",
    "        plt.figure()\n",
    "        plotKey = \"maximizeMe\"\n",
    "        plt.plot(np.arange(len(self.history[plotKey])), self.history[plotKey], '-')\n",
    "        \n",
    "        plt.title('Optimization History')\n",
    "        plt.xlabel('Evaluation #')\n",
    "        plt.ylabel(plotKey)\n",
    "        plt.yscale('log')\n",
    "        plt.grid(True)\n",
    "        \n",
    "        \n",
    "        if self.plot_display_handle is None:\n",
    "            self.plot_display_handle = display(plt.gcf(), display_id=True)\n",
    "        else:\n",
    "            update_display(plt.gcf(), display_id=self.plot_display_handle.display_id)\n",
    "        plt.close()\n",
    "\n",
    "    def displayEvals(self):\n",
    "        if self.evals_display_handle is None:\n",
    "            self.evals_display_handle = display(f\"Total Num Evals: {self.totalNumEvals}\", display_id=True)\n",
    "        else:\n",
    "            update_display(f\"Total Num Evals: {self.totalNumEvals}\", display_id=self.evals_display_handle.display_id)\n",
    "\n",
    "# Attach the function to the class as a method\n",
    "OptimizationProblem.optimizerWrapper = optimizerWrapper\n",
    "\n",
    "# Instantiate the optimization problem\n",
    "problem = OptimizationProblem()"
   ]
  },
  {
   "cell_type": "code",
   "execution_count": null,
   "id": "2f4ad66f-8cfe-4405-ad5b-cdf3a58e2c0d",
   "metadata": {
    "editable": true,
    "slideshow": {
     "slide_type": ""
    },
    "tags": []
   },
   "outputs": [
    {
     "data": {
      "text/plain": [
       "'Total Num Evals: 11'"
      ]
     },
     "metadata": {},
     "output_type": "display_data"
    },
    {
     "name": "stdout",
     "output_type": "stream",
     "text": [
      "Centering beam at BEGBC20, old values (x, xp, y, yp): 8.309253392294058e-05 ,-1.0816047527144193e-05, -4.3148050688085935e-07 ,1.6223035469089622e-07 \n"
     ]
    },
    {
     "name": "stderr",
     "output_type": "stream",
     "text": [
      "/Users/nmajik/Documents/SLAC/FACET2-Bmad-PyTao/UTILITY_quickstart.py:177: RuntimeWarning: invalid value encountered in sqrt\n",
      "  return np.sqrt(sigmax**2 + 2 * z * rho * sigmax * sigmaxp + z**2 * sigmaxp**2)\n"
     ]
    },
    {
     "data": {
      "image/png": "[encoded data removed]",
      "text/plain": [
       "<Figure size 640x480 with 1 Axes>"
      ]
     },
     "metadata": {},
     "output_type": "display_data"
    },
    {
     "name": "stdout",
     "output_type": "stream",
     "text": [
      "Centering beam at BEGBC20, old values (x, xp, y, yp): 4.076332394416026e-05 ,-6.6900207312023285e-06, 6.162767615520863e-08 ,1.4245675770692545e-07 \n"
     ]
    },
    {
     "name": "stderr",
     "output_type": "stream",
     "text": [
      "/Users/nmajik/Documents/SLAC/FACET2-Bmad-PyTao/UTILITY_quickstart.py:177: RuntimeWarning: invalid value encountered in sqrt\n",
      "  return np.sqrt(sigmax**2 + 2 * z * rho * sigmax * sigmaxp + z**2 * sigmaxp**2)\n"
     ]
    },
    {
     "name": "stdout",
     "output_type": "stream",
     "text": [
      "Centering beam at BEGBC20, old values (x, xp, y, yp): 1.9648055228639488e-05 ,-7.369877054250938e-06, 4.032991879965203e-07 ,1.2033567599446794e-07 \n"
     ]
    },
    {
     "name": "stderr",
     "output_type": "stream",
     "text": [
      "/Users/nmajik/Documents/SLAC/FACET2-Bmad-PyTao/UTILITY_quickstart.py:177: RuntimeWarning: invalid value encountered in sqrt\n",
      "  return np.sqrt(sigmax**2 + 2 * z * rho * sigmax * sigmaxp + z**2 * sigmaxp**2)\n"
     ]
    },
    {
     "name": "stdout",
     "output_type": "stream",
     "text": [
      "Centering beam at BEGBC20, old values (x, xp, y, yp): -1.3496008027173323e-05 ,-6.89529746576459e-06, 1.7054887486223167e-06 ,2.454696984083447e-08 \n"
     ]
    },
    {
     "name": "stderr",
     "output_type": "stream",
     "text": [
      "/Users/nmajik/Documents/SLAC/FACET2-Bmad-PyTao/UTILITY_quickstart.py:177: RuntimeWarning: invalid value encountered in sqrt\n",
      "  return np.sqrt(sigmax**2 + 2 * z * rho * sigmax * sigmaxp + z**2 * sigmaxp**2)\n"
     ]
    },
    {
     "name": "stdout",
     "output_type": "stream",
     "text": [
      "Centering beam at BEGBC20, old values (x, xp, y, yp): 6.1267338159034e-05 ,-8.384000354405281e-06, -9.162358776529015e-07 ,1.534417303171717e-07 \n"
     ]
    },
    {
     "name": "stderr",
     "output_type": "stream",
     "text": [
      "/Users/nmajik/Documents/SLAC/FACET2-Bmad-PyTao/UTILITY_quickstart.py:177: RuntimeWarning: invalid value encountered in sqrt\n",
      "  return np.sqrt(sigmax**2 + 2 * z * rho * sigmax * sigmaxp + z**2 * sigmaxp**2)\n"
     ]
    },
    {
     "name": "stdout",
     "output_type": "stream",
     "text": [
      "Centering beam at BEGBC20, old values (x, xp, y, yp): 9.636311227493283e-06 ,-2.1895612607624112e-06, -3.7437163426095855e-07 ,1.5350847328904734e-07 \n"
     ]
    },
    {
     "name": "stderr",
     "output_type": "stream",
     "text": [
      "/Users/nmajik/Documents/SLAC/FACET2-Bmad-PyTao/UTILITY_quickstart.py:177: RuntimeWarning: invalid value encountered in sqrt\n",
      "  return np.sqrt(sigmax**2 + 2 * z * rho * sigmax * sigmaxp + z**2 * sigmaxp**2)\n"
     ]
    },
    {
     "name": "stdout",
     "output_type": "stream",
     "text": [
      "Centering beam at BEGBC20, old values (x, xp, y, yp): -1.4347505244849002e-05 ,-1.7951019993846746e-06, 1.585712416672874e-07 ,1.4076952400724105e-07 \n"
     ]
    },
    {
     "name": "stderr",
     "output_type": "stream",
     "text": [
      "/Users/nmajik/Documents/SLAC/FACET2-Bmad-PyTao/UTILITY_quickstart.py:177: RuntimeWarning: invalid value encountered in sqrt\n",
      "  return np.sqrt(sigmax**2 + 2 * z * rho * sigmax * sigmaxp + z**2 * sigmaxp**2)\n"
     ]
    },
    {
     "name": "stdout",
     "output_type": "stream",
     "text": [
      "Centering beam at BEGBC20, old values (x, xp, y, yp): -0.00012770800889859424 ,-5.404145645406349e-06, 1.184103781918081e-06 ,8.991294516059064e-08 \n"
     ]
    },
    {
     "name": "stderr",
     "output_type": "stream",
     "text": [
      "/Users/nmajik/Documents/SLAC/FACET2-Bmad-PyTao/UTILITY_quickstart.py:177: RuntimeWarning: invalid value encountered in sqrt\n",
      "  return np.sqrt(sigmax**2 + 2 * z * rho * sigmax * sigmaxp + z**2 * sigmaxp**2)\n"
     ]
    },
    {
     "name": "stdout",
     "output_type": "stream",
     "text": [
      "Centering beam at BEGBC20, old values (x, xp, y, yp): 2.9559675395271316e-05 ,-3.6729560955953883e-06, -1.5790145425866536e-06 ,1.1832049513499196e-07 \n"
     ]
    },
    {
     "name": "stderr",
     "output_type": "stream",
     "text": [
      "/Users/nmajik/Documents/SLAC/FACET2-Bmad-PyTao/UTILITY_quickstart.py:177: RuntimeWarning: invalid value encountered in sqrt\n",
      "  return np.sqrt(sigmax**2 + 2 * z * rho * sigmax * sigmaxp + z**2 * sigmaxp**2)\n"
     ]
    },
    {
     "name": "stdout",
     "output_type": "stream",
     "text": [
      "Centering beam at BEGBC20, old values (x, xp, y, yp): -3.2498644306131967e-06 ,-9.941350678603686e-07, -9.401686595840207e-07 ,1.368429489483362e-07 \n",
      "Centering beam at BEGBC20, old values (x, xp, y, yp): -9.36330656002537e-06 ,-3.0299102469450026e-07, -3.2896747481114216e-07 ,1.3833969185638157e-07 \n"
     ]
    }
   ],
   "source": [
    "for L1Set in np.arange(-25, -10, 5):\n",
    "    for L2Set in np.arange(-50, -30, 5):\n",
    "        problem.optimizerWrapper(L1Set, L2Set) "
   ]
  },
  {
   "cell_type": "code",
   "execution_count": null,
   "id": "534b895c-211e-40c2-aa63-eaf6fca2e347",
   "metadata": {
    "editable": true,
    "slideshow": {
     "slide_type": ""
    },
    "tags": []
   },
   "outputs": [],
   "source": [
    "# optimizer = bayes_opt.BayesianOptimization(\n",
    "#     f=problem.optimizerWrapper,\n",
    "#     pbounds=pbounds,\n",
    "#     random_state=7,\n",
    "#     allow_duplicate_points=True, #2024-04-26 it was whining about this,\n",
    "#     verbose = 0 #2024-05-22: Make it quiet\n",
    "# )\n",
    "\n",
    "# #Initial point(s) to check\n",
    "# optimizer.probe(\n",
    "#     params={\n",
    "# 'Q1EkG': 117.05888832887702,\n",
    "#  'Q2EkG': -161.08070347179788,\n",
    "#  'Q3EkG': 123.62696608961151,\n",
    "#  'Q4EkG': 99.94203817364581,\n",
    "#  'Q5EkG': -31.456534919110677,\n",
    "#  'Q6EkG': -105.01493924928589,\n",
    "#  'S1ELkG': 453.142910378237,\n",
    "#  'S2ELkG': -1988.4701652598128,\n",
    "#  'S3ELkG': -985.7586439934659,\n",
    "#  'S3ERkG': -564.5394965036853,\n",
    "#  'S2ERkG': -1592.1135118613981,\n",
    "#  'S1ERkG': 869.2610562040793\n",
    "# },\n",
    "#     lazy=True,\n",
    "# )\n",
    "\n",
    "# #Refer to https://bayesian-optimization.github.io/BayesianOptimization/exploitation_vs_exploration.html\n",
    "# #and https://github.com/bayesian-optimization/BayesianOptimization/blob/master/bayes_opt/bayesian_optimization.py\n",
    "# boInitialKappa = 10 + 0*10.\n",
    "# boFinalKappa = 1e-3 + 0*0.1\n",
    "# boNumIter = 1000\n",
    "# boKappaDecay = (boFinalKappa / boInitialKappa)**(1/boNumIter)\n",
    "\n",
    "# acquisition_function = bayes_opt.util.UtilityFunction(kind='ucb',\n",
    "#                                    kappa=boInitialKappa,         #Default 2.576\n",
    "#                                    xi=0.0,              #Default 0\n",
    "#                                    kappa_decay=boKappaDecay,       #Default 0\n",
    "#                                    kappa_decay_delay=0  #Default 0                     \n",
    "#                                           )\n",
    "\n",
    "\n",
    "# optimizer.maximize(\n",
    "#     init_points=0, #Initial, random points\n",
    "#     n_iter=boNumIter,\n",
    "#     acquisition_function=acquisition_function\n",
    "# )"
   ]
  },
  {
   "cell_type": "code",
   "execution_count": null,
   "id": "636c9a69-ac6f-406c-b7c7-1a0801da07bc",
   "metadata": {
    "editable": true,
    "jupyter": {
     "source_hidden": true
    },
    "slideshow": {
     "slide_type": ""
    },
    "tags": []
   },
   "outputs": [],
   "source": [
    "from scipy.optimize import differential_evolution\n",
    "\n",
    "# Convert pbounds to the format required by differential_evolution\n",
    "bounds = [(low, high) for (low, high) in pbounds.values()]\n",
    "param_names = list(pbounds.keys())\n",
    "\n",
    "#scipy.optimize wants to optimize a function which is passed a vector of all the parameters\n",
    "#This programmatically wraps the existing wrapper (ugh...) to handle this format\n",
    "def create_DE_wrapper(obj, param_names):\n",
    "    def wrapperDE(params):\n",
    "        param_dict = dict(zip(param_names, params))\n",
    "\n",
    "        #bayes_opt is a maximizer but differential_evolution is a minimizer... hence the inversion\n",
    "        return -1*obj.optimizerWrapper(**param_dict)\n",
    "    \n",
    "    return wrapperDE\n",
    "\n",
    "wrapperDE = create_DE_wrapper(problem, param_names)"
   ]
  },
  {
   "cell_type": "code",
   "execution_count": null,
   "id": "79486442-407b-4fbc-8994-6b9b39cb81cf",
   "metadata": {
    "editable": true,
    "slideshow": {
     "slide_type": ""
    },
    "tags": []
   },
   "outputs": [],
   "source": [
    "#Optional: Define list of starting points\n",
    "totalPopSize = 20  # Total population size\n",
    "numDimensions = len(bounds)  # Number of parameters\n",
    "\n",
    "#Uniformly distributed\n",
    "# populationDE = np.random.rand(totalPopSize, numDimensions)\n",
    "# for i in range(numDimensions):\n",
    "#     low, high = bounds[i]\n",
    "#     populationDE[:, i] = low + populationDE[:, i] * (high - low)\n",
    "\n",
    "#Normally distributed\n",
    "populationDE = np.zeros((totalPopSize, numDimensions))\n",
    "for i in range(numDimensions):\n",
    "    low, high = bounds[i]\n",
    "    mean = (high + low) / 2\n",
    "    std_dev = (high - low) / 5\n",
    "    populationDE[:, i] = np.random.normal(mean, std_dev, totalPopSize)\n",
    "\n",
    "#Optional: Add specific points to initial evaluation list\n",
    "populationDE = np.vstack([[ np.mean(i) for i in bounds ], populationDE])\n",
    "\n",
    "result = differential_evolution(\n",
    "    wrapperDE, \n",
    "    bounds,\n",
    "    maxiter=100, \n",
    "    disp=True,\n",
    "    polish = False, \n",
    "    init = populationDE\n",
    ")\n",
    "\n",
    "\n",
    "print(problem.history) "
   ]
  },
  {
   "cell_type": "code",
   "execution_count": null,
   "id": "b50f42b1-5f6b-4a17-99ac-3902f40189bc",
   "metadata": {},
   "outputs": [],
   "source": [
    "problem.history.to_csv('output_data.csv', index=False)\n",
    "\n",
    "problem.history = problem.history.sort_values(by='maximizeMe', ascending=False)\n",
    "\n",
    "\n",
    "bestConfigData = problem.history.iloc[0]\n",
    "bestConfigDict = bestConfigData.to_dict()\n",
    "\n",
    "print( bestConfigData ) \n",
    "\n",
    "\n",
    "\n",
    "setLattice(tao, **bestConfigDict)\n",
    "\n",
    "\n",
    "trackBeam(tao)\n",
    "\n",
    "P = getBeamAtElement(tao, \"PENT\")\n",
    "PDrive, PWitness = getDriverAndWitness(P)\n",
    "\n",
    "print(f\"\"\"P, sigma x: {P[\"sigma_x\"]}\"\"\")\n",
    "print(f\"\"\"PDrive, sigma x: {PDrive[\"sigma_x\"]}\"\"\")\n",
    "print(f\"\"\"PWitness, sigma x: {PWitness[\"sigma_x\"]}\"\"\")"
   ]
  },
  {
   "cell_type": "code",
   "execution_count": null,
   "id": "64dec3b8-84cd-4210-955d-3ff84b7e60b6",
   "metadata": {},
   "outputs": [],
   "source": [
    "bestConfigDict"
   ]
  },
  {
   "cell_type": "code",
   "execution_count": null,
   "id": "041feb20-cbd4-4875-a53a-27e1673b6381",
   "metadata": {},
   "outputs": [],
   "source": [
    "display(plotMod(P, 'x', 'y',  bins=300))\n",
    "display(plotMod(P, 'x', 'pz', bins=300))\n",
    "display(plotMod(P, 'x', 'xp', bins=300))\n",
    "display(plotMod(P, 'y', 'yp', bins=300))\n",
    "display(plotMod(P, 'delta_t', 'pz', bins=300))\n",
    "display(slicePlotMod(P, 'norm_emit_x',n_slice=100))\n"
   ]
  },
  {
   "cell_type": "code",
   "execution_count": null,
   "id": "24e145e5-5de1-4039-8a0e-7615383bd0cb",
   "metadata": {},
   "outputs": [],
   "source": [
    "display(plotMod(PWitness, 'x', 'y',  bins=300))\n",
    "display(plotMod(PWitness, 'x', 'pz', bins=300))\n",
    "display(plotMod(PWitness, 'x', 'xp', bins=300))\n",
    "display(plotMod(PWitness, 'y', 'yp', bins=300))\n",
    "display(plotMod(PWitness, 'delta_t', 'pz', bins=300))\n",
    "display(slicePlotMod(PWitness, 'norm_emit_x',n_slice=100))\n"
   ]
  },
  {
   "cell_type": "code",
   "execution_count": null,
   "id": "e873d9e9-c62f-40e3-859e-798648f88cc2",
   "metadata": {},
   "outputs": [],
   "source": [
    "print(f\"\"\"P, sigma x: {P[\"sigma_x\"]}\"\"\")\n",
    "print(f\"\"\"PDrive, sigma x: {PDrive[\"sigma_x\"]}\"\"\")\n",
    "print(f\"\"\"PWitness, sigma x: {PWitness[\"sigma_x\"]}\"\"\")\n",
    "\n",
    "display(plotMod(P, 'x', 'y',  bins=300))\n",
    "display(plotMod(PDrive, 'x', 'y',  bins=300))\n",
    "display(plotMod(PWitness, 'x', 'y',  bins=300))"
   ]
  },
  {
   "cell_type": "code",
   "execution_count": null,
   "id": "ce9d5824-6cf6-4e11-8aae-00d366d69c77",
   "metadata": {},
   "outputs": [],
   "source": [
    "P = getBeamAtElement(tao, \"MFFF\")\n",
    "\n",
    "display(plotMod(P, 'x', 'xp', bins=300))\n",
    "display(slicePlotMod(P, 'norm_emit_x',n_slice=100))"
   ]
  },
  {
   "cell_type": "code",
   "execution_count": null,
   "id": "fbeb8750-15b3-4cf2-bd7a-8df22e12abc7",
   "metadata": {},
   "outputs": [],
   "source": []
  },
  {
   "cell_type": "code",
   "execution_count": null,
   "id": "828461e1-c84a-44be-abfc-3ee3ca9ab2d6",
   "metadata": {},
   "outputs": [],
   "source": [
    "problem.history"
   ]
  },
  {
   "cell_type": "code",
   "execution_count": null,
   "id": "71e16cab-618b-4bfe-83f6-51fbbdb452c2",
   "metadata": {},
   "outputs": [],
   "source": []
  }
 ],
 "metadata": {
  "kernelspec": {
   "display_name": "Python 3 (ipykernel)",
   "language": "python",
   "name": "python3"
  },
  "language_info": {
   "codemirror_mode": {
    "name": "ipython",
    "version": 3
   },
   "file_extension": ".py",
   "mimetype": "text/x-python",
   "name": "python",
   "nbconvert_exporter": "python",
   "pygments_lexer": "ipython3",
   "version": "3.11.8"
  }
 },
 "nbformat": 4,
 "nbformat_minor": 5
}

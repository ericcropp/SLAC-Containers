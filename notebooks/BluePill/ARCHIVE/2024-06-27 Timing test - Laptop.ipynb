{
 "cells": [
  {
   "cell_type": "code",
   "execution_count": 1,
   "id": "f5b6f48c-7f2f-411d-8b41-7a85c93f1f23",
   "metadata": {},
   "outputs": [],
   "source": [
    "import os\n",
    "os.environ['OMP_NUM_THREADS']=str(1)"
   ]
  },
  {
   "cell_type": "markdown",
   "id": "05575b5e-7221-4dcb-a23f-409ba5e0af10",
   "metadata": {
    "tags": []
   },
   "source": [
    "# Import statements"
   ]
  },
  {
   "cell_type": "code",
   "execution_count": 2,
   "id": "e28b911f-bb2e-4b3b-8109-2fbcce2ceed6",
   "metadata": {},
   "outputs": [
    {
     "name": "stdout",
     "output_type": "stream",
     "text": [
      "env: FACET2_LATTICE=/Users/nmajik/Documents/SLAC/FACET2-Bmad-PyTao\n",
      "Make sure enviornment was set!:   /Users/nmajik/Documents/SLAC/FACET2-Bmad-PyTao\n"
     ]
    }
   ],
   "source": [
    "from pytao import Tao\n",
    "import numpy as np\n",
    "import matplotlib.pyplot as plt\n",
    "import matplotlib.cm as cm\n",
    "import matplotlib.patches as mpatches\n",
    "import re\n",
    "import io\n",
    "from os import path,environ\n",
    "import pandas as pd\n",
    "import random\n",
    "from IPython.display import display, clear_output, update_display\n",
    "import bayes_opt\n",
    "\n",
    "from pmd_beamphysics import ParticleGroup\n",
    "#from pmd_beamphysics.statistics import resample_particles\n",
    "import pmd_beamphysics.statistics\n",
    "\n",
    "from UTILITY_plotMod import plotMod, slicePlotMod\n",
    "from UTILITY_linacPhaseAndAmplitude import getLinacMatchStrings, setLinacPhase, setLinacGradientAuto\n",
    "from UTILITY_modifyAndSaveInputBeam import modifyAndSaveInputBeam\n",
    "from UTILITY_setLattice import setLattice, getBendkG, getQuadkG, getSextkG\n",
    "\n",
    "import os\n",
    "filePath = os.getcwd()\n",
    "%env FACET2_LATTICE {filePath}\n",
    "#%env FACET2_LATTICE /Users/nmajik/Documents/SLAC/slacsyncgit/bmadExample\n",
    "\n",
    "print('Make sure enviornment was set!:  ', environ['FACET2_LATTICE']) "
   ]
  },
  {
   "cell_type": "markdown",
   "id": "e8fbacdd-1248-4a6b-af56-18ffe9d308a5",
   "metadata": {},
   "source": [
    "# Start tao"
   ]
  },
  {
   "cell_type": "code",
   "execution_count": 3,
   "id": "104918f7-4db6-4f4f-8f0c-a21aa52ecb5b",
   "metadata": {},
   "outputs": [
    {
     "data": {
      "text/plain": [
       "[]"
      ]
     },
     "execution_count": 3,
     "metadata": {},
     "output_type": "execute_result"
    }
   ],
   "source": [
    "tao=Tao('-init {:s}/bmad/models/f2_elec/tao.init -noplot'.format(environ['FACET2_LATTICE'])) \n",
    "#tao=Tao('-init {:s}/bmad/models/f2_elec/tao.init'.format(environ['FACET2_LATTICE'])) \n",
    "\n",
    "#Need to explicitly add non-MARKER places to save beam...\n",
    "tao.cmd(\"set beam add_saved_at = DTOTR, XTCAVF, M2EX\")"
   ]
  },
  {
   "cell_type": "markdown",
   "id": "33ed41ca-9ec5-4440-8b03-7d92912dc53a",
   "metadata": {},
   "source": [
    "# Beam construction"
   ]
  },
  {
   "cell_type": "markdown",
   "id": "71c38bef-a2d2-4461-ae1d-d6d4bf5c216f",
   "metadata": {},
   "source": [
    "## Import beam"
   ]
  },
  {
   "cell_type": "code",
   "execution_count": 4,
   "id": "71cbca5a-7296-4c7b-96cb-342195bd3062",
   "metadata": {},
   "outputs": [
    {
     "data": {
      "text/plain": [
       "[]"
      ]
     },
     "execution_count": 4,
     "metadata": {},
     "output_type": "execute_result"
    }
   ],
   "source": [
    "lastTrackedElement = \"end\"\n",
    "tao.cmd(f'set beam_init track_end = {lastTrackedElement}')\n",
    "#Can see present track_start and track_end values with `show beam`\n",
    "\n",
    "\n",
    "#Optional: Enable CSR\n",
    "tao.cmd(f'call {filePath}/bmad/models/f2_elec/scripts/Activate_CSR.tao')\n",
    "#tao.cmd('csron')\n",
    "tao.cmd('csroff')"
   ]
  },
  {
   "cell_type": "code",
   "execution_count": 5,
   "id": "bdaa5868-ea2c-4650-9912-66d1963dce1c",
   "metadata": {},
   "outputs": [
    {
     "name": "stdout",
     "output_type": "stream",
     "text": [
      "Number of CPU cores on node: 10\n",
      "Number of allocated CPU cores: 10\n"
     ]
    }
   ],
   "source": [
    "import multiprocessing\n",
    "print(\"Number of CPU cores on node:\", multiprocessing.cpu_count())\n",
    "\n",
    "import os\n",
    "\n",
    "# Check SLURM environment variable\n",
    "slurm_cpus = os.getenv('SLURM_CPUS_ON_NODE')\n",
    "\n",
    "# Check PBS environment variable\n",
    "pbs_cpus = os.getenv('PBS_NP')\n",
    "\n",
    "# Check SGE environment variable\n",
    "sge_cpus = os.getenv('NSLOTS')\n",
    "\n",
    "# Determine the number of allocated cores\n",
    "allocated_cores = None\n",
    "if slurm_cpus:\n",
    "    allocated_cores = int(slurm_cpus)\n",
    "elif pbs_cpus:\n",
    "    allocated_cores = int(pbs_cpus)\n",
    "elif sge_cpus:\n",
    "    allocated_cores = int(sge_cpus)\n",
    "else:\n",
    "    allocated_cores = multiprocessing.cpu_count()  # Fallback to total cores if no job scheduler variables found\n",
    "\n",
    "# Print the number of allocated cores\n",
    "print(\"Number of allocated CPU cores:\", allocated_cores)"
   ]
  },
  {
   "cell_type": "code",
   "execution_count": 6,
   "id": "c8b19e1e-caf7-44af-aec5-81483b3fa24c",
   "metadata": {},
   "outputs": [],
   "source": [
    "#This loop doesn't work, it keeps hitting all the cores. Instead, I'm going to put this command at the top and rerun manually\n",
    "# import os\n",
    "\n",
    "# for coreCount in np.arange(10,0,-1):\n",
    "#     os.environ['OMP_NUM_THREADS']=str(coreCount)\n",
    "    \n",
    "#     inputBeamFilePath = f'{filePath}/beams/nmmToL0AFEND_2bunch_2024-02-16Clean/2024-02-16_2bunch_1e5Downsample_nudgeWeights.h5'\n",
    "    \n",
    "    \n",
    "#     modifyAndSaveInputBeam(\n",
    "#         inputBeamFilePath,\n",
    "#         #numMacroParticles = 10000\n",
    "#     )\n",
    "    \n",
    "#     tao.cmd(f'set beam_init position_file={filePath}/beams/activeBeamFile.h5')\n",
    "#     tao.cmd('reinit beam')\n",
    "    \n",
    "#     #Set lattice to my latest default config\n",
    "#     setLattice(tao)\n",
    "    \n",
    "#     import time\n",
    "#     start_time = time.time()\n",
    "    \n",
    "    \n",
    "#     tao.cmd('set global track_type = beam') #set \"track_type = single\" to return to single particle\n",
    "#     tao.cmd('set global track_type = single') #return to single to prevent accidental long re-evaluation\n",
    "    \n",
    "#     print(f\"{os.environ['OMP_NUM_THREADS']}, {time.time() - start_time}\")"
   ]
  },
  {
   "cell_type": "code",
   "execution_count": 7,
   "id": "4668b834-5f5a-45ba-9ec3-77686396fcf2",
   "metadata": {},
   "outputs": [
    {
     "name": "stdout",
     "output_type": "stream",
     "text": [
      "1, 366.8837628364563\n"
     ]
    }
   ],
   "source": [
    "inputBeamFilePath = f'{filePath}/beams/nmmToL0AFEND_2bunch_2024-02-16Clean/2024-02-16_2bunch_1e5Downsample_nudgeWeights.h5'\n",
    "\n",
    "\n",
    "modifyAndSaveInputBeam(\n",
    "    inputBeamFilePath,\n",
    "    #numMacroParticles = 10000\n",
    ")\n",
    "\n",
    "tao.cmd(f'set beam_init position_file={filePath}/beams/activeBeamFile.h5')\n",
    "tao.cmd('reinit beam')\n",
    "\n",
    "#Set lattice to my latest default config\n",
    "setLattice(tao)\n",
    "\n",
    "import time\n",
    "start_time = time.time()\n",
    "\n",
    "\n",
    "tao.cmd('set global track_type = beam') #set \"track_type = single\" to return to single particle\n",
    "tao.cmd('set global track_type = single') #return to single to prevent accidental long re-evaluation\n",
    "\n",
    "print(f\"{os.environ['OMP_NUM_THREADS']}, {time.time() - start_time}\")"
   ]
  },
  {
   "cell_type": "code",
   "execution_count": null,
   "id": "a6b87e2c-2806-4b37-8ae8-0faee2e25ee8",
   "metadata": {},
   "outputs": [],
   "source": []
  }
 ],
 "metadata": {
  "kernelspec": {
   "display_name": "Python 3 (ipykernel)",
   "language": "python",
   "name": "python3"
  },
  "language_info": {
   "codemirror_mode": {
    "name": "ipython",
    "version": 3
   },
   "file_extension": ".py",
   "mimetype": "text/x-python",
   "name": "python",
   "nbconvert_exporter": "python",
   "pygments_lexer": "ipython3",
   "version": "3.11.8"
  }
 },
 "nbformat": 4,
 "nbformat_minor": 5
}

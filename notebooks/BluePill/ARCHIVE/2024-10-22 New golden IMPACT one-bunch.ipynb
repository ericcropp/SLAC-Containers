{
 "cells": [
  {
   "cell_type": "code",
   "execution_count": 1,
   "id": "4f235cf1-26ea-4bbe-b406-7ed6c21fe5c7",
   "metadata": {},
   "outputs": [],
   "source": [
    "from UTILITY_quickstart import *"
   ]
  },
  {
   "cell_type": "code",
   "execution_count": 2,
   "id": "c07aa7e6-7dd5-4a39-9a39-1f47db979307",
   "metadata": {},
   "outputs": [],
   "source": [
    "# tao = initializeTao(\n",
    "#     #inputBeamFilePathSuffix = '/beams/nmmToL0AFEND_2bunch_2024-02-16Clean/2024-02-16_2bunch_1e5Downsample_nudgeWeights.h5',\n",
    "#     # defaultsFile = \"setLattice_defaults_2024-08-21_demo.yml\",\n",
    "#     # csrTF = True,\n",
    "#     #numMacroParticles = 1e3,\n",
    "#     loadDefaultLatticeTF = False\n",
    "# )"
   ]
  },
  {
   "cell_type": "code",
   "execution_count": 3,
   "id": "2d02bbdf-fe4a-4cdb-819a-1d8af5e627e9",
   "metadata": {},
   "outputs": [],
   "source": [
    "from datetime import datetime\n",
    "\n",
    "def get_current_time_formatted():\n",
    "    return datetime.now().strftime(\"%Y-%m-%d-%H-%M-%S\")\n",
    "\n",
    "exportFileName = f\"impactResults_{get_current_time_formatted()}.json\""
   ]
  },
  {
   "cell_type": "markdown",
   "id": "e5a34541-7518-4375-8ce2-1c3df5b82567",
   "metadata": {},
   "source": [
    "## Solenoid scan"
   ]
  },
  {
   "cell_type": "code",
   "execution_count": 4,
   "id": "fb0d1828-d117-42e8-9dd6-285e611b36e3",
   "metadata": {},
   "outputs": [],
   "source": [
    "# history = pd.DataFrame()\n",
    "\n",
    "# solSet = -0.41\n",
    "# gridCount = 32\n",
    "\n",
    "# for solSet in np.arange(-0.37, -0.44, -0.005):\n",
    "    \n",
    "\n",
    "\n",
    "# #for gridCount in [5, 10, 15, 20, 30, 40, 50, 60, 80, 100, 120, 150, 200]:\n",
    "\n",
    "\n",
    "#     savedData = {}\n",
    "    \n",
    "#     print(f\"Solenoid: {solSet}\")\n",
    "    \n",
    "#     I = runImpact(\n",
    "#         gridCount = gridCount, #E. Cropp suggests setting such that 5 = ppc = N / grids^3\n",
    "#         numMacroParticles = 1e5,\n",
    "#         GFILESuffix = '2024-10-22_distgen_onebunch.yaml',\n",
    "#         L0APhaseOffset = 0,\n",
    "#         solenoidTValue = solSet,\n",
    "#         returnImpactObject = True\n",
    "#     )\n",
    "\n",
    "    \n",
    "#     #P = I.particles['PR10241'].copy()\n",
    "#     P = I.particles['L0AFEND'].copy()\n",
    "\n",
    "#     # P = nudgeMacroparticleWeights(\n",
    "#     #     P,\n",
    "#     #     trailingBunchFraction = 0.75,\n",
    "#     #     trailingBunchType = \"driver\"\n",
    "#     # )\n",
    "    \n",
    "#     # PDrive, PWitness = getDriverAndWitness(P)\n",
    "    \n",
    "#     display(plotMod(P, 'x', 'y',  bins=100))\n",
    "#     display(plotMod(P, 'x', 'xp', bins=100))\n",
    "#     display(plotMod(P, 'delta_z', 'energy', bins=100))\n",
    "\n",
    "    \n",
    "#     savedData[\"solSet\"] = solSet\n",
    "#     savedData[\"gridCount\"] = gridCount\n",
    "\n",
    "#     #This actually seems survive export to JSON. Makes big files though\n",
    "#     #savedData[\"P\"] = P \n",
    "    \n",
    "#     # savedData[\"norm_emit_x\"] = P.norm_emit_x\n",
    "#     # savedData[\"norm_emit_y\"] = P.norm_emit_y\n",
    "\n",
    "#     savedData[\"P_emitSI90_x\"] = smallestIntervalImpliedEmittance(P, plane = \"x\", percentage = 0.90)\n",
    "#     savedData[\"P_emitSI90_y\"] = smallestIntervalImpliedEmittance(P, plane = \"y\", percentage = 0.90)\n",
    "\n",
    "#     # savedData[\"PDrive_emitSI90_x\"] = smallestIntervalImpliedEmittance(PDrive, plane = \"x\", percentage = 0.90)\n",
    "#     # savedData[\"PDrive_emitSI90_y\"] = smallestIntervalImpliedEmittance(PDrive, plane = \"y\", percentage = 0.90)\n",
    "\n",
    "#     # savedData[\"PWitness_emitSI90_x\"] = smallestIntervalImpliedEmittance(PWitness, plane = \"x\", percentage = 0.90)\n",
    "#     # savedData[\"PWitness_emitSI90_y\"] = smallestIntervalImpliedEmittance(PWitness, plane = \"y\", percentage = 0.90)\n",
    "\n",
    "#     # savedData[\"PDrive_charge\"] = PDrive.charge\n",
    "#     # savedData[\"PWitness_charge\"] = PWitness.charge\n",
    "\n",
    "#     # savedData[f\"sigmaSI90_x\"] = smallestIntervalImpliedSigma(P.x, percentage = 0.90)\n",
    "#     # savedData[f\"sigmaSI90_y\"] = smallestIntervalImpliedSigma(P.y, percentage = 0.90)\n",
    "\n",
    "#     # print(f\"\"\"{savedData[\"norm_emit_x\"]}, {savedData[\"norm_emit_y\"]}\"\"\")\n",
    "#     # print(f\"\"\"{savedData[\"emitSI90_x\"]}, {savedData[\"emitSI90_y\"]}\"\"\")\n",
    "\n",
    "#     print(savedData)\n",
    "    \n",
    "#     tmpData = pd.Series( savedData ) \n",
    "#     history = pd.concat([history, tmpData.to_frame().T])\n",
    "\n",
    "#     history.to_json(exportFileName, orient='records')"
   ]
  },
  {
   "cell_type": "code",
   "execution_count": 5,
   "id": "482e1feb-e377-49b2-be4d-ac89cb405a64",
   "metadata": {},
   "outputs": [],
   "source": [
    "#history"
   ]
  },
  {
   "cell_type": "markdown",
   "id": "0a8f723e-6c58-4427-a46f-ab4f62187724",
   "metadata": {},
   "source": [
    "## Final export"
   ]
  },
  {
   "cell_type": "code",
   "execution_count": null,
   "id": "e333e2e7-24d8-4124-b762-7aff0c8f7cbd",
   "metadata": {},
   "outputs": [
    {
     "name": "stdout",
     "output_type": "stream",
     "text": [
      "Solenoid: -0.41\n",
      "Running Impact\n",
      "Assuming default file path: /Users/nmajik/Documents/SLAC/FACET2-Bmad-PyTao\n",
      "\t Impact: Autophasing\n",
      "\t Impact: Distgen\n",
      "\t Impact: Tracking\n",
      "Running Impact-T in /Users/nmajik/Documents/SLAC/FACET2-Bmad-PyTao/impact/tmpsalgfiq_\n",
      "/opt/homebrew/anaconda3/envs/bmad/bin/ImpactTexe\n",
      "writing 500000 particles to /Users/nmajik/Documents/SLAC/FACET2-Bmad-PyTao/impact/tmpsalgfiq_/partcl.data\n",
      "Cathode start with cathode_kinetic_energy_ref = 1.0 eV\n",
      "Cathode start: Replaced Np with 500000 according to initial particles\n",
      "Cathode start: Replaced Bkenergy with 1.0 according to initial particles\n",
      "Cathode start: Replaced Temission with 7.018597949684786e-12 according to initial particles\n",
      "Cathode start: Replaced Tini with -3.5095180815895912e-12 according to initial particles\n",
      "Setting total charge to 1.6000000000000005e-09 C\n",
      " !-----------------------------------------------------------\n",
      " ! IMPACT-T Parallel Beam Dynamics Tracking Code: V2.3.1\n",
      " ! Copyright of The Regents of the University of California\n",
      " !-----------------------------------------------------------\n",
      " nblem:           28          28\n",
      " pass setting up lattice...\n",
      " check randomness:            0  0.30440529327431320     \n",
      " avgpts, jlow, and jhigh:       500000           1      500000\n",
      " sumx1,sumy1:    3.4833021883562409E-018  -5.2279119076658356E-018\n",
      " pass generating initial distribution...\n",
      " tstop:    4.2000000000000002     \n",
      " i,t,<z>:            1  -3.5095180815895912E-012   0.0000000000000000     \n",
      " zmin,zmax:   -4.1627029870006276E-006  -1.0164395367051603E-020\n",
      " i,t,<z>:            2  -3.4919715867153790E-012  -2.0814814448549170E-006\n",
      " zmin,zmax:   0.12767796284050567       0.12980091433915489, elapsed: 1671.0052511692047315044403871008"
     ]
    }
   ],
   "source": [
    "history = pd.DataFrame()\n",
    "\n",
    "solSet = -0.41\n",
    "gridCount = 100 #100\n",
    "\n",
    "\n",
    "savedData = {}\n",
    "\n",
    "print(f\"Solenoid: {solSet}\")\n",
    "\n",
    "I = runImpact(\n",
    "    gridCount = gridCount, #E. Cropp suggests setting such that 5 = ppc = N / grids^3\n",
    "    numMacroParticles = 5e5,\n",
    "    GFILESuffix = '2024-10-22_distgen_onebunch.yaml',\n",
    "    L0APhaseOffset = 0,\n",
    "    solenoidTValue = solSet,\n",
    "    returnImpactObject = True\n",
    ")\n",
    "\n",
    "\n",
    "#P = I.particles['PR10241'].copy()\n",
    "P = I.particles['L0AFEND'].copy()\n",
    "\n"
   ]
  },
  {
   "cell_type": "code",
   "execution_count": null,
   "id": "573dd981-b0ca-4124-b418-6640af5b0e08",
   "metadata": {},
   "outputs": [],
   "source": [
    "display(plotMod(P, 'x', 'y',  bins=100))\n",
    "display(plotMod(P, 'x', 'xp', bins=100))\n",
    "display(plotMod(P, 'delta_z', 'energy', bins=100))\n",
    "plt.clf()"
   ]
  },
  {
   "cell_type": "code",
   "execution_count": null,
   "id": "3b2a9054-22ea-4132-8170-c1d4feca1b59",
   "metadata": {},
   "outputs": [],
   "source": [
    "P.drift_to_z()\n",
    "P.write(\"2024-10-22_oneBunch.h5\")"
   ]
  },
  {
   "cell_type": "code",
   "execution_count": null,
   "id": "d7b19f37-5703-405e-b97e-b3356ea664e6",
   "metadata": {},
   "outputs": [],
   "source": []
  }
 ],
 "metadata": {
  "kernelspec": {
   "display_name": "Python 3 (ipykernel)",
   "language": "python",
   "name": "python3"
  },
  "language_info": {
   "codemirror_mode": {
    "name": "ipython",
    "version": 3
   },
   "file_extension": ".py",
   "mimetype": "text/x-python",
   "name": "python",
   "nbconvert_exporter": "python",
   "pygments_lexer": "ipython3",
   "version": "3.11.8"
  }
 },
 "nbformat": 4,
 "nbformat_minor": 5
}

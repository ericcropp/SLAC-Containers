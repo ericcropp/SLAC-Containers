{
 "cells": [
  {
   "cell_type": "code",
   "execution_count": 1,
   "id": "8b5038db-4944-4f15-b532-9c58a40bc477",
   "metadata": {},
   "outputs": [
    {
     "data": {
      "text/plain": [
       "{'L1PhaseSet': -20.0,\n",
       " 'L2PhaseSet': -38.0,\n",
       " 'L2EnergyOffset': 0,\n",
       " 'L3EnergyOffset': 0,\n",
       " 'QA10361kG': -2.60267,\n",
       " 'QA10371kG': 2.62955,\n",
       " 'QE10425kG': -8.66839,\n",
       " 'QE10441kG': 10.1164,\n",
       " 'QE10511kG': 5.40082,\n",
       " 'QE10525kG': -4.85541,\n",
       " 'Q5FFkG': -71.837,\n",
       " 'Q4FFkG': -81.251,\n",
       " 'Q3FFkG': 99.225,\n",
       " 'Q2FFkG': 126.35,\n",
       " 'Q1FFkG': -235.218,\n",
       " 'Q0FFkG': 126.353,\n",
       " 'Q0DkG': -109.694,\n",
       " 'Q1DkG': 180.862,\n",
       " 'Q2DkG': -109.694,\n",
       " 'B1EkG': 7.533,\n",
       " 'B2EkG': -10.942,\n",
       " 'B3EkG': 3.409,\n",
       " 'Q1EkG': 161.311,\n",
       " 'Q2EkG': -154.229,\n",
       " 'Q3EkG': 110.217,\n",
       " 'Q4EkG': 132.268,\n",
       " 'Q5EkG': -23.373,\n",
       " 'Q6EkG': -142.271,\n",
       " 'S1ELkG': 804.871,\n",
       " 'S2ELkG': -2049.489,\n",
       " 'S3ELkG': -1019.323,\n",
       " 'S3ERkG': -1019.323,\n",
       " 'S2ERkG': -2049.489,\n",
       " 'S1ERkG': 804.871}"
      ]
     },
     "execution_count": 1,
     "metadata": {},
     "output_type": "execute_result"
    }
   ],
   "source": [
    "import yaml\n",
    "\n",
    "# Loading from a file\n",
    "with open('setLattice_defaults.yml', 'r') as file:\n",
    "    config = yaml.safe_load(file)\n",
    "\n",
    "config"
   ]
  },
  {
   "cell_type": "code",
   "execution_count": null,
   "id": "755864fc-96ab-4187-b7bd-da5a4bff4d79",
   "metadata": {},
   "outputs": [],
   "source": []
  },
  {
   "cell_type": "code",
   "execution_count": 8,
   "id": "8b55c86f-ee94-47c2-af61-0ab5e7f450a8",
   "metadata": {},
   "outputs": [],
   "source": [
    "def my_function(defaultsFile=None, **overrides):\n",
    "    with open(defaultsFile, 'r') as file:\n",
    "        defaults = yaml.safe_load(file)\n",
    "\n",
    "    # Combine defaults and overrides, with overrides taking precedence\n",
    "    combined = {**defaults, **overrides}\n",
    "\n",
    "    # Now you can use the variables from the combined dictionary\n",
    "    for key, value in combined.items():\n",
    "        print(f\"{key}: {value}\")\n",
    "\n",
    "\n",
    "    # for key, value in combined.items():\n",
    "    #         exec(f\"{key} = {value}\")\n",
    "\n",
    "    # print(combined[\"L1PhaseSet\"])\n",
    "    # print(L1PhaseSet)"
   ]
  },
  {
   "cell_type": "code",
   "execution_count": 9,
   "id": "dcf349e5-12b7-44e7-ba8c-433d4db83409",
   "metadata": {},
   "outputs": [
    {
     "name": "stdout",
     "output_type": "stream",
     "text": [
      "L1PhaseSet: 17\n",
      "L2PhaseSet: -38.0\n",
      "L2EnergyOffset: 0\n",
      "L3EnergyOffset: 0\n",
      "QA10361kG: -2.60267\n",
      "QA10371kG: 2.62955\n",
      "QE10425kG: -8.66839\n",
      "QE10441kG: 10.1164\n",
      "QE10511kG: 5.40082\n",
      "QE10525kG: -4.85541\n",
      "Q5FFkG: -71.837\n",
      "Q4FFkG: -81.251\n",
      "Q3FFkG: 99.225\n",
      "Q2FFkG: 126.35\n",
      "Q1FFkG: -235.218\n",
      "Q0FFkG: 126.353\n",
      "Q0DkG: -109.694\n",
      "Q1DkG: 180.862\n",
      "Q2DkG: -109.694\n",
      "B1EkG: 7.533\n",
      "B2EkG: -10.942\n",
      "B3EkG: 3.409\n",
      "Q1EkG: 161.311\n",
      "Q2EkG: -154.229\n",
      "Q3EkG: 110.217\n",
      "Q4EkG: 132.268\n",
      "Q5EkG: -23.373\n",
      "Q6EkG: -142.271\n",
      "S1ELkG: 804.871\n",
      "S2ELkG: -2049.489\n",
      "S3ELkG: -1019.323\n",
      "S3ERkG: -1019.323\n",
      "S2ERkG: -2049.489\n",
      "S1ERkG: 804.871\n",
      "17\n"
     ]
    },
    {
     "ename": "NameError",
     "evalue": "name 'L1PhaseSet' is not defined",
     "output_type": "error",
     "traceback": [
      "\u001b[0;31m---------------------------------------------------------------------------\u001b[0m",
      "\u001b[0;31mNameError\u001b[0m                                 Traceback (most recent call last)",
      "Cell \u001b[0;32mIn[9], line 1\u001b[0m\n\u001b[0;32m----> 1\u001b[0m my_function(\u001b[38;5;124m'\u001b[39m\u001b[38;5;124msetLattice_defaults.yml\u001b[39m\u001b[38;5;124m'\u001b[39m, L1PhaseSet \u001b[38;5;241m=\u001b[39m \u001b[38;5;241m17\u001b[39m)\n",
      "Cell \u001b[0;32mIn[8], line 17\u001b[0m, in \u001b[0;36mmy_function\u001b[0;34m(defaultsFile, **overrides)\u001b[0m\n\u001b[1;32m     14\u001b[0m         exec(\u001b[38;5;124mf\u001b[39m\u001b[38;5;124m\"\u001b[39m\u001b[38;5;132;01m{\u001b[39;00mkey\u001b[38;5;132;01m}\u001b[39;00m\u001b[38;5;124m = \u001b[39m\u001b[38;5;132;01m{\u001b[39;00mvalue\u001b[38;5;132;01m}\u001b[39;00m\u001b[38;5;124m\"\u001b[39m)\n\u001b[1;32m     16\u001b[0m \u001b[38;5;28mprint\u001b[39m(combined[\u001b[38;5;124m\"\u001b[39m\u001b[38;5;124mL1PhaseSet\u001b[39m\u001b[38;5;124m\"\u001b[39m])\n\u001b[0;32m---> 17\u001b[0m \u001b[38;5;28mprint\u001b[39m(L1PhaseSet)\n",
      "\u001b[0;31mNameError\u001b[0m: name 'L1PhaseSet' is not defined"
     ]
    }
   ],
   "source": [
    "my_function('setLattice_defaults.yml', L1PhaseSet = 17)"
   ]
  },
  {
   "cell_type": "code",
   "execution_count": null,
   "id": "8ef75098-21bd-4856-8e6e-7387efa76408",
   "metadata": {},
   "outputs": [],
   "source": []
  }
 ],
 "metadata": {
  "kernelspec": {
   "display_name": "Python 3 (ipykernel)",
   "language": "python",
   "name": "python3"
  },
  "language_info": {
   "codemirror_mode": {
    "name": "ipython",
    "version": 3
   },
   "file_extension": ".py",
   "mimetype": "text/x-python",
   "name": "python",
   "nbconvert_exporter": "python",
   "pygments_lexer": "ipython3",
   "version": "3.11.8"
  }
 },
 "nbformat": 4,
 "nbformat_minor": 5
}

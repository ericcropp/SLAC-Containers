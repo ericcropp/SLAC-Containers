{
 "cells": [
  {
   "cell_type": "code",
   "execution_count": 1,
   "id": "61997cc0-8792-4014-a8f8-b3859faff766",
   "metadata": {},
   "outputs": [],
   "source": [
    "from UTILITY_quickstart import *\n",
    "import yaml\n",
    "\n",
    "with open('setLattice_defaults.yml', 'r') as file:\n",
    "    importedDefaultSettings = yaml.safe_load(file)"
   ]
  },
  {
   "cell_type": "code",
   "execution_count": 2,
   "id": "5ae3b41f-a6f2-450e-abfe-6b6dd96f5ecc",
   "metadata": {},
   "outputs": [
    {
     "name": "stdout",
     "output_type": "stream",
     "text": [
      "Environment set to:  /Users/nmajik/Documents/SLAC/FACET2-Bmad-PyTao\n",
      "Tracking to end\n",
      "CSR off\n",
      "Overwriting lattice with setLattice() defaults\n",
      "No defaults file provided to setLattice(). Using setLattice_defaults.yml\n",
      "Number of macro particles = 100000.0\n",
      "Loaded activeBeamFile.h5\n",
      "Set track_start = L0AFEND, track_end = L0BFEND\n",
      "Tracking!\n",
      "trackBeam() exiting\n"
     ]
    }
   ],
   "source": [
    "tao = initializeTao(\n",
    "    #inputBeamFilePathSuffix = '/beams/nmmToL0AFEND_2bunch_2024-02-16Clean/2024-02-16_2bunch_1e5Downsample_nudgeWeights.h5',\n",
    "    #inputBeamFilePathSuffix = '/beams/L0AFEND_facet2-lattice.h5',\n",
    "    #inputBeamFilePathSuffix = '/beams/2024-10-14_Impact_TwoBunch/2024-10-14_TwoBunch.h5',\n",
    "    inputBeamFilePathSuffix = '/beams/2024-10-22_Impact_OneBunch/2024-10-22_oneBunch.h5',\n",
    "\n",
    "    csrTF = False,\n",
    "    numMacroParticles=1e5,\n",
    "    #loadDefaultLatticeTF=False,\n",
    ")\n",
    "\n",
    "activeSettings = importedDefaultSettings | {\n",
    "    # \"S1EL_xOffset\" : 0.00,  \n",
    "    # \"S1EL_yOffset\" : 0.0,  \n",
    "    # #\"S2EL_xOffset\" : 0.002,  \n",
    "    # \"S2EL_yOffset\" : 0.0,  \n",
    "    # \"S2ER_xOffset\" : 0.0,  \n",
    "    # \"S2ER_yOffset\" : 0.0,  \n",
    "    # \"S1ER_xOffset\" : 0.0,  \n",
    "    # \"S1ER_yOffset\" : 0.0,\n",
    "\n",
    "    # #\"XC1FFkG\" : 0.2321150061,\n",
    "\n",
    "\n",
    "    # #Sextupole compensated, CSR off\n",
    "    # \"S2EL_xOffset\" : 0.002, \n",
    "    # \"XC1FFkG\" : 0.19,\n",
    "\n",
    "}\n",
    "setLattice(tao, **activeSettings)\n",
    "\n",
    "#Set aside the initial beam for later reference\n",
    "trackBeam(tao, trackEnd = \"L0BFEND\", verbose = True)\n",
    "PInit = ParticleGroup(data=tao.bunch_data(\"L0AFEND\"))"
   ]
  },
  {
   "cell_type": "code",
   "execution_count": null,
   "id": "2633e599-b309-4481-83eb-ea7c99188595",
   "metadata": {},
   "outputs": [
    {
     "name": "stdout",
     "output_type": "stream",
     "text": [
      "Loaded activeBeamFile.h5\n",
      "Set track_start = L0AFEND, track_end = end\n",
      "Set track_end = BEGBC14_1\n",
      "Tracking!\n",
      "Beam centered at BEGBC14 written to patchBeamFile.h5\n",
      "Loaded patchBeamFile.h5\n",
      "Set track_start = BEGBC14_1, track_end = end\n",
      "Set track_end = BEGBC20\n",
      "Tracking!\n"
     ]
    }
   ],
   "source": [
    "trackBeam(tao, centerBC14 = True, centerBC20 = True, verbose = True)"
   ]
  },
  {
   "cell_type": "code",
   "execution_count": null,
   "id": "855dbc17-1b7d-427c-8a3d-5716b7e9161f",
   "metadata": {},
   "outputs": [],
   "source": [
    "savedData = {}\n",
    "\n",
    "P = getBeamAtElement(tao, \"PENT\")\n",
    "PDrive, PWitness = getDriverAndWitness(P)\n",
    "\n",
    "\n",
    "for PActiveStr in [\"PDrive\", \"PWitness\"]:\n",
    "    PActive = locals()[PActiveStr]\n",
    "    for val in [\"mean_x\", \"mean_y\", \"sigma_x\", \"sigma_y\", \"mean_xp\", \"mean_yp\"]:\n",
    "        savedData[f\"{PActiveStr}_{val}\"] = PActive[val]\n",
    "        #print(f\"\"\"{PActiveStr}_{val} = {PActive[val]}\"\"\")\n",
    "\n",
    "    #Note that this is not a standard deviation; also imposes cost for being off zero\n",
    "    #savedData[f\"{PActiveStr}_xCost\"] = np.sqrt(np.mean((PActive.x)**2))\n",
    "    #savedData[f\"{PActiveStr}_yCost\"] = np.sqrt(np.mean((PActive.y)**2))\n",
    "\n",
    "\n",
    "    #Using the product was making it report flat beams...\n",
    "    #savedData[f\"{PActiveStr}_totalCost\"] = savedData[f\"{PActiveStr}_xCost\"] * savedData[f\"{PActiveStr}_yCost\"]\n",
    "    #Instead, average\n",
    "    #savedData[f\"{PActiveStr}_totalCost\"] = 0.5*(savedData[f\"{PActiveStr}_xCost\"] + savedData[f\"{PActiveStr}_yCost\"])\n",
    "\n",
    "    savedData[f\"{PActiveStr}_median_x\"] = np.median(PActive.x)\n",
    "    savedData[f\"{PActiveStr}_median_y\"] = np.median(PActive.y)\n",
    "\n",
    "    savedData[f\"{PActiveStr}_median_xp\"] = np.median(PActive.xp)\n",
    "    savedData[f\"{PActiveStr}_median_yp\"] = np.median(PActive.yp)\n",
    "    \n",
    "    savedData[f\"{PActiveStr}_sigmaSI90_x\"] = smallestIntervalImpliedSigma(PActive.x, percentage = 0.90)\n",
    "    savedData[f\"{PActiveStr}_sigmaSI90_y\"] = smallestIntervalImpliedSigma(PActive.y, percentage = 0.90)\n",
    "\n",
    "    savedData[f\"{PActiveStr}_emitSI90_x\"] = smallestIntervalImpliedEmittance(PActive, plane = \"x\", percentage = 0.90)\n",
    "    savedData[f\"{PActiveStr}_emitSI90_y\"] = smallestIntervalImpliedEmittance(PActive, plane = \"y\", percentage = 0.90)\n",
    "\n",
    "    savedData[f\"{PActiveStr}_zLen\"] = smallestIntervalImpliedSigma(PActive.t * 3e8, percentage=0.9)\n",
    "\n",
    "    savedData[f\"{PActiveStr}_zCentroid\"] = np.median(PActive.t * 3e8)\n",
    "\n",
    "savedData[\"bunchSpacing\"] = savedData[\"PWitness_zCentroid\"] - savedData[\"PDrive_zCentroid\"]\n",
    "\n",
    "savedData[\"transverseCentroidOffset\"] = np.sqrt(\n",
    "        (savedData[\"PDrive_mean_x\"] - savedData[\"PWitness_mean_x\"])**2 + \n",
    "        (savedData[\"PDrive_mean_y\"] - savedData[\"PWitness_mean_y\"])**2\n",
    "    )\n",
    "\n",
    "\n",
    "#savedData[\"lostChargeFraction\"] = 1 - (tao.bunch_params(\"DTOTR\")['n_particle_live'] / tao.bunch_params(\"BEGBC20\")['n_particle_live'])\n",
    "savedData[\"lostChargeFraction\"] = 1 - (P.charge / PInit.charge)"
   ]
  },
  {
   "cell_type": "code",
   "execution_count": null,
   "id": "aee39a6d-e81d-4a4a-9bce-40ea66c244f6",
   "metadata": {},
   "outputs": [],
   "source": [
    "savedData"
   ]
  },
  {
   "cell_type": "code",
   "execution_count": null,
   "id": "3a38509a-8b9c-4b65-9e8f-b05b2fd8fa24",
   "metadata": {},
   "outputs": [],
   "source": [
    "print(f\"\"\"Bunch spacing: \\t\\t{1e6 * savedData[\"bunchSpacing\"] :.3g} um\"\"\")\n",
    "\n",
    "print(f\"\"\"Transverse offset: \\t{1e6*np.sqrt((savedData[\"PDrive_median_x\"] - savedData[\"PWitness_median_x\"])**2 + (savedData[\"PDrive_median_y\"] - savedData[\"PWitness_median_y\"])**2) :.3g} um\"\"\")\n",
    "print(f\"\"\"Angular misalignment: \\t{1e3*np.sqrt((savedData[\"PDrive_median_xp\"] - savedData[\"PWitness_median_xp\"])**2 + (savedData[\"PDrive_median_yp\"] - savedData[\"PWitness_median_yp\"])**2) :.3g} mrad\"\"\")\n",
    "\n",
    "print(\"\\nEmittances and sigmas - implied by 90% charge\")\n",
    "print(f\"\"\"Driver emittance: \\t{1e6 * savedData[\"PDrive_emitSI90_x\"] :.3g} × {1e6 * savedData[\"PDrive_emitSI90_y\"] :.3g} um-rad\"\"\")\n",
    "print(f\"\"\"Witness emittance: \\t{1e6 * savedData[\"PWitness_emitSI90_x\"] :.3g} × {1e6 * savedData[\"PWitness_emitSI90_y\"] :.3g} um-rad\"\"\")\n",
    "\n",
    "print(f\"\"\"Driver sigma_x,y,z: \\t{1e6 * savedData[\"PDrive_sigmaSI90_x\"] :.3g}, {1e6 * savedData[\"PDrive_sigmaSI90_y\"] :.3g}, {1e6 * savedData[\"PDrive_zLen\"] :.3g} um\"\"\")\n",
    "print(f\"\"\"Witness sigma_x,y,z: \\t{1e6 * savedData[\"PWitness_sigmaSI90_x\"] :.3g}, {1e6 * savedData[\"PWitness_sigmaSI90_y\"] :.3g}, {1e6 * savedData[\"PWitness_zLen\"] :.3g} um\"\"\")\n",
    "\n",
    "\n",
    "\n",
    "print(\"\\nEmittances and sigmas - literal standard deviation\")\n",
    "\n",
    "print(f\"\"\"Driver emittance: \\t{1e6 * PDrive[\"norm_emit_x\"] :.3g} × {1e6 * PDrive[\"norm_emit_y\"] :.3g} um-rad\"\"\")\n",
    "print(f\"\"\"Witness emittance: \\t{1e6 * PWitness[\"norm_emit_x\"] :.3g} × {1e6 * PWitness[\"norm_emit_y\"] :.3g} um-rad\"\"\")\n",
    "\n",
    "print(f\"\"\"Driver sigma_x,y,z: \\t{1e6 * PDrive[\"sigma_x\"] :.3g}, {1e6 * PDrive[\"sigma_y\"] :.3g}, {1e6 * PDrive[\"sigma_z\"] :.3g} um\"\"\")\n",
    "print(f\"\"\"Witness sigma_x,y,z: \\t{1e6 * PWitness[\"sigma_x\"] :.3g}, {1e6 * PWitness[\"sigma_y\"] :.3g}, {1e6 * PWitness[\"sigma_z\"] :.3g} um\"\"\")"
   ]
  },
  {
   "cell_type": "code",
   "execution_count": null,
   "id": "91d0dd20-ef49-47c3-99dd-834f52c3c22d",
   "metadata": {},
   "outputs": [],
   "source": [
    "print(\"Drive:\")\n",
    "display(plotMod(PDrive, 'x', 'y',  bins=300))\n",
    "print(\"Witness:\")\n",
    "display(plotMod(PWitness, 'x', 'y',  bins=300))\n",
    "display(plotMod(P, 'z', 'pz', bins=300))\n",
    "#display(slicePlotMod(P, 'norm_emit_x', slice_key = \"z\", n_slice=100))\n",
    "display(slicePlotMod(P, 'norm_emit_x', slice_key = \"t\", n_slice=100))\n",
    "plt.clf()"
   ]
  },
  {
   "cell_type": "code",
   "execution_count": null,
   "id": "0c359d4b-e091-4bf9-80b3-c8851dc5b9d8",
   "metadata": {},
   "outputs": [],
   "source": [
    "display(plotMod(PDrive, 'x', 'y', bins=1000, xlim = (-200e-6, 200e-6), ylim = (-50e-6, 50e-6)))\n",
    "display(plotMod(PDrive, 'x', 'xp', bins=300))\n",
    "display(plotMod(PDrive, 'delta_t', 'pz', bins=300, xlim = (-100e-15, 100e-15)))"
   ]
  },
  {
   "cell_type": "code",
   "execution_count": null,
   "id": "b6ae32d2-604b-4622-be6a-0864af463f0b",
   "metadata": {},
   "outputs": [],
   "source": [
    "display(plotMod(P, 'x', 'y',  bins=300))\n",
    "display(plotMod(P, 'x', 'pz', bins=300))\n",
    "display(plotMod(P, 'x', 'xp', bins=300))\n",
    "display(plotMod(P, 'y', 'yp', bins=300))\n",
    "display(plotMod(P, 'z', 'pz', bins=300))\n",
    "display(slicePlotMod(P, 'norm_emit_x',n_slice=100))"
   ]
  },
  {
   "cell_type": "code",
   "execution_count": null,
   "id": "24e145e5-5de1-4039-8a0e-7615383bd0cb",
   "metadata": {},
   "outputs": [],
   "source": [
    "display(plotMod(PWitness, 'x', 'y',  bins=300))\n",
    "display(plotMod(PWitness, 'x', 'pz', bins=300))\n",
    "display(plotMod(PWitness, 'x', 'xp', bins=300))\n",
    "display(plotMod(PWitness, 'y', 'yp', bins=300))\n",
    "display(plotMod(PWitness, 'z', 'pz', bins=300))\n",
    "display(slicePlotMod(PWitness, 'norm_emit_x',n_slice=100))\n"
   ]
  },
  {
   "cell_type": "markdown",
   "id": "283ad7e8-20ef-4b38-8b2d-5cf6f8b09bca",
   "metadata": {},
   "source": [
    "## Further study at other elements"
   ]
  },
  {
   "cell_type": "code",
   "execution_count": null,
   "id": "1e45a411-f84c-42a0-951a-6f8b8eb723a7",
   "metadata": {},
   "outputs": [],
   "source": [
    "?calcBMAG"
   ]
  },
  {
   "cell_type": "code",
   "execution_count": null,
   "id": "2ed5c0f8-1b0b-4225-9886-7c03dc6f1973",
   "metadata": {},
   "outputs": [],
   "source": [
    "#def addBMAGToDict(dict, targetBeta, targetAlpha)"
   ]
  },
  {
   "cell_type": "code",
   "execution_count": null,
   "id": "d3c367b7-9f8a-430e-bcdf-9e854e1b7db8",
   "metadata": {},
   "outputs": [],
   "source": [
    "P = getBeamAtElement(tao, \"PR10571\")\n",
    "PDrive, PWitness = getDriverAndWitness(P)\n",
    "\n",
    "\n",
    "#PR10571 lucretia live model lattice 2024-10-16\n",
    "targetBetaX = 5.7\n",
    "targetBetaY = 2.6\n",
    "targetAlphaX = -2.1\n",
    "targetAlphaY = 0.0\n",
    "\n",
    "PTwiss = P.twiss(plane = \"x\", fraction = 0.9) | P.twiss(plane = \"y\", fraction = 0.9)\n",
    "PDriveTwiss = PDrive.twiss(plane = \"x\", fraction = 0.9) | PDrive.twiss(plane = \"y\", fraction = 0.9)\n",
    "PWitnessTwiss = PWitness.twiss(plane = \"x\", fraction = 0.9) | PWitness.twiss(plane = \"y\", fraction = 0.9)\n",
    "\n",
    "print(f\"\"\"System BMAG:  {calcBMAG(targetBetaX, targetAlphaX, PTwiss[\"beta_x\"], PTwiss[\"alpha_x\"])}, {calcBMAG(targetBetaY, targetAlphaY, PTwiss[\"beta_y\"], PTwiss[\"alpha_y\"])}\"\"\")\n",
    "print(f\"\"\"Drive BMAG:   {calcBMAG(targetBetaX, targetAlphaX, PDriveTwiss[\"beta_x\"], PDriveTwiss[\"alpha_x\"])}, {calcBMAG(targetBetaY, targetAlphaY, PDriveTwiss[\"beta_y\"], PDriveTwiss[\"alpha_y\"])}\"\"\")\n",
    "print(f\"\"\"Witness BMAG: {calcBMAG(targetBetaX, targetAlphaX, PWitnessTwiss[\"beta_x\"], PWitnessTwiss[\"alpha_x\"])}, {calcBMAG(targetBetaY, targetAlphaY, PWitnessTwiss[\"beta_y\"], PWitnessTwiss[\"alpha_y\"])}\"\"\")\n",
    "\n",
    "print() \n",
    "\n",
    "print(f\"\"\"System emit:  {PTwiss[\"norm_emit_x\"]}, {PTwiss[\"norm_emit_y\"]}\"\"\")\n",
    "print(f\"\"\"Drive emit:   {PDriveTwiss[\"norm_emit_x\"]}, {PDriveTwiss[\"norm_emit_y\"]}\"\"\")\n",
    "print(f\"\"\"Witness emit: {PWitnessTwiss[\"norm_emit_x\"]}, {PWitnessTwiss[\"norm_emit_y\"]}\"\"\")"
   ]
  },
  {
   "cell_type": "code",
   "execution_count": null,
   "id": "c63085ee-011e-491d-8ef9-5142c865167d",
   "metadata": {},
   "outputs": [],
   "source": [
    "P = getBeamAtElement(tao, \"BEGBC20\")\n",
    "PDrive, PWitness = getDriverAndWitness(P)\n",
    "\n",
    "\n",
    "#BEGBC20 lucretia live model lattice 2024-10-16\n",
    "targetBetaX = 11.5\n",
    "targetBetaY = 27.3\n",
    "targetAlphaX = 0.7\n",
    "targetAlphaY = 1.2\n",
    "\n",
    "PTwiss = P.twiss(plane = \"x\", fraction = 0.9) | P.twiss(plane = \"y\", fraction = 0.9)\n",
    "PDriveTwiss = PDrive.twiss(plane = \"x\", fraction = 0.9) | PDrive.twiss(plane = \"y\", fraction = 0.9)\n",
    "PWitnessTwiss = PWitness.twiss(plane = \"x\", fraction = 0.9) | PWitness.twiss(plane = \"y\", fraction = 0.9)\n",
    "\n",
    "\n",
    "print(f\"\"\"Drive beta x / y: {PDriveTwiss[\"beta_x\"]}, {PDriveTwiss[\"beta_y\"]}\"\"\")\n",
    "print(f\"\"\"Drive alpha x / y: {PDriveTwiss[\"alpha_x\"]}, {PDriveTwiss[\"alpha_y\"]}\"\"\")\n",
    "\n",
    "print()\n",
    "\n",
    "print(f\"\"\"System BMAG:  {calcBMAG(targetBetaX, targetAlphaX, PTwiss[\"beta_x\"], PTwiss[\"alpha_x\"])}, {calcBMAG(targetBetaY, targetAlphaY, PTwiss[\"beta_y\"], PTwiss[\"alpha_y\"])}\"\"\")\n",
    "print(f\"\"\"Drive BMAG:   {calcBMAG(targetBetaX, targetAlphaX, PDriveTwiss[\"beta_x\"], PDriveTwiss[\"alpha_x\"])}, {calcBMAG(targetBetaY, targetAlphaY, PDriveTwiss[\"beta_y\"], PDriveTwiss[\"alpha_y\"])}\"\"\")\n",
    "print(f\"\"\"Witness BMAG: {calcBMAG(targetBetaX, targetAlphaX, PWitnessTwiss[\"beta_x\"], PWitnessTwiss[\"alpha_x\"])}, {calcBMAG(targetBetaY, targetAlphaY, PWitnessTwiss[\"beta_y\"], PWitnessTwiss[\"alpha_y\"])}\"\"\")\n",
    "\n",
    "print() \n",
    "\n",
    "print(f\"\"\"System emit:  {PTwiss[\"norm_emit_x\"]}, {PTwiss[\"norm_emit_y\"]}\"\"\")\n",
    "print(f\"\"\"Drive emit:   {PDriveTwiss[\"norm_emit_x\"]}, {PDriveTwiss[\"norm_emit_y\"]}\"\"\")\n",
    "print(f\"\"\"Witness emit: {PWitnessTwiss[\"norm_emit_x\"]}, {PWitnessTwiss[\"norm_emit_y\"]}\"\"\")"
   ]
  },
  {
   "cell_type": "code",
   "execution_count": null,
   "id": "ba6f9d39-3dd3-42e1-8e06-9c8439ad8a95",
   "metadata": {},
   "outputs": [],
   "source": [
    "P = getBeamAtElement(tao, \"MFFF\")\n",
    "PDrive, PWitness = getDriverAndWitness(P)\n",
    "\n",
    "\n",
    "#MFFF lucretia live model lattice 2024-10-16\n",
    "targetBetaX = 11.6\n",
    "targetBetaY = 25.2\n",
    "targetAlphaX = -0.64\n",
    "targetAlphaY = -1.6\n",
    "\n",
    "PTwiss = P.twiss(plane = \"x\", fraction = 0.9) | P.twiss(plane = \"y\", fraction = 0.9)\n",
    "PDriveTwiss = PDrive.twiss(plane = \"x\", fraction = 0.9) | PDrive.twiss(plane = \"y\", fraction = 0.9)\n",
    "PWitnessTwiss = PWitness.twiss(plane = \"x\", fraction = 0.9) | PWitness.twiss(plane = \"y\", fraction = 0.9)\n",
    "\n",
    "\n",
    "print(f\"\"\"Drive beta x / y: {PDriveTwiss[\"beta_x\"]}, {PDriveTwiss[\"beta_y\"]}\"\"\")\n",
    "print(f\"\"\"Drive alpha x / y: {PDriveTwiss[\"alpha_x\"]}, {PDriveTwiss[\"alpha_y\"]}\"\"\")\n",
    "\n",
    "print()\n",
    "\n",
    "print(f\"\"\"System BMAG:  {calcBMAG(targetBetaX, targetAlphaX, PTwiss[\"beta_x\"], PTwiss[\"alpha_x\"])}, {calcBMAG(targetBetaY, targetAlphaY, PTwiss[\"beta_y\"], PTwiss[\"alpha_y\"])}\"\"\")\n",
    "print(f\"\"\"Drive BMAG:   {calcBMAG(targetBetaX, targetAlphaX, PDriveTwiss[\"beta_x\"], PDriveTwiss[\"alpha_x\"])}, {calcBMAG(targetBetaY, targetAlphaY, PDriveTwiss[\"beta_y\"], PDriveTwiss[\"alpha_y\"])}\"\"\")\n",
    "print(f\"\"\"Witness BMAG: {calcBMAG(targetBetaX, targetAlphaX, PWitnessTwiss[\"beta_x\"], PWitnessTwiss[\"alpha_x\"])}, {calcBMAG(targetBetaY, targetAlphaY, PWitnessTwiss[\"beta_y\"], PWitnessTwiss[\"alpha_y\"])}\"\"\")\n",
    "\n",
    "print() \n",
    "\n",
    "print(f\"\"\"System emit:  {PTwiss[\"norm_emit_x\"]}, {PTwiss[\"norm_emit_y\"]}\"\"\")\n",
    "print(f\"\"\"Drive emit:   {PDriveTwiss[\"norm_emit_x\"]}, {PDriveTwiss[\"norm_emit_y\"]}\"\"\")\n",
    "print(f\"\"\"Witness emit: {PWitnessTwiss[\"norm_emit_x\"]}, {PWitnessTwiss[\"norm_emit_y\"]}\"\"\")"
   ]
  },
  {
   "cell_type": "code",
   "execution_count": null,
   "id": "0d44fb36-d670-4d61-aee1-b642d14f18e0",
   "metadata": {},
   "outputs": [],
   "source": [
    "P = getBeamAtElement(tao, \"PENT\")\n",
    "PDrive, PWitness = getDriverAndWitness(P)\n",
    "\n",
    "#PENT lucretia live model lattice 2024-10-16\n",
    "targetBetaX = 0.5\n",
    "targetBetaY = 0.5\n",
    "targetAlphaX = 0.0\n",
    "targetAlphaY = 0.0\n",
    "\n",
    "PTwiss = P.twiss(plane = \"x\", fraction = 0.9) | P.twiss(plane = \"y\", fraction = 0.9)\n",
    "PDriveTwiss = PDrive.twiss(plane = \"x\", fraction = 0.9) | PDrive.twiss(plane = \"y\", fraction = 0.9)\n",
    "PWitnessTwiss = PWitness.twiss(plane = \"x\", fraction = 0.9) | PWitness.twiss(plane = \"y\", fraction = 0.9)\n",
    "\n",
    "print(f\"\"\"System beta x / y: {PTwiss[\"beta_x\"]}, {PTwiss[\"beta_y\"]}\"\"\")\n",
    "print(f\"\"\"System alpha x / y: {PTwiss[\"alpha_x\"]}, {PTwiss[\"alpha_y\"]}\"\"\")\n",
    "\n",
    "print(f\"\"\"Drive beta x / y: {PDriveTwiss[\"beta_x\"]}, {PDriveTwiss[\"beta_y\"]}\"\"\")\n",
    "print(f\"\"\"Drive alpha x / y: {PDriveTwiss[\"alpha_x\"]}, {PDriveTwiss[\"alpha_y\"]}\"\"\")\n",
    "\n",
    "print(f\"\"\"Witness beta x / y: {PWitnessTwiss[\"beta_x\"]}, {PWitnessTwiss[\"beta_y\"]}\"\"\")\n",
    "print(f\"\"\"Witness alpha x / y: {PWitnessTwiss[\"alpha_x\"]}, {PWitnessTwiss[\"alpha_y\"]}\"\"\")\n",
    "\n",
    "print(f\"\"\"System BMAG:  {calcBMAG(targetBetaX, targetAlphaX, PTwiss[\"beta_x\"], PTwiss[\"alpha_x\"])}, {calcBMAG(targetBetaY, targetAlphaY, PTwiss[\"beta_y\"], PTwiss[\"alpha_y\"])}\"\"\")\n",
    "print(f\"\"\"Drive BMAG:   {calcBMAG(targetBetaX, targetAlphaX, PDriveTwiss[\"beta_x\"], PDriveTwiss[\"alpha_x\"])}, {calcBMAG(targetBetaY, targetAlphaY, PDriveTwiss[\"beta_y\"], PDriveTwiss[\"alpha_y\"])}\"\"\")\n",
    "print(f\"\"\"Witness BMAG: {calcBMAG(targetBetaX, targetAlphaX, PWitnessTwiss[\"beta_x\"], PWitnessTwiss[\"alpha_x\"])}, {calcBMAG(targetBetaY, targetAlphaY, PWitnessTwiss[\"beta_y\"], PWitnessTwiss[\"alpha_y\"])}\"\"\")\n",
    "\n",
    "print() \n",
    "\n",
    "print(f\"\"\"System emit:  {PTwiss[\"norm_emit_x\"]}, {PTwiss[\"norm_emit_y\"]}\"\"\")\n",
    "print(f\"\"\"Drive emit:   {PDriveTwiss[\"norm_emit_x\"]}, {PDriveTwiss[\"norm_emit_y\"]}\"\"\")\n",
    "print(f\"\"\"Witness emit: {PWitnessTwiss[\"norm_emit_x\"]}, {PWitnessTwiss[\"norm_emit_y\"]}\"\"\")"
   ]
  },
  {
   "cell_type": "code",
   "execution_count": null,
   "id": "91cf2a32-c8dd-4d35-9a73-292d3d889719",
   "metadata": {},
   "outputs": [],
   "source": [
    "\n",
    "for activeElement in [\"PR10571\", \"BEGBC20\", \"MFFF\", \"PENT\"]:\n",
    "    print(activeElement)\n",
    "    P = getBeamAtElement(tao, activeElement)\n",
    "    PDrive, PWitness = getDriverAndWitness(P)\n",
    "    \n",
    "    display(plotMod(PDrive, 'x', 'xp',  bins=300))\n",
    "    display(plotMod(PDrive, 'pz', 'x',  bins=300))"
   ]
  },
  {
   "cell_type": "markdown",
   "id": "3904146f-5381-4d06-b5bb-c6754ed82c7b",
   "metadata": {},
   "source": [
    "# Comparing golden lattice to present lattice"
   ]
  },
  {
   "cell_type": "code",
   "execution_count": null,
   "id": "029d1aaa-6f42-47e2-b302-f3b5eb363112",
   "metadata": {},
   "outputs": [],
   "source": [
    "# tao = initializeTao(loadDefaultLatticeTF=True)\n",
    "# tao.cmd(\"show ele PENT\")"
   ]
  },
  {
   "cell_type": "code",
   "execution_count": null,
   "id": "ae5a62ac-e1e6-4be5-b7b2-15796de92880",
   "metadata": {},
   "outputs": [],
   "source": [
    "# tao = initializeTao(loadDefaultLatticeTF=False)\n",
    "# tao.cmd(\"show ele PENT\")"
   ]
  },
  {
   "cell_type": "code",
   "execution_count": null,
   "id": "46abb2ec-d664-4e3a-85c6-0deabfd22290",
   "metadata": {},
   "outputs": [],
   "source": [
    "# tao = initializeTao(loadDefaultLatticeTF=True)\n",
    "# getMatrix(tao, \"BEGBC20\", \"PENT\", print = True);\n",
    "\n",
    "# print()\n",
    "\n",
    "# tao = initializeTao(loadDefaultLatticeTF=False)\n",
    "# getMatrix(tao, \"BEGBC20\", \"PENT\", print = True);"
   ]
  }
 ],
 "metadata": {
  "kernelspec": {
   "display_name": "Python 3 (ipykernel)",
   "language": "python",
   "name": "python3"
  },
  "language_info": {
   "codemirror_mode": {
    "name": "ipython",
    "version": 3
   },
   "file_extension": ".py",
   "mimetype": "text/x-python",
   "name": "python",
   "nbconvert_exporter": "python",
   "pygments_lexer": "ipython3",
   "version": "3.11.8"
  }
 },
 "nbformat": 4,
 "nbformat_minor": 5
}

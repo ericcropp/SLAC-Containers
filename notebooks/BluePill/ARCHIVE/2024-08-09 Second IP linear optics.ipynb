{
 "cells": [
  {
   "cell_type": "code",
   "execution_count": 1,
   "id": "a4eb48b6-5b07-4998-a814-21d0cdf04789",
   "metadata": {},
   "outputs": [],
   "source": [
    "from UTILITY_quickstart import *\n",
    "import yaml\n",
    "\n",
    "with open('setLattice_defaults.yml', 'r') as file:\n",
    "    importedDefaultSettings = yaml.safe_load(file)"
   ]
  },
  {
   "cell_type": "code",
   "execution_count": 2,
   "id": "90e7bc21-7c40-4998-aac9-d1d2b8d54fa2",
   "metadata": {},
   "outputs": [
    {
     "name": "stdout",
     "output_type": "stream",
     "text": [
      "Environment set to:  /Users/nmajik/Documents/SLAC/FACET2-Bmad-PyTao\n",
      "Tracking to end\n",
      "CSR off\n",
      "Overwriting lattice with setLattice() defaults\n",
      "No defaults file provided to setLattice(). Using setLattice_defaults.yml\n",
      "WARNING! No beam file is specified!\n",
      "Number of macro particles defined by input file\n"
     ]
    }
   ],
   "source": [
    "tao = initializeTao(\n",
    "    #loadDefaultLatticeTF=True\n",
    ")"
   ]
  },
  {
   "cell_type": "code",
   "execution_count": 3,
   "id": "60192bf4-3cfc-47a6-85f3-6d0ad08e57c4",
   "metadata": {},
   "outputs": [
    {
     "data": {
      "text/plain": [
       "['Symplectic Error:  8.88E-16',\n",
       " '',\n",
       " '    -3.51512995    -0.02161102     0.00000000     0.00000000     0.00000000     0.00000000   :  9.25998653E-30',\n",
       " '    -0.30016059    -0.28632989     0.00000000     0.00000000     0.00000000     0.00000000   :  5.51167590E-31',\n",
       " '    -0.00000000     0.00000000    -1.96071599     0.00429033     0.00000000     0.05592023   : -1.51663943E-20',\n",
       " '    -0.00000000     0.00000000    -0.13491068    -0.50972257     0.00000000     0.00600002   :  1.43935653E-20',\n",
       " '    -0.00000000    -0.00000000     0.00422009    -0.02852955     1.00000000    -0.00000581   : -3.04325333E-17',\n",
       " '     0.00000000     0.00000000     0.00000000     0.00000000     0.00000000     1.00000000   : -1.57772181E-30']"
      ]
     },
     "execution_count": 3,
     "metadata": {},
     "output_type": "execute_result"
    }
   ],
   "source": [
    "#2024-08-10: These are the SpecLine GUI values to image IPWS1 to DTOTR; M12 = M34 = 0\n",
    "setQuadkG(tao,\"Q0D\", -115.8)\n",
    "setQuadkG(tao,\"Q1D\", 180.7)\n",
    "setQuadkG(tao,\"Q2D\", -115.8)\n",
    "tao.cmd(\"show matrix IPWS1 DTOTR\")"
   ]
  },
  {
   "cell_type": "code",
   "execution_count": 4,
   "id": "a8e9d007-f74c-4258-8593-aced797dcc55",
   "metadata": {},
   "outputs": [
    {
     "data": {
      "text/plain": [
       "['Symplectic Error:  1.11E-15',\n",
       " '',\n",
       " '   -10.55618182    -0.00001294    -0.00000000    -0.00000000     0.00000000     0.00000000   : -1.64811166E-28',\n",
       " '    -0.61084491    -0.09473197    -0.00000000    -0.00000000     0.00000000     0.00000000   : -3.16495476E-30',\n",
       " '    -0.00000000     0.00000000     2.39569551    -0.00000352     0.00000000     0.05592023   : -1.09184850E-18',\n",
       " '    -0.00000000     0.00000000     0.28891371     0.41741489     0.00000000     0.00600002   : -3.76594780E-20',\n",
       " '    -0.00000000    -0.00000000     0.00178190     0.02334196     1.00000000    -0.00000578   : -1.01265087E-16',\n",
       " '     0.00000000     0.00000000     0.00000000     0.00000000     0.00000000     1.00000000   :  4.73316543E-30']"
      ]
     },
     "execution_count": 4,
     "metadata": {},
     "output_type": "execute_result"
    }
   ],
   "source": [
    "setLattice(tao)\n",
    "tao.cmd(\"show matrix USTHZ DTOTR\")"
   ]
  },
  {
   "cell_type": "code",
   "execution_count": 5,
   "id": "63e2821e-d814-4f3b-b1cb-56b8fd94ba51",
   "metadata": {},
   "outputs": [
    {
     "data": {
      "text/plain": [
       "2.39569550653177"
      ]
     },
     "execution_count": 5,
     "metadata": {},
     "output_type": "execute_result"
    }
   ],
   "source": [
    "transportMatrix = (tao.matrix(\"USTHZ\",\"DTOTR\"))[\"mat6\"]\n",
    "transportMatrix[0][0]\n",
    "transportMatrix[0][1]\n",
    "transportMatrix[2][2]"
   ]
  },
  {
   "cell_type": "code",
   "execution_count": 6,
   "id": "ee332b54-30b5-468e-96ee-6bb880b33f41",
   "metadata": {},
   "outputs": [],
   "source": [
    "pbounds = {\n",
    "    # 'Q5FFkG': eval(importedDefaultSettings[\"Q5FFkGBounds\"]),\n",
    "    # 'Q4FFkG': eval(importedDefaultSettings[\"Q4FFkGBounds\"]),\n",
    "    # 'Q3FFkG': eval(importedDefaultSettings[\"Q3FFkGBounds\"]),\n",
    "    'Q2FFkG': eval(importedDefaultSettings[\"Q2FFkGBounds\"]),\n",
    "    'Q1FFkG': eval(importedDefaultSettings[\"Q1FFkGBounds\"]),\n",
    "    'Q0FFkG': eval(importedDefaultSettings[\"Q0FFkGBounds\"]),\n",
    "    'Q0DkG':  eval(importedDefaultSettings[\"Q0DkGBounds\"]),\n",
    "    'Q1DkG':  eval(importedDefaultSettings[\"Q1DkGBounds\"]),\n",
    "    'Q2DkG':  eval(importedDefaultSettings[\"Q2DkGBounds\"]),\n",
    "}"
   ]
  },
  {
   "cell_type": "code",
   "execution_count": 7,
   "id": "c8d57347-33c4-4a9f-8e62-a4838b8a77f9",
   "metadata": {},
   "outputs": [],
   "source": [
    "def rampToZero(val, thresh, scale = 1):\n",
    "    return (max(val, thresh) - thresh) / scale\n",
    "\n",
    "def specificOptimizer(\n",
    "    self,\n",
    "    **kwargs\n",
    "):\n",
    "\n",
    "    self.totalNumEvals += 1\n",
    "    self.displayEvals()\n",
    "\n",
    "    savedData = kwargs\n",
    "    \n",
    "    badValue = -1e300  #The value returned for illegal config. Should be colossal. Double limit ~= 1e308\n",
    "    bigCost  = 1e50   #Should be large enough to dominate any \"normal\" return value but be dominated by badValue\n",
    "    \n",
    "    try: #This try block deals with bad configurations. Instead of causing the optimizer to halt we now 'except' a low value\n",
    "        setLattice(tao, **kwargs)\n",
    "\n",
    "    except:\n",
    "        return badValue * 5\n",
    "\n",
    "    \n",
    "    try: \n",
    "        transportMatrix = (tao.matrix(\"USTHZ\",\"DTOTR\"))[\"mat6\"]\n",
    "        savedData[\"R11\"] = transportMatrix[0][0]\n",
    "        savedData[\"R12\"] = transportMatrix[0][1]\n",
    "\n",
    "        savedData[\"R33\"] = transportMatrix[2][2]\n",
    "        savedData[\"R34\"] = transportMatrix[2][3]\n",
    "        \n",
    "        \n",
    "            \n",
    "    except:\n",
    "        return badValue\n",
    "\n",
    "\n",
    "\n",
    "\n",
    "    savedData[\"maximizeMe\"] = 1 / np.mean([\n",
    "        #abs(1 - savedData[\"R11\"]),\n",
    "        abs(savedData[\"R12\"]),\n",
    "        \n",
    "        #abs(1 - savedData[\"R33\"]),\n",
    "        #abs(1 - abs(savedData[\"R33\"])),\n",
    "        abs(savedData[\"R34\"]),\n",
    "\n",
    "        1e-20 #Prevent infinities\n",
    "    ])\n",
    "    \n",
    "    \n",
    "\n",
    "    \n",
    "    #Collect desired data as a pandas Series\n",
    "    tmpData = pd.Series( savedData ) \n",
    "    self.history = pd.concat([self.history, tmpData.to_frame().T])\n",
    "\n",
    "    #Optional: Write to file\n",
    "    self.history.to_json('optimizerHistory.json', orient='records')\n",
    "    \n",
    "    self.updatePlot()\n",
    "\n",
    "\n",
    "    return savedData[\"maximizeMe\"]\n",
    "\n",
    "\n",
    "\n",
    "\n",
    "# Function to create optimizerWrapper based on pbounds\n",
    "def create_optimizer_wrapper(pbounds):\n",
    "    param_names = list(pbounds.keys())\n",
    "    \n",
    "    def optimizerWrapper(self, **kwargs):\n",
    "        params = {name: kwargs.get(name, None) for name in param_names}\n",
    "        if None in params.values():\n",
    "            raise ValueError(\"All parameters must be provided\")\n",
    "        return specificOptimizer(self, **params)\n",
    "    \n",
    "    return optimizerWrapper\n",
    "\n",
    "# Create the optimizerWrapper function\n",
    "optimizerWrapper = create_optimizer_wrapper(pbounds)"
   ]
  },
  {
   "cell_type": "code",
   "execution_count": 8,
   "id": "1a1b969e-c321-49cb-9a7f-5c065238ec5a",
   "metadata": {},
   "outputs": [],
   "source": [
    "class OptimizationProblem:\n",
    "    def __init__(self):\n",
    "        self.history = pd.DataFrame()\n",
    "        self.totalNumEvals = 0\n",
    "        self.plot_display_handle = None\n",
    "        self.evals_display_handle = None\n",
    "\n",
    "\n",
    "    def updatePlot(self):\n",
    "        plt.figure()\n",
    "        plotKey = \"maximizeMe\"\n",
    "        plt.plot(np.arange(len(self.history[plotKey])), self.history[plotKey], '-')\n",
    "        \n",
    "        plt.title('Optimization History')\n",
    "        plt.xlabel('Evaluation #')\n",
    "        plt.ylabel(plotKey)\n",
    "        plt.yscale('log')\n",
    "        plt.grid(True)\n",
    "        \n",
    "        \n",
    "        if self.plot_display_handle is None:\n",
    "            self.plot_display_handle = display(plt.gcf(), display_id=True)\n",
    "        else:\n",
    "            update_display(plt.gcf(), display_id=self.plot_display_handle.display_id)\n",
    "        plt.close()\n",
    "\n",
    "    def displayEvals(self):\n",
    "        if self.evals_display_handle is None:\n",
    "            self.evals_display_handle = display(f\"Total Num Evals: {self.totalNumEvals}\", display_id=True)\n",
    "        else:\n",
    "            update_display(f\"Total Num Evals: {self.totalNumEvals}\", display_id=self.evals_display_handle.display_id)\n",
    "\n",
    "# Attach the function to the class as a method\n",
    "OptimizationProblem.optimizerWrapper = optimizerWrapper\n",
    "\n",
    "# Instantiate the optimization problem\n",
    "problem = OptimizationProblem()"
   ]
  },
  {
   "cell_type": "code",
   "execution_count": 9,
   "id": "906cb5b6-33b1-4ff1-ad05-05391487b9f2",
   "metadata": {},
   "outputs": [],
   "source": [
    "from scipy.optimize import differential_evolution\n",
    "\n",
    "# Convert pbounds to the format required by differential_evolution\n",
    "bounds = [(low, high) for (low, high) in pbounds.values()]\n",
    "param_names = list(pbounds.keys())\n",
    "\n",
    "#scipy.optimize wants to optimize a function which is passed a vector of all the parameters\n",
    "#This programmatically wraps the existing wrapper (ugh...) to handle this format\n",
    "def create_DE_wrapper(obj, param_names):\n",
    "    def wrapperDE(params):\n",
    "        param_dict = dict(zip(param_names, params))\n",
    "\n",
    "        #bayes_opt is a maximizer but differential_evolution is a minimizer... hence the inversion\n",
    "        return -1*obj.optimizerWrapper(**param_dict)\n",
    "    \n",
    "    return wrapperDE\n",
    "\n",
    "wrapperDE = create_DE_wrapper(problem, param_names)"
   ]
  },
  {
   "cell_type": "code",
   "execution_count": 10,
   "id": "08875d35-645f-4c87-aff1-d18ef8db3142",
   "metadata": {},
   "outputs": [],
   "source": [
    "defaultSettingsVector = [importedDefaultSettings[key] for key in list(pbounds.keys())]"
   ]
  },
  {
   "cell_type": "code",
   "execution_count": null,
   "id": "a6d01f22-3b72-41e8-807e-efe62d9d193c",
   "metadata": {},
   "outputs": [
    {
     "data": {
      "text/plain": [
       "'Total Num Evals: 340'"
      ]
     },
     "metadata": {},
     "output_type": "display_data"
    },
    {
     "data": {
      "image/png": "[encoded data removed]",
      "text/plain": [
       "<Figure size 640x480 with 1 Axes>"
      ]
     },
     "metadata": {},
     "output_type": "display_data"
    }
   ],
   "source": [
    "#Optional: Define list of starting points\n",
    "totalPopSize = 50  # Total population size\n",
    "numDimensions = len(bounds)  # Number of parameters\n",
    "\n",
    "#Uniformly distributed\n",
    "populationDE = np.random.rand(totalPopSize, numDimensions)\n",
    "for i in range(numDimensions):\n",
    "    low, high = bounds[i]\n",
    "    populationDE[:, i] = low + populationDE[:, i] * (high - low)\n",
    "\n",
    "#Normally distributed\n",
    "# populationDE = np.zeros((totalPopSize, numDimensions))\n",
    "# for i in range(numDimensions):\n",
    "#     low, high = bounds[i]\n",
    "\n",
    "#     #Define mean based on bounds\n",
    "#     #mean = (high + low) / 2\n",
    "\n",
    "#     #Optional: Define mean based on defaultSettingsVector\n",
    "#     mean = defaultSettingsVector[i]\n",
    "    \n",
    "#     std_dev = (high - low) / 5\n",
    "#     populationDE[:, i] = np.random.normal(mean, std_dev, totalPopSize)\n",
    "\n",
    "#Optional: Add specific points to initial evaluation list\n",
    "#populationDE = np.vstack([[ np.mean(i) for i in bounds ], populationDE])\n",
    "#populationDE = np.vstack([[ defaultSettingsVector ], populationDE])\n",
    "\n",
    "# result = differential_evolution(\n",
    "#     wrapperDE, \n",
    "#     bounds,\n",
    "#     maxiter=1000, \n",
    "#     disp=True,\n",
    "#     polish = False, \n",
    "#     init = populationDE\n",
    "# )\n",
    "\n",
    "from scipy.optimize import minimize\n",
    "\n",
    "\n",
    "#Optional: Manually define starting simplex\n",
    "# initial_simplex = np.tile(defaultSettingsVector, (numDimensions + 1, 1))\n",
    "# for i in range(1, numDimensions + 1):\n",
    "#     initial_simplex[i][i - 1] *= 1.1\n",
    "\n",
    "result = minimize(\n",
    "    wrapperDE, \n",
    "    defaultSettingsVector,\n",
    "    method = \"Nelder-Mead\",\n",
    "    bounds = bounds,\n",
    "    #options={'initial_simplex': initial_simplex}\n",
    ")\n",
    "\n",
    "# result = minimize(\n",
    "#     wrapperDE, \n",
    "#     defaultSettingsVector,\n",
    "#     method = \"L-BFGS-B\",\n",
    "#     bounds = bounds,\n",
    "#     #options = {\"eps\": [0.001*x for x in defaultSettingsVector]}\n",
    "#     options = {\"eps\": [0.1 for x in defaultSettingsVector]}\n",
    "# )\n",
    "\n",
    "print(problem.history) "
   ]
  },
  {
   "cell_type": "code",
   "execution_count": null,
   "id": "a467bf9f-3f16-4c61-b04f-0fdaa4497cc6",
   "metadata": {},
   "outputs": [],
   "source": []
  }
 ],
 "metadata": {
  "kernelspec": {
   "display_name": "Python 3 (ipykernel)",
   "language": "python",
   "name": "python3"
  },
  "language_info": {
   "codemirror_mode": {
    "name": "ipython",
    "version": 3
   },
   "file_extension": ".py",
   "mimetype": "text/x-python",
   "name": "python",
   "nbconvert_exporter": "python",
   "pygments_lexer": "ipython3",
   "version": "3.11.8"
  }
 },
 "nbformat": 4,
 "nbformat_minor": 5
}

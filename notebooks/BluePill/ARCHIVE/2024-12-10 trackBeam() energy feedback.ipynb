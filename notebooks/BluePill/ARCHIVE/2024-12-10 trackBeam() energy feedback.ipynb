{
 "cells": [
  {
   "cell_type": "code",
   "execution_count": 1,
   "id": "fa7ad389-97b2-49ab-a117-39834c4b0775",
   "metadata": {},
   "outputs": [],
   "source": [
    "from UTILITY_quickstart import *\n",
    "import yaml\n",
    "\n",
    "with open('setLattice_defaults.yml', 'r') as file:\n",
    "    importedDefaultSettings = yaml.safe_load(file)"
   ]
  },
  {
   "cell_type": "code",
   "execution_count": 2,
   "id": "883f98ab-ca55-439c-9fdb-04b1a45b5e4f",
   "metadata": {},
   "outputs": [
    {
     "name": "stdout",
     "output_type": "stream",
     "text": [
      "Environment set to:  /Users/nmajik/Documents/SLAC/FACET2-Bmad-PyTao\n",
      "Tracking to end\n",
      "CSR off\n",
      "Overwriting lattice with setLattice() defaults\n",
      "No defaults file provided to setLattice(). Using setLattice_defaults.yml\n",
      "Number of macro particles = 10000.0\n",
      "Loaded activeBeamFile.h5\n",
      "Set track_start = L0AFEND, track_end = end\n",
      "Set track_end = BEGBC14_1\n",
      "Tracking!\n",
      "Also setting BC14 energy = 4.5 GeV, from 4.4112960151485305 GeV\n",
      "Beam centered at BEGBC14 written to patchBeamFile.h5\n",
      "Loaded patchBeamFile.h5\n",
      "Set track_start = BEGBC14_1, track_end = end\n",
      "Set track_end = BEGBC20\n",
      "Tracking!\n",
      "Also setting BC20 energy = 10.0 GeV, from 9.909581183389012 GeV\n",
      "Beam centered at BEGBC20 written to patchBeamFile.h5\n",
      "Loaded patchBeamFile.h5\n",
      "Set track_start = BEGBC20, track_end = end\n",
      "Set track_end = MFFF\n",
      "Tracking!\n",
      "Beam centered at MFFF written to patchBeamFile.h5\n",
      "Loaded patchBeamFile.h5\n",
      "Set track_start = MFFF, track_end = end\n",
      "Tracking!\n",
      "trackBeam() exiting\n"
     ]
    }
   ],
   "source": [
    "csrTF = False\n",
    "\n",
    "\n",
    "inputBeamFilePathSuffix = importedDefaultSettings[\"inputBeamFilePathSuffix\"]\n",
    "tao = initializeTao(\n",
    "    #inputBeamFilePathSuffix = '/beams/nmmToL0AFEND_2bunch_2024-02-16Clean/2024-02-16_2bunch_1e5Downsample_nudgeWeights.h5',\n",
    "    inputBeamFilePathSuffix = inputBeamFilePathSuffix,\n",
    "    \n",
    "    csrTF = csrTF,\n",
    "    numMacroParticles=1e4,\n",
    ")\n",
    "\n",
    "trackBeam(tao, \n",
    "          centerBC14 = True, \n",
    "          assertBC14Energy = True,\n",
    "          #assertBC14Energy = 4.6e9,\n",
    "          centerBC20 = True, \n",
    "          assertBC20Energy = True,\n",
    "          centerMFFF = True, \n",
    "          verbose = True)"
   ]
  },
  {
   "cell_type": "code",
   "execution_count": 3,
   "id": "06af20f2-565e-44e0-9815-d93d01b00c33",
   "metadata": {},
   "outputs": [],
   "source": [
    "checkElements = [\"ENDDL10\", \"BEGBC11_1\", \"BC11CEND\", \"BEGBC14_1\", \"ENDBC14_2\", \"BEGBC20\", \"MFFF\", \"PENT\"]\n",
    "\n",
    "allBeams = { key: getBeamAtElement(tao, key) for key in checkElements } \n"
   ]
  },
  {
   "cell_type": "code",
   "execution_count": 4,
   "id": "cfe1699a-09af-427f-8132-cd9ca40cc429",
   "metadata": {},
   "outputs": [
    {
     "name": "stdout",
     "output_type": "stream",
     "text": [
      "ENDDL10 : 0.12311947102552812\n",
      "BEGBC11_1 : 0.3320202293804154\n",
      "BC11CEND : 0.3320202289357041\n",
      "BEGBC14_1 : 4.500598872529414\n",
      "ENDBC14_2 : 4.500598670049242\n",
      "BEGBC20 : 10.009643033960751\n",
      "MFFF : 10.00964159392082\n",
      "PENT : 10.009641594049832\n"
     ]
    }
   ],
   "source": [
    "for key in allBeams.keys():\n",
    "    print(f\"\"\"{key} : {1e-9 * allBeams[key][\"mean_energy\"]}\"\"\")"
   ]
  },
  {
   "cell_type": "code",
   "execution_count": 5,
   "id": "e22eba27-432d-409e-9f05-5adbcc6e7c72",
   "metadata": {},
   "outputs": [
    {
     "data": {
      "text/plain": [
       "10009624072.665478"
      ]
     },
     "execution_count": 5,
     "metadata": {},
     "output_type": "execute_result"
    }
   ],
   "source": [
    "P = allBeams[\"PENT\"]\n",
    "PCorrected = centerBeam(P, assertEnergy = 10e9)\n",
    "PCorrected[\"mean_energy\"]"
   ]
  },
  {
   "cell_type": "code",
   "execution_count": 6,
   "id": "9edb83ad-c289-4aaf-a669-acc2b36e4d81",
   "metadata": {},
   "outputs": [
    {
     "data": {
      "text/plain": [
       "\u001b[0;31mSignature:\u001b[0m\n",
       "\u001b[0mtrackBeam\u001b[0m\u001b[0;34m(\u001b[0m\u001b[0;34m\u001b[0m\n",
       "\u001b[0;34m\u001b[0m    \u001b[0mtao\u001b[0m\u001b[0;34m,\u001b[0m\u001b[0;34m\u001b[0m\n",
       "\u001b[0;34m\u001b[0m    \u001b[0mtrackStart\u001b[0m\u001b[0;34m=\u001b[0m\u001b[0;34m'L0AFEND'\u001b[0m\u001b[0;34m,\u001b[0m\u001b[0;34m\u001b[0m\n",
       "\u001b[0;34m\u001b[0m    \u001b[0mtrackEnd\u001b[0m\u001b[0;34m=\u001b[0m\u001b[0;34m'end'\u001b[0m\u001b[0;34m,\u001b[0m\u001b[0;34m\u001b[0m\n",
       "\u001b[0;34m\u001b[0m    \u001b[0mlaserHeater\u001b[0m\u001b[0;34m=\u001b[0m\u001b[0;32mFalse\u001b[0m\u001b[0;34m,\u001b[0m\u001b[0;34m\u001b[0m\n",
       "\u001b[0;34m\u001b[0m    \u001b[0mcenterBC14\u001b[0m\u001b[0;34m=\u001b[0m\u001b[0;32mFalse\u001b[0m\u001b[0;34m,\u001b[0m\u001b[0;34m\u001b[0m\n",
       "\u001b[0;34m\u001b[0m    \u001b[0massertBC14Energy\u001b[0m\u001b[0;34m=\u001b[0m\u001b[0;32mFalse\u001b[0m\u001b[0;34m,\u001b[0m\u001b[0;34m\u001b[0m\n",
       "\u001b[0;34m\u001b[0m    \u001b[0mcenterBC20\u001b[0m\u001b[0;34m=\u001b[0m\u001b[0;32mFalse\u001b[0m\u001b[0;34m,\u001b[0m\u001b[0;34m\u001b[0m\n",
       "\u001b[0;34m\u001b[0m    \u001b[0massertBC20Energy\u001b[0m\u001b[0;34m=\u001b[0m\u001b[0;32mFalse\u001b[0m\u001b[0;34m,\u001b[0m\u001b[0;34m\u001b[0m\n",
       "\u001b[0;34m\u001b[0m    \u001b[0mallCollimatorRules\u001b[0m\u001b[0;34m=\u001b[0m\u001b[0;32mNone\u001b[0m\u001b[0;34m,\u001b[0m\u001b[0;34m\u001b[0m\n",
       "\u001b[0;34m\u001b[0m    \u001b[0mcenterMFFF\u001b[0m\u001b[0;34m=\u001b[0m\u001b[0;32mFalse\u001b[0m\u001b[0;34m,\u001b[0m\u001b[0;34m\u001b[0m\n",
       "\u001b[0;34m\u001b[0m    \u001b[0mverbose\u001b[0m\u001b[0;34m=\u001b[0m\u001b[0;32mFalse\u001b[0m\u001b[0;34m,\u001b[0m\u001b[0;34m\u001b[0m\n",
       "\u001b[0;34m\u001b[0m    \u001b[0;34m**\u001b[0m\u001b[0mkwargs\u001b[0m\u001b[0;34m,\u001b[0m\u001b[0;34m\u001b[0m\n",
       "\u001b[0;34m\u001b[0m\u001b[0;34m)\u001b[0m\u001b[0;34m\u001b[0m\u001b[0;34m\u001b[0m\u001b[0m\n",
       "\u001b[0;31mDocstring:\u001b[0m\n",
       "Tracks the beam in activeBeamFile.h5 through the lattice presently in tao from trackStart to trackEnd\n",
       "\n",
       "Some special options are available but disabled by default\n",
       "* Centering\n",
       " * At some selected treaty points, remove net offsets to transverse position and angle\n",
       "* Assert energy\n",
       " * Centering must be enabled. Can either set True (for default energy at that point) or the desired energy in eV. This is sort of a virtual energy feedback\n",
       "* Laser heater\n",
       " * Refer to addLHmodulation(). Need to pass additional options to trackBeam() as **kwargs!\n",
       "* BC20 collimators\n",
       " * Refer to collimateBeam(). Collimator positions passed as allCollimatorRules\n",
       "\u001b[0;31mFile:\u001b[0m      ~/Documents/SLAC/FACET2-Bmad-PyTao/UTILITY_quickstart.py\n",
       "\u001b[0;31mType:\u001b[0m      function"
      ]
     },
     "metadata": {},
     "output_type": "display_data"
    }
   ],
   "source": [
    "?trackBeam"
   ]
  },
  {
   "cell_type": "code",
   "execution_count": null,
   "id": "50d05ad6-adee-4403-bb57-2f52e255e269",
   "metadata": {},
   "outputs": [],
   "source": []
  }
 ],
 "metadata": {
  "kernelspec": {
   "display_name": "Python 3 (ipykernel)",
   "language": "python",
   "name": "python3"
  },
  "language_info": {
   "codemirror_mode": {
    "name": "ipython",
    "version": 3
   },
   "file_extension": ".py",
   "mimetype": "text/x-python",
   "name": "python",
   "nbconvert_exporter": "python",
   "pygments_lexer": "ipython3",
   "version": "3.11.8"
  }
 },
 "nbformat": 4,
 "nbformat_minor": 5
}

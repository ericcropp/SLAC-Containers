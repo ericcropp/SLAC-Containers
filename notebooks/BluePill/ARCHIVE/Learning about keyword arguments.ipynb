{
 "cells": [
  {
   "cell_type": "code",
   "execution_count": 1,
   "id": "4d88e178-baaf-42ed-8155-8b2c959b7626",
   "metadata": {},
   "outputs": [],
   "source": [
    "def testFunc(\n",
    "    a = 0,\n",
    "    b = 0,\n",
    "    c = 0\n",
    "):\n",
    "    return [a, b, c]"
   ]
  },
  {
   "cell_type": "code",
   "execution_count": 3,
   "id": "3aab2bb8-710a-43dd-85eb-c0a1df9e4a57",
   "metadata": {},
   "outputs": [
    {
     "data": {
      "text/plain": [
       "[5, 0, 0]"
      ]
     },
     "execution_count": 3,
     "metadata": {},
     "output_type": "execute_result"
    }
   ],
   "source": [
    "testFunc(a = 5)"
   ]
  },
  {
   "cell_type": "code",
   "execution_count": 4,
   "id": "d078c917-523f-41fa-a9d3-7882fe3a42b2",
   "metadata": {},
   "outputs": [
    {
     "data": {
      "text/plain": [
       "[1, 5, 0]"
      ]
     },
     "execution_count": 4,
     "metadata": {},
     "output_type": "execute_result"
    }
   ],
   "source": [
    "testFunc(b = 5, a = 1)"
   ]
  },
  {
   "cell_type": "code",
   "execution_count": 6,
   "id": "b1f2ca34-b102-4be8-af4a-77caf55a3bf9",
   "metadata": {},
   "outputs": [
    {
     "data": {
      "text/plain": [
       "[5, 0, 0]"
      ]
     },
     "execution_count": 6,
     "metadata": {},
     "output_type": "execute_result"
    }
   ],
   "source": [
    "testFunc(**{\"a\": 5})"
   ]
  },
  {
   "cell_type": "code",
   "execution_count": 7,
   "id": "4727c575-a049-4ee9-a104-f4e4d1320d5c",
   "metadata": {},
   "outputs": [
    {
     "ename": "TypeError",
     "evalue": "testFunc() got an unexpected keyword argument 'd'",
     "output_type": "error",
     "traceback": [
      "\u001b[0;31m---------------------------------------------------------------------------\u001b[0m",
      "\u001b[0;31mTypeError\u001b[0m                                 Traceback (most recent call last)",
      "Cell \u001b[0;32mIn[7], line 1\u001b[0m\n\u001b[0;32m----> 1\u001b[0m testFunc(\u001b[38;5;241m*\u001b[39m\u001b[38;5;241m*\u001b[39m{\u001b[38;5;124m\"\u001b[39m\u001b[38;5;124ma\u001b[39m\u001b[38;5;124m\"\u001b[39m: \u001b[38;5;241m5\u001b[39m, \u001b[38;5;124m\"\u001b[39m\u001b[38;5;124md\u001b[39m\u001b[38;5;124m\"\u001b[39m: \u001b[38;5;241m1\u001b[39m})\n",
      "\u001b[0;31mTypeError\u001b[0m: testFunc() got an unexpected keyword argument 'd'"
     ]
    }
   ],
   "source": [
    "testFunc(**{\"a\": 5, \"d\": 1})"
   ]
  },
  {
   "cell_type": "code",
   "execution_count": 9,
   "id": "c405fcbf-f696-4054-b97d-f63f8e3f9b92",
   "metadata": {},
   "outputs": [],
   "source": [
    "#To get the function to ignore superfluous elements of the dictionary, use **kwargs\n",
    "def testFunc2(\n",
    "    a = 0,\n",
    "    b = 0,\n",
    "    c = 0,\n",
    "    **kwargs\n",
    "):\n",
    "    return [a, b, c]\n"
   ]
  },
  {
   "cell_type": "code",
   "execution_count": 13,
   "id": "293a17f4-09ed-4bf4-864b-e42e255a4b59",
   "metadata": {},
   "outputs": [
    {
     "data": {
      "text/plain": [
       "[2, 0, 0]"
      ]
     },
     "execution_count": 13,
     "metadata": {},
     "output_type": "execute_result"
    }
   ],
   "source": [
    "testFunc2(a = 2)"
   ]
  },
  {
   "cell_type": "code",
   "execution_count": 14,
   "id": "869c7753-7368-4209-8f76-3d34c78a8d9e",
   "metadata": {},
   "outputs": [
    {
     "data": {
      "text/plain": [
       "[5, 0, 0]"
      ]
     },
     "execution_count": 14,
     "metadata": {},
     "output_type": "execute_result"
    }
   ],
   "source": [
    "testFunc2(**{\"a\": 5})"
   ]
  },
  {
   "cell_type": "code",
   "execution_count": 15,
   "id": "8ac0c75c-2aff-4e9e-bea4-1c01fb5fd793",
   "metadata": {},
   "outputs": [
    {
     "data": {
      "text/plain": [
       "[5, 0, 0]"
      ]
     },
     "execution_count": 15,
     "metadata": {},
     "output_type": "execute_result"
    }
   ],
   "source": [
    "testFunc2(**{\"a\": 5, \"d\": 1})"
   ]
  },
  {
   "cell_type": "code",
   "execution_count": 19,
   "id": "912f1d67-e72a-4275-8794-371d36587069",
   "metadata": {},
   "outputs": [],
   "source": [
    "#Now to figure out how to ensure only one function needs the defaults in the keywords\n",
    "def thisFunctionKnowsTheDefaults(\n",
    "    a = 1,\n",
    "    b = 2,\n",
    "    c = 3,\n",
    "    **kwargs):\n",
    "    return [a, b, c]\n",
    "\n",
    "def thisFunctionDoesNot(\n",
    "    **kwargs\n",
    "):\n",
    "    return thisFunctionKnowsTheDefaults(**kwargs)"
   ]
  },
  {
   "cell_type": "code",
   "execution_count": 25,
   "id": "300588b5-186a-4b8d-946e-6ff900e5686f",
   "metadata": {},
   "outputs": [
    {
     "name": "stdout",
     "output_type": "stream",
     "text": [
      "[1, 2, 3]\n",
      "[5, 2, 3]\n"
     ]
    }
   ],
   "source": [
    "print(thisFunctionKnowsTheDefaults())\n",
    "print(thisFunctionKnowsTheDefaults(**{\"a\": 5, \"d\": 1}))"
   ]
  },
  {
   "cell_type": "code",
   "execution_count": 26,
   "id": "8c267aff-1bb0-49dd-91a5-6c1dff6b1539",
   "metadata": {},
   "outputs": [
    {
     "name": "stdout",
     "output_type": "stream",
     "text": [
      "[1, 2, 3]\n",
      "[5, 2, 3]\n"
     ]
    }
   ],
   "source": [
    "print(thisFunctionDoesNot())\n",
    "print(thisFunctionDoesNot(**{\"a\": 5, \"d\": 1}))"
   ]
  },
  {
   "cell_type": "code",
   "execution_count": 28,
   "id": "cc8030e8-23d0-49d2-ab20-471edc77acb1",
   "metadata": {},
   "outputs": [],
   "source": [
    "def thisFunctionTakesPositionalArguments(aP, dP):\n",
    "    return thisFunctionDoesNot(**{\"a\": aP, \"d\": dP})"
   ]
  },
  {
   "cell_type": "code",
   "execution_count": 29,
   "id": "ea53b59c-d502-45b0-8e33-ad6a3c6eb454",
   "metadata": {},
   "outputs": [
    {
     "name": "stdout",
     "output_type": "stream",
     "text": [
      "[5, 2, 3]\n"
     ]
    }
   ],
   "source": [
    "print(thisFunctionTakesPositionalArguments(5, 11))"
   ]
  },
  {
   "cell_type": "code",
   "execution_count": 36,
   "id": "41f1eaf2-4d11-4ac1-aaf2-b03c26052601",
   "metadata": {},
   "outputs": [],
   "source": [
    "def thisFunctionReturnsAJoinedDictionary(**kwargs):\n",
    "    return kwargs | {\"a\": 7, \"b\": 8}"
   ]
  },
  {
   "cell_type": "code",
   "execution_count": 37,
   "id": "b83bfd75-828e-4faf-9e8d-90e407d5ac85",
   "metadata": {},
   "outputs": [
    {
     "data": {
      "text/plain": [
       "{'e': 2, 'f': 2, 'a': 7, 'b': 8}"
      ]
     },
     "execution_count": 37,
     "metadata": {},
     "output_type": "execute_result"
    }
   ],
   "source": [
    "thisFunctionReturnsAJoinedDictionary(**{\"e\": 2, \"f\": 2})"
   ]
  },
  {
   "cell_type": "code",
   "execution_count": null,
   "id": "ea744f55-e29b-447d-9825-7dee0fac6da6",
   "metadata": {},
   "outputs": [],
   "source": []
  }
 ],
 "metadata": {
  "kernelspec": {
   "display_name": "Python 3 (ipykernel)",
   "language": "python",
   "name": "python3"
  },
  "language_info": {
   "codemirror_mode": {
    "name": "ipython",
    "version": 3
   },
   "file_extension": ".py",
   "mimetype": "text/x-python",
   "name": "python",
   "nbconvert_exporter": "python",
   "pygments_lexer": "ipython3",
   "version": "3.11.8"
  }
 },
 "nbformat": 4,
 "nbformat_minor": 5
}
